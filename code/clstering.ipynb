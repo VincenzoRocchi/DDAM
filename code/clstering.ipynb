{
 "cells": [
  {
   "cell_type": "markdown",
   "metadata": {},
   "source": [
    "# Clustering"
   ]
  },
  {
   "cell_type": "markdown",
   "metadata": {},
   "source": [
    "### evaluation"
   ]
  },
  {
   "cell_type": "markdown",
   "metadata": {},
   "source": [
    "Since you don't currently have a target label to compare against, we'll focus on unsupervised clustering evaluation methods. Here's what we can do:\n",
    "\n",
    "1. Silhouette Analysis:\n",
    "\n",
    "    Calculate: Implement a function in PySpark to compute the silhouette coefficient for your clusters. Resources are available to help with this. I can provide code guidance if needed.\n",
    "    Visualization: Create a box plot or a distribution plot to visualize the distribution of silhouette scores across your data points. You can use libraries like Matplotlib or Seaborn. This will help see how well-defined clusters are.\n",
    "\n",
    "2. Elbow Method (K-Value Exploration):\n",
    "\n",
    "    Iteration: Since you used a ParamGrid, you likely already ran K-Means with different 'k' values (the number of clusters).\n",
    "    WCSS: Calculate the Within-Cluster-Sum-of-Squares (WCSS) for each 'k'. You can obtain this from the fitted KMeans model.\n",
    "    Plot: Create an Elbow plot (WCSS vs. k). Look for a distinct \"elbow\" point suggesting a diminishing return when adding more clusters.\n",
    "\n",
    "3. Visualization (if feasible): **Dimensionality Reduction:**  If your `scaled_production` features can be reasonably reduced to 2 or 3 dimensions using techniques like PCA or t-SNE, create a scatter plot with data points colored by their cluster assignments. This can visually show cluster separation."
   ]
  },
  {
   "cell_type": "markdown",
   "metadata": {},
   "source": [
    "### beyond evaluation"
   ]
  },
  {
   "cell_type": "markdown",
   "metadata": {},
   "source": [
    "1.   Domain Knowledge:\n",
    "        Do the resulting clusters make intuitive sense based on your understanding of brewing processes?\n",
    "        Can you identify any distinguishing characteristics (mean, standard deviation of your original features) that separate the clusters?\n",
    "\n",
    "2.   Utility:\n",
    "        How might these clusters be used? Are there actionable insights for your brewery? Would it be helpful to track cluster memberships of batches over time to detect trends?\n",
    "\n",
    "3.    Further Exploration:\n",
    "        Other Clustering Algorithms: Consider experimenting with algorithms like Gaussian Mixture Models (if you want elliptical clusters) or DBSCAN (if you have noise or don't want to pre-specify the number of clusters)."
   ]
  },
  {
   "cell_type": "markdown",
   "metadata": {},
   "source": [
    "## prep"
   ]
  },
  {
   "cell_type": "code",
   "execution_count": 1,
   "metadata": {},
   "outputs": [
    {
     "name": "stdout",
     "output_type": "stream",
     "text": [
      "C:\\Users\\Vincenzo\\AppData\\Local\\Programs\\Python\\Python38\\python.exe\n"
     ]
    }
   ],
   "source": [
    "import os\n",
    "\n",
    "# Set SPARK_HOME\n",
    "os.environ[\"SPARK_HOME\"] = r\"C:/Spark/spark-3.5.0-bin-hadoop3\"\n",
    "\n",
    "# Set PYTHONPATH\n",
    "spark_home = os.environ.get(\"SPARK_HOME\", \"\")\n",
    "if spark_home:\n",
    "    python_path = os.path.join(spark_home, \"python\")\n",
    "    py4j_zip = os.path.join(spark_home, \"python\", \"lib\", \"py4j-0.10.9.7-src.zip\")\n",
    "    os.environ[\"PYTHONPATH\"] = f\"{python_path};{py4j_zip};{os.environ.get('PYTHONPATH', '')}\"\n",
    "\n",
    "# Set PYSPARK_PYTHON\n",
    "os.environ[\"PYSPARK_PYTHON\"] = r\"C:\\Users\\Vincenzo\\AppData\\Local\\Programs\\Python\\Python38\\python.exe\"\n",
    "print(os.environ.get('PYSPARK_PYTHON'))\n",
    "\n",
    "# Set PATH\n",
    "if spark_home:\n",
    "    os.environ[\"PATH\"] = f\"{python_path};{os.path.join(spark_home, 'bin')};{os.environ.get('PATH', '')}\""
   ]
  },
  {
   "cell_type": "code",
   "execution_count": 2,
   "metadata": {},
   "outputs": [],
   "source": [
    "import findspark\n",
    "findspark.init()\n",
    "\n",
    "import pandas as pd\n",
    "from tqdm import tqdm\n",
    "import numpy as np\n",
    "import seaborn as sns\n",
    "import matplotlib.pyplot as plt\n",
    "import sklearn\n",
    "import gc\n",
    "\n",
    "from pyspark.sql import SparkSession\n",
    "from pyspark.sql import functions as F"
   ]
  },
  {
   "cell_type": "code",
   "execution_count": 3,
   "metadata": {},
   "outputs": [
    {
     "data": {
      "text/html": [
       "\n",
       "            <div>\n",
       "                <p><b>SparkSession - in-memory</b></p>\n",
       "                \n",
       "        <div>\n",
       "            <p><b>SparkContext</b></p>\n",
       "\n",
       "            <p><a href=\"http://localhost:4040\">Spark UI</a></p>\n",
       "\n",
       "            <dl>\n",
       "              <dt>Version</dt>\n",
       "                <dd><code>v3.5.0</code></dd>\n",
       "              <dt>Master</dt>\n",
       "                <dd><code>local[*]</code></dd>\n",
       "              <dt>AppName</dt>\n",
       "                <dd><code>spark</code></dd>\n",
       "            </dl>\n",
       "        </div>\n",
       "        \n",
       "            </div>\n",
       "        "
      ],
      "text/plain": [
       "<pyspark.sql.session.SparkSession at 0x1783f7c85b0>"
      ]
     },
     "execution_count": 3,
     "metadata": {},
     "output_type": "execute_result"
    }
   ],
   "source": [
    "spark = SparkSession.builder.appName(\"spark\").config(\"spark.driver.memory\", \"24g\").getOrCreate()\n",
    "spark"
   ]
  },
  {
   "cell_type": "code",
   "execution_count": 4,
   "metadata": {},
   "outputs": [],
   "source": [
    "spark.conf.set(\"spark.sql.execution.arrow.pyspark.enabled\", \"true\")\n",
    "spark.conf.set(\"spark.sql.execution.arrow.enabled\", \"true\")"
   ]
  },
  {
   "cell_type": "code",
   "execution_count": 5,
   "metadata": {},
   "outputs": [
    {
     "data": {
      "text/plain": [
       "pyspark.sql.dataframe.DataFrame"
      ]
     },
     "execution_count": 5,
     "metadata": {},
     "output_type": "execute_result"
    }
   ],
   "source": [
    "df = spark.read.parquet(r\"c:\\Users\\Vincenzo\\PROJECTS\\DDAM_data\\brewery\\brewery_data_complete_extended.parquet\")\n",
    "type(df)"
   ]
  },
  {
   "cell_type": "code",
   "execution_count": 6,
   "metadata": {},
   "outputs": [],
   "source": [
    "from pyspark.sql.functions import split, col\n",
    "\n",
    "# Split the ratio_column into three parts based on the colon delimiter\n",
    "split_col = split(col(\"Ingredient_Ratio\"), \":\")\n",
    "\n",
    "# Create three separate columns for water, grains, and hops\n",
    "df = df.withColumn(\"water\", split_col.getItem(0).cast(\"double\"))\n",
    "df = df.withColumn(\"grains\", split_col.getItem(1).cast(\"double\"))\n",
    "df = df.withColumn(\"hops\", split_col.getItem(2).cast(\"double\"))\n",
    "df = df.drop(\"Ingredient_Ratio\")"
   ]
  },
  {
   "cell_type": "code",
   "execution_count": 7,
   "metadata": {},
   "outputs": [],
   "source": [
    "# Define a new column with the USD per liter ratio and brewing efficiency\n",
    "df = df.withColumn(\"USD_per_Liter\", F.col(\"Total_Sales\") / F.col(\"Volume_Produced\").cast(\"double\"))\n",
    "df = df.withColumn(\"Brewing_efficency\", F.col(\"Brewhouse_Efficiency\") / F.col(\"Volume_Produced\").cast(\"double\"))"
   ]
  },
  {
   "cell_type": "code",
   "execution_count": 8,
   "metadata": {},
   "outputs": [
    {
     "name": "stdout",
     "output_type": "stream",
     "text": [
      "Numerical columns: ['Batch_ID', 'Fermentation_Time', 'Temperature', 'pH_Level', 'Gravity', 'Alcohol_Content', 'Bitterness', 'Color', 'Volume_Produced', 'Total_Sales', 'Quality_Score', 'Brewhouse_Efficiency', 'Loss_During_Brewing', 'Loss_During_Fermentation', 'Loss_During_Bottling_Kegging', 'water', 'grains', 'hops', 'USD_per_Liter', 'Brewing_efficency']\n",
      "Categorical columns: ['Brew_Date', 'Beer_Style', 'SKU', 'Location']\n"
     ]
    }
   ],
   "source": [
    "from pyspark.sql.types import StringType\n",
    "\n",
    "# Identify numerical and non-numerical columns\n",
    "numerical_cols = [col_name for col_name, data_type in df.dtypes if data_type != 'string']\n",
    "categorical_cols = [col_name for col_name, data_type in df.dtypes if data_type == 'string']\n",
    "\n",
    "print(f'Numerical columns: {numerical_cols}')\n",
    "print(f'Categorical columns: {categorical_cols}')"
   ]
  },
  {
   "cell_type": "code",
   "execution_count": 9,
   "metadata": {},
   "outputs": [],
   "source": [
    "# functions\n",
    "\n",
    "from pyspark.sql.functions import when, col\n",
    "from pyspark.ml.feature import OneHotEncoder, StringIndexer, VectorAssembler\n",
    "from pyspark.ml import Pipeline\n",
    "from pyspark.sql.functions import col, dense_rank, when\n",
    "from pyspark.sql.window import Window\n",
    "\n",
    "def ordinal_encode_pyspark(df, input_col, output_col):\n",
    "    \"\"\" Ordinal encodes a column within a PySpark DataFrame\n",
    "\n",
    "    Args:\n",
    "        df (pyspark.sql.DataFrame): The input Spark DataFrame.\n",
    "        input_col (str): Name of the column to be encoded. Defaults to \"Bitterness\".\n",
    "        output_col (str): Name for the new ordinal encoded column. Defaults to \"Bitterness_ordinal\".\n",
    "    \n",
    "    Returns:\n",
    "        pyspark.sql.DataFrame: The Spark DataFrame with the ordinal encoded column.\n",
    "    \"\"\"\n",
    "\n",
    "    window = Window.orderBy(input_col) \n",
    "    return df.withColumn(output_col, dense_rank().over(window)) \\\n",
    "             .withColumn(output_col, when(col(input_col).isNull(), 0).otherwise(col(output_col))) \\\n",
    "             #.drop(input_col)\n",
    "             \n",
    "def check_distinct_values(df, feature_col):\n",
    "    \"\"\"  \n",
    "    Prints the distinct values of a feature in a PySpark DataFrame.\n",
    "\n",
    "    Args:\n",
    "        df (pyspark.sql.DataFrame): The PySpark DataFrame.\n",
    "        feature_col (str): The name of the feature column.\n",
    "    \"\"\"\n",
    "\n",
    "    distinct_values = df.select(feature_col).distinct().collect()\n",
    "\n",
    "    print(f\"Distinct values in '{feature_col}':\")\n",
    "    for row in distinct_values:\n",
    "        print(row[feature_col]) \n",
    "\n",
    "    # functions\n",
    "\n",
    "def one_hot_encode_column(df, input_col, output_col_prefix=\"encoded\"):\n",
    "    \"\"\" One-hot encodes a specified categorical column, drops intermediary columns,\n",
    "        and allows for specifying the prefix of the output columns.\n",
    "\n",
    "    Args:\n",
    "        df (pyspark.sql.DataFrame): Input DataFrame.\n",
    "        input_col (str): The name of the column containing categorical data.\n",
    "        output_col_prefix (str): Prefix for the generated one-hot encoded column names.\n",
    "\n",
    "    Returns:\n",
    "        pyspark.sql.DataFrame: DataFrame with the one-hot encoded column(s) and \n",
    "                               intermediary columns removed.\n",
    "    \"\"\"\n",
    "\n",
    "    indexer = StringIndexer(inputCol=input_col, outputCol=input_col + \"_index\")\n",
    "    encoder = OneHotEncoder(inputCol=input_col + \"_index\", outputCol=output_col_prefix + input_col + \"features\")\n",
    "    assembler = VectorAssembler(inputCols=[input_col + \"_index\"], outputCol=\"features\") \n",
    "\n",
    "    pipeline = Pipeline(stages=[indexer, assembler, encoder])\n",
    "    transformed_df = pipeline.fit(df).transform(df)\n",
    "\n",
    "    # Drop unnecessary columns\n",
    "    drop_cols = [input_col + \"_index\", \"features\"]\n",
    "    return transformed_df.drop(*drop_cols)  # Dynamic column dropping\n",
    "\n",
    "def discretize_and_encode(df, input_col=\"fermentation_time\"):\n",
    "    \"\"\" Discretizes a feature into bins, one-hot encodes the bins, and preserves the original column\n",
    "\n",
    "    Args:\n",
    "        df (pyspark.sql.DataFrame): Input DataFrame\n",
    "        input_col (str): Name of the column to be discretized and encoded\n",
    "\n",
    "    Returns:\n",
    "        pyspark.sql.DataFrame:  DataFrame with new discretization and encoded columns\n",
    "    \"\"\"\n",
    "\n",
    "    df = df.withColumn(input_col + \"_bin\", \n",
    "                       when((col(input_col) >= 10) & (col(input_col) <= 13), \"Short\")\n",
    "                       .when((col(input_col) >= 14) & (col(input_col) <= 16), \"Medium\")\n",
    "                       .otherwise(\"Long\"))\n",
    "    \n",
    "    return one_hot_encode_column(df, input_col=input_col + \"_bin\") "
   ]
  },
  {
   "cell_type": "code",
   "execution_count": 10,
   "metadata": {},
   "outputs": [
    {
     "name": "stdout",
     "output_type": "stream",
     "text": [
      "+------------------------------------+\n",
      "|encodedfermentation_time_binfeatures|\n",
      "+------------------------------------+\n",
      "|                           (2,[],[])|\n",
      "|                       (2,[0],[1.0])|\n",
      "|                       (2,[0],[1.0])|\n",
      "|                       (2,[1],[1.0])|\n",
      "|                       (2,[1],[1.0])|\n",
      "+------------------------------------+\n",
      "only showing top 5 rows\n",
      "\n"
     ]
    }
   ],
   "source": [
    "#discretize and encode is hardcoded for fermentation time (!!)\n",
    "\n",
    "df = discretize_and_encode(df)\n",
    "df.select(\"encodedfermentation_time_binfeatures\").show(5)"
   ]
  },
  {
   "cell_type": "code",
   "execution_count": 11,
   "metadata": {},
   "outputs": [
    {
     "name": "stdout",
     "output_type": "stream",
     "text": [
      "+-------------------------+\n",
      "|encodedBeer_Stylefeatures|\n",
      "+-------------------------+\n",
      "|                (7,[],[])|\n",
      "|            (7,[2],[1.0])|\n",
      "|                (7,[],[])|\n",
      "|            (7,[0],[1.0])|\n",
      "|            (7,[3],[1.0])|\n",
      "+-------------------------+\n",
      "only showing top 5 rows\n",
      "\n"
     ]
    }
   ],
   "source": [
    "df = one_hot_encode_column(df, \"Beer_Style\")\n",
    "df.select(\"encodedBeer_Stylefeatures\").show(5)"
   ]
  },
  {
   "cell_type": "code",
   "execution_count": 12,
   "metadata": {},
   "outputs": [
    {
     "name": "stdout",
     "output_type": "stream",
     "text": [
      "+------------------+\n",
      "|encodedSKUfeatures|\n",
      "+------------------+\n",
      "|         (3,[],[])|\n",
      "|         (3,[],[])|\n",
      "|         (3,[],[])|\n",
      "|         (3,[],[])|\n",
      "|     (3,[2],[1.0])|\n",
      "+------------------+\n",
      "only showing top 5 rows\n",
      "\n"
     ]
    }
   ],
   "source": [
    "df = one_hot_encode_column(df, \"SKU\")\n",
    "df.select(\"encodedSKUfeatures\").show(5)"
   ]
  },
  {
   "cell_type": "code",
   "execution_count": 13,
   "metadata": {},
   "outputs": [
    {
     "name": "stdout",
     "output_type": "stream",
     "text": [
      "+-----------------------+\n",
      "|encodedLocationfeatures|\n",
      "+-----------------------+\n",
      "|              (9,[],[])|\n",
      "|              (9,[],[])|\n",
      "|          (9,[7],[1.0])|\n",
      "|          (9,[4],[1.0])|\n",
      "|          (9,[3],[1.0])|\n",
      "+-----------------------+\n",
      "only showing top 5 rows\n",
      "\n"
     ]
    }
   ],
   "source": [
    "df = one_hot_encode_column(df, \"Location\")\n",
    "df.select(\"encodedLocationfeatures\").show(5)"
   ]
  },
  {
   "cell_type": "markdown",
   "metadata": {},
   "source": [
    "### only ale - df"
   ]
  },
  {
   "cell_type": "code",
   "execution_count": 14,
   "metadata": {},
   "outputs": [
    {
     "name": "stdout",
     "output_type": "stream",
     "text": [
      "[Row(Beer_Style='Porter'), Row(Beer_Style='Sour'), Row(Beer_Style='Lager'), Row(Beer_Style='Wheat Beer'), Row(Beer_Style='Pilsner'), Row(Beer_Style='Ale'), Row(Beer_Style='Stout'), Row(Beer_Style='IPA')]\n",
      "+----------+-------+\n",
      "|Beer_Style|  count|\n",
      "+----------+-------+\n",
      "|       Ale|1251002|\n",
      "|    Porter|1250773|\n",
      "|      Sour|1250307|\n",
      "|     Stout|1250296|\n",
      "|       IPA|1249603|\n",
      "|     Lager|1249570|\n",
      "|   Pilsner|1249426|\n",
      "|Wheat Beer|1249023|\n",
      "+----------+-------+\n",
      "\n"
     ]
    }
   ],
   "source": [
    "from pyspark.sql.functions import count\n",
    "\n",
    "# 1. Get unique beer styles\n",
    "beer_styles = df.select(\"Beer_Style\").distinct().collect()\n",
    "print(beer_styles)\n",
    "\n",
    "# 2. Count data points per style\n",
    "df.groupBy(\"Beer_Style\") \\\n",
    "  .agg(count(\"*\").alias(\"count\")) \\\n",
    "  .orderBy(\"count\", ascending=False) \\\n",
    "  .show() "
   ]
  },
  {
   "cell_type": "code",
   "execution_count": 15,
   "metadata": {},
   "outputs": [
    {
     "name": "stdout",
     "output_type": "stream",
     "text": [
      "+--------+-------------------+----------+-----+------------+-----------------+------------------+-----------------+------------------+-----------------+----------+-----+---------------+------------------+-----------------+--------------------+-------------------+------------------------+----------------------------+-----+------+----+------------------+--------------------+---------------------+------------------------------------+-------------------------+------------------+-----------------------+\n",
      "|Batch_ID|          Brew_Date|Beer_Style|  SKU|    Location|Fermentation_Time|       Temperature|         pH_Level|           Gravity|  Alcohol_Content|Bitterness|Color|Volume_Produced|       Total_Sales|    Quality_Score|Brewhouse_Efficiency|Loss_During_Brewing|Loss_During_Fermentation|Loss_During_Bottling_Kegging|water|grains|hops|     USD_per_Liter|   Brewing_efficency|fermentation_time_bin|encodedfermentation_time_binfeatures|encodedBeer_Stylefeatures|encodedSKUfeatures|encodedLocationfeatures|\n",
      "+--------+-------------------+----------+-----+------------+-----------------+------------------+-----------------+------------------+-----------------+----------+-----+---------------+------------------+-----------------+--------------------+-------------------+------------------------+----------------------------+-----+------+----+------------------+--------------------+---------------------+------------------------------------+-------------------------+------------------+-----------------------+\n",
      "| 8114651|2020-01-01 00:01:37|       Ale| Kegs| Rajajinagar|               17| 16.41848910394318|5.345260585546188|1.0524314251694946|5.509243080797997|        48|   18|           3173|12050.177463190275|9.671859404043175|   83.09494037181545|  2.136055116262562|       4.634254174098425|          1.4898890677148424|  1.0|  0.35|0.15|3.7977237513993933|0.026188131223389678|                 Long|                       (2,[1],[1.0])|            (7,[0],[1.0])|         (3,[],[])|          (9,[4],[1.0])|\n",
      "| 8715759|2020-01-01 00:01:48|       Ale| Kegs|  Whitefield|               10|17.424614393375766|5.291786621908058| 1.064662042682204|4.859171021614226|        45|    9|           3752| 6278.389850288936| 8.47381192497374|    87.8128259096688| 3.2051089361121203|      1.4783386754434935|           3.051920588503346|  1.0|  0.23|0.15|1.6733448428275415| 0.02340427129788614|                Short|                       (2,[0],[1.0])|            (7,[0],[1.0])|         (3,[],[])|              (9,[],[])|\n",
      "| 6167789|2020-01-01 00:03:09|       Ale|Pints|Marathahalli|               17| 20.37375557905417|4.768508394883426|1.0342821835465446|5.319366431771322|        32|    6|           4486|1665.1818593163712| 9.95303003672959|   89.49078286225225| 1.8399526245700035|      1.6965192352750456|          1.7844538202986184|  1.0|  0.24|0.14|0.3711952428257626|0.019948903892610843|                 Long|                       (2,[1],[1.0])|            (7,[0],[1.0])|     (3,[1],[1.0])|          (9,[3],[1.0])|\n",
      "| 9735697|2020-01-01 00:04:45|       Ale| Cans| Malleswaram|               18|23.044755997808444|4.913972702890977|1.0682219434086422|4.852516359385684|        31|   11|            949|17544.020846210762| 9.93825096899173|   89.08570603659564| 1.5439678298995403|      4.0768283067702615|           2.029045685588873|  1.0|  0.49|0.26|18.486850206755282| 0.09387324134520088|                 Long|                       (2,[1],[1.0])|            (7,[0],[1.0])|     (3,[2],[1.0])|          (9,[7],[1.0])|\n",
      "| 8733764|2020-01-01 00:08:31|       Ale| Cans| Rajajinagar|               16|18.788880676553774|5.326824771572703|1.0650976568736366|5.891893030232726|        50|    7|           4530|14544.057841870412|6.167712697531819|   84.17695797804438| 3.3181845451642475|      2.7250719973474697|          1.9644187134525328|  1.0|  0.31|0.12| 3.210608795114881| 0.01858210992892812|               Medium|                           (2,[],[])|            (7,[0],[1.0])|     (3,[2],[1.0])|          (9,[4],[1.0])|\n",
      "+--------+-------------------+----------+-----+------------+-----------------+------------------+-----------------+------------------+-----------------+----------+-----+---------------+------------------+-----------------+--------------------+-------------------+------------------------+----------------------------+-----+------+----+------------------+--------------------+---------------------+------------------------------------+-------------------------+------------------+-----------------------+\n",
      "only showing top 5 rows\n",
      "\n"
     ]
    }
   ],
   "source": [
    "ale_df = df.filter(df.Beer_Style == \"Ale\")\n",
    "ale_df.show(5)"
   ]
  },
  {
   "cell_type": "markdown",
   "metadata": {},
   "source": [
    "### drop unnecessary"
   ]
  },
  {
   "cell_type": "code",
   "execution_count": 16,
   "metadata": {},
   "outputs": [],
   "source": [
    "ale_df = ale_df.drop(\"Location\", \"SKU\", \"Beer_Style\", \"fermentation_time_bin\")"
   ]
  },
  {
   "cell_type": "code",
   "execution_count": 17,
   "metadata": {},
   "outputs": [],
   "source": [
    "df = df.drop(\"Location\", \"SKU\", \"Beer_Style\", \"fermentation_time_bin\")"
   ]
  },
  {
   "cell_type": "markdown",
   "metadata": {},
   "source": [
    "### sampling"
   ]
  },
  {
   "cell_type": "code",
   "execution_count": 18,
   "metadata": {},
   "outputs": [],
   "source": [
    "sample = df.sample(0.1, seed=42) # 10% of the data"
   ]
  },
  {
   "cell_type": "code",
   "execution_count": 19,
   "metadata": {},
   "outputs": [],
   "source": [
    "from pyspark.ml import Pipeline\n",
    "from pyspark.ml.feature import VectorAssembler, StandardScaler\n",
    "from pyspark.ml.clustering import KMeans, BisectingKMeans\n",
    "from pyspark.ml.tuning import CrossValidator, ParamGridBuilder \n",
    "from pyspark.ml.evaluation import ClusteringEvaluator\n",
    "import pyspark.sql.functions as F\n",
    "from pyspark.ml.clustering import KMeans\n",
    "from pyspark.ml.feature import VectorAssembler, StandardScaler\n",
    "from pyspark.ml import Pipeline\n",
    "import pandas as pd \n",
    "import pylab as pl\n",
    "import numpy as np"
   ]
  },
  {
   "cell_type": "markdown",
   "metadata": {},
   "source": [
    "## KMEANS"
   ]
  },
  {
   "cell_type": "markdown",
   "metadata": {},
   "source": [
    "- Production Factors: Fermentation Time, Temperature, pH_Level, Ingredient_Ratio\n",
    "- Product Characteristics: Beer_Style, Alcohol_Content, Bitterness, Color.\n",
    "- natural clusters"
   ]
  },
  {
   "cell_type": "markdown",
   "metadata": {},
   "source": [
    "### production"
   ]
  },
  {
   "cell_type": "markdown",
   "metadata": {},
   "source": [
    "- Silhouette Score: \n",
    "- Best number of clusters:"
   ]
  },
  {
   "cell_type": "markdown",
   "metadata": {},
   "source": [
    "#### prep"
   ]
  },
  {
   "cell_type": "code",
   "execution_count": null,
   "metadata": {},
   "outputs": [],
   "source": [
    "# Features\n",
    "production_features = [\"Fermentation_Time\", \"Temperature\", \"pH_Level\", \"Gravity\",  \"water\", \"grains\", \"hops\"] \n",
    "assembler = VectorAssembler(inputCols=production_features, outputCol=\"features_production\")\n",
    "scaler = StandardScaler(inputCol=\"features_production\", outputCol=\"features\")\n",
    "\n",
    "# Algos\n",
    "kmeans = KMeans().setSeed(1).setFeaturesCol(\"features\").setPredictionCol(\"prediction\")\n",
    "\n",
    "# Pipeline Stages\n",
    "pipeline = Pipeline(stages=[assembler, scaler, kmeans])\n",
    "\n",
    "# Evaluator\n",
    "evaluator = ClusteringEvaluator()\n",
    "evaluator.setMetricName(\"silhouette\")\n",
    "# evaluator.setPredictionCol(\"other_prediction_col\")\n",
    "# evaluator.setFeaturesCol(\"other_features_col\")"
   ]
  },
  {
   "cell_type": "markdown",
   "metadata": {},
   "source": [
    "#### training cost elbow method"
   ]
  },
  {
   "cell_type": "code",
   "execution_count": null,
   "metadata": {},
   "outputs": [],
   "source": [
    "# List of single 'k' values you want to test\n",
    "k_values = [2,3,4,5,6,7,8,10,12,14,16,18,20,22,24,26,28,30] \n",
    "\n",
    "# Initialize cost storage\n",
    "costs = np.zeros(len(k_values))\n",
    "\n",
    "# Loop through k_values (and calculate costs)\n",
    "for i, k in enumerate(k_values): \n",
    "    kmeans = pipeline.setStages([*pipeline.getStages()[:-1], KMeans().setK(k)])\n",
    "    model = pipeline.fit(df) \n",
    "    costs[i] = model.stages[-1].summary.trainingCost \n",
    "\n",
    "# Plot the cost (Elbow Curve)\n",
    "df_cost = pd.DataFrame(costs, index=k_values) # Adjusted for k_values\n",
    "df_cost.columns = [\"cost\"]\n",
    "df_cost.insert(0, 'cluster', k_values)\n",
    "\n",
    "pl.plot(df_cost.index, df_cost.cost) # Use index for x-axis\n",
    "pl.xlabel('Number of Clusters')\n",
    "pl.xticks(k_values)\n",
    "pl.ylabel('Score')\n",
    "pl.title('Elbow Curve')\n",
    "pl.show()"
   ]
  },
  {
   "cell_type": "markdown",
   "metadata": {},
   "source": [
    "#### cross validation"
   ]
  },
  {
   "cell_type": "code",
   "execution_count": null,
   "metadata": {},
   "outputs": [],
   "source": [
    "# Hyperparameter Tuning\n",
    "paramGrid = ParamGridBuilder() \\\n",
    "    .addGrid(kmeans.k, [2,3,4,5,6,8,10,12,14]) \\\n",
    "    .build()\n",
    "\n",
    "crossval = CrossValidator(estimator=pipeline,\n",
    "                          estimatorParamMaps=paramGrid,\n",
    "                          evaluator=evaluator,\n",
    "                          numFolds=3)"
   ]
  },
  {
   "cell_type": "code",
   "execution_count": null,
   "metadata": {},
   "outputs": [],
   "source": [
    "# Fit and Evaluate\n",
    "Model_production = crossval.fit(df) \n",
    "predictions_production = Model_production.transform(df)"
   ]
  },
  {
   "cell_type": "code",
   "execution_count": null,
   "metadata": {},
   "outputs": [],
   "source": [
    "best_model = Model_production.bestModel \n",
    "best_k = best_model.stages[-1].getK()\n",
    "print(f\"Best number of clusters: {best_k}\")"
   ]
  },
  {
   "cell_type": "markdown",
   "metadata": {},
   "source": [
    "#### no cross validation"
   ]
  },
  {
   "cell_type": "code",
   "execution_count": null,
   "metadata": {},
   "outputs": [],
   "source": [
    "# Fit and Evaluate\n",
    "kmeans.setK(12)\n",
    "\n",
    "Model_production = pipeline.fit(df) \n",
    "predictions_production = Model_production.transform(df)"
   ]
  },
  {
   "cell_type": "code",
   "execution_count": null,
   "metadata": {},
   "outputs": [],
   "source": [
    "predictions_production = predictions_production.drop(\"features_production\")\n",
    "predictions_production.show(5)"
   ]
  },
  {
   "cell_type": "markdown",
   "metadata": {},
   "source": [
    "#### Silhouette analysis"
   ]
  },
  {
   "cell_type": "code",
   "execution_count": null,
   "metadata": {},
   "outputs": [],
   "source": [
    "silhouette = evaluator.evaluate(predictions_production)\n",
    "print(f\"Silhouette Score: {silhouette:.3f}\")"
   ]
  },
  {
   "cell_type": "code",
   "execution_count": null,
   "metadata": {},
   "outputs": [],
   "source": [
    "predictions_production.groupBy(\"prediction\") \\\n",
    "  .agg(count(\"*\").alias(\"count\")) \\\n",
    "  .orderBy(\"count\", ascending=False) \\\n",
    "  .show()"
   ]
  },
  {
   "cell_type": "markdown",
   "metadata": {},
   "source": [
    "#### PCA"
   ]
  },
  {
   "cell_type": "code",
   "execution_count": null,
   "metadata": {},
   "outputs": [],
   "source": [
    "from pyspark.ml.feature import PCA \n",
    "\n",
    "pca = PCA(k=2, inputCol=\"features\", outputCol=\"pca_features\")  # k=2 for 2D visualization\n",
    "pca_model = pca.fit(predictions_production)\n",
    "\n",
    "df_transformed = pca_model.transform(predictions_production)"
   ]
  },
  {
   "cell_type": "code",
   "execution_count": null,
   "metadata": {},
   "outputs": [],
   "source": [
    "import pandas as pd\n",
    "\n",
    "results = df_transformed.select(\"pca_features\", \"prediction\").toPandas()\n",
    "pca_features = results[\"pca_features\"].tolist()\n",
    "predictions = results[\"prediction\"].tolist()"
   ]
  },
  {
   "cell_type": "code",
   "execution_count": null,
   "metadata": {},
   "outputs": [],
   "source": [
    "import matplotlib.pyplot as plt\n",
    "import numpy as np \n",
    "\n",
    "colors = ['#e6194b', '#4363d8', '#f58231', '#911eb4', '#46f0f0', '#f032e6', '#bcf60c', '#fabebe', '#008080', '#e6beff', '#9a6324', '#fffac8', '#800000', '#aaffc3', '#808000', '#ffd8b1']\n",
    "\n",
    "# Convert lists to NumPy arrays for efficient plotting\n",
    "x_coords = np.array([feature[0] for feature in pca_features])\n",
    "y_coords = np.array([feature[1] for feature in pca_features])\n",
    "colors_array = np.array(colors)[predictions]  # Map colors to predictions\n",
    "\n",
    "# Plot all points at once\n",
    "plt.scatter(x_coords, y_coords, c=colors_array)\n",
    "\n",
    "plt.xlabel(\"Principal Component 1\")\n",
    "plt.ylabel(\"Principal Component 2\")\n",
    "plt.title(\"Visualization of Clusters using PCA\")\n",
    "plt.show()"
   ]
  },
  {
   "cell_type": "code",
   "execution_count": null,
   "metadata": {},
   "outputs": [],
   "source": [
    "component_matrix = pca_model.explainedVariance.toArray()  # Weights as an array\n",
    "\n",
    "print(\"Component 1 Weights:\", component_matrix[0]) \n",
    "print(\"Component 2 Weights:\", component_matrix[1])"
   ]
  },
  {
   "cell_type": "markdown",
   "metadata": {},
   "source": [
    "#### PCA 3d"
   ]
  },
  {
   "cell_type": "code",
   "execution_count": null,
   "metadata": {},
   "outputs": [],
   "source": [
    "from pyspark.ml.feature import PCA \n",
    "\n",
    "pca = PCA(k=3, inputCol=\"features\", outputCol=\"pca_features\")  # k=3 for 3D \n",
    "pca_model = pca.fit(predictions_production)\n",
    "df_transformed = pca_model.transform(predictions_production)"
   ]
  },
  {
   "cell_type": "code",
   "execution_count": null,
   "metadata": {},
   "outputs": [],
   "source": [
    "import pandas as pd\n",
    "\n",
    "results = df_transformed.select(\"pca_features\", \"prediction\").toPandas()\n",
    "pca_features = results[\"pca_features\"].tolist()\n",
    "predictions = results[\"prediction\"].tolist()"
   ]
  },
  {
   "cell_type": "code",
   "execution_count": null,
   "metadata": {},
   "outputs": [],
   "source": [
    "from mpl_toolkits.mplot3d import Axes3D  # Import for 3D plotting\n",
    "\n",
    "import matplotlib.pyplot as plt\n",
    "import numpy as np \n",
    "\n",
    "colors = ['#e6194b', '#4363d8', '#f58231', '#911eb4', '#46f0f0', '#f032e6', '#bcf60c', '#fabebe', '#008080', '#e6beff', '#9a6324', '#fffac8', '#800000', '#aaffc3', '#808000', '#ffd8b1']\n",
    "\n",
    "# Convert lists to NumPy arrays for efficient plotting\n",
    "x_coords = np.array([feature[0] for feature in pca_features])\n",
    "y_coords = np.array([feature[1] for feature in pca_features])\n",
    "z_coords = np.array([feature[2] for feature in pca_features])\n",
    "colors_array = np.array(colors)[predictions]  # Map colors to predictions\n",
    "\n",
    "fig = plt.figure()\n",
    "ax = fig.add_subplot(111, projection='3d')  # Create a 3D subplot\n",
    "\n",
    "# 3D scatter plot\n",
    "ax.scatter(x_coords, y_coords, z_coords, c=colors_array)\n",
    "\n",
    "ax.set_xlabel(\"Principal Component 1\")\n",
    "ax.set_ylabel(\"Principal Component 2\")\n",
    "ax.set_zlabel(\"Principal Component 3\") \n",
    "plt.title(\"Visualization of Clusters using PCA (3D)\")\n",
    "plt.show()"
   ]
  },
  {
   "cell_type": "code",
   "execution_count": null,
   "metadata": {},
   "outputs": [],
   "source": [
    "component_matrix = pca_model.explainedVariance.toArray()  # Weights as an array\n",
    "\n",
    "print(\"Component 1 Weights:\", component_matrix[0]) \n",
    "print(\"Component 2 Weights:\", component_matrix[1])\n",
    "print(\"Component 3 Weights:\", component_matrix[2])"
   ]
  },
  {
   "cell_type": "markdown",
   "metadata": {},
   "source": [
    "### product"
   ]
  },
  {
   "cell_type": "markdown",
   "metadata": {},
   "source": [
    "- Silhouette Score: \n",
    "- number of clusters:"
   ]
  },
  {
   "cell_type": "markdown",
   "metadata": {},
   "source": [
    "#### prep"
   ]
  },
  {
   "cell_type": "code",
   "execution_count": 20,
   "metadata": {},
   "outputs": [
    {
     "data": {
      "text/plain": [
       "ClusteringEvaluator_1e126d50adf2"
      ]
     },
     "execution_count": 20,
     "metadata": {},
     "output_type": "execute_result"
    }
   ],
   "source": [
    "#Features\n",
    "product_features = [\"Alcohol_Content\", \"Bitterness\", \"Color\"]\n",
    "assembler = VectorAssembler(inputCols=product_features, outputCol=\"features_product\")\n",
    "scaler = StandardScaler(inputCol=\"features_product\", outputCol=\"features\")\n",
    "\n",
    "# Algos\n",
    "kmeans = KMeans().setSeed(1).setFeaturesCol(\"features\").setPredictionCol(\"prediction\")\n",
    "\n",
    "# Pipeline Stages\n",
    "pipeline = Pipeline(stages=[assembler, scaler, kmeans])\n",
    "\n",
    "# Evaluator\n",
    "evaluator = ClusteringEvaluator()\n",
    "evaluator.setMetricName(\"silhouette\")"
   ]
  },
  {
   "cell_type": "markdown",
   "metadata": {},
   "source": [
    "#### training cost - elbow method"
   ]
  },
  {
   "cell_type": "code",
   "execution_count": null,
   "metadata": {},
   "outputs": [],
   "source": [
    "# List of single 'k' values you want to test\n",
    "k_values = [2,3,4,5,6,7,8,10,12,14,16,18,20,22,24,26,28,30] \n",
    "\n",
    "# Initialize cost storage\n",
    "costs = np.zeros(len(k_values))\n",
    "\n",
    "# Loop through k_values (and calculate costs)\n",
    "for i, k in enumerate(k_values): \n",
    "    kmeans = pipeline.setStages([*pipeline.getStages()[:-1], KMeans().setK(k)])\n",
    "    model = pipeline.fit(df) \n",
    "    costs[i] = model.stages[-1].summary.trainingCost \n",
    "\n",
    "# Plot the cost (Elbow Curve)\n",
    "df_cost = pd.DataFrame(costs, index=k_values) # Adjusted for k_values\n",
    "df_cost.columns = [\"cost\"]\n",
    "df_cost.insert(0, 'cluster', k_values)\n",
    "\n",
    "pl.plot(df_cost.index, df_cost.cost) # Use index for x-axis\n",
    "pl.xlabel('Number of Clusters')\n",
    "pl.xticks(k_values)\n",
    "pl.ylabel('Score')\n",
    "pl.title('Elbow Curve')\n",
    "pl.show()"
   ]
  },
  {
   "cell_type": "markdown",
   "metadata": {},
   "source": [
    "#### cross validation"
   ]
  },
  {
   "cell_type": "code",
   "execution_count": null,
   "metadata": {},
   "outputs": [],
   "source": [
    "# Hyperparameter Tuning\n",
    "paramGrid = ParamGridBuilder() \\\n",
    "    .addGrid(kmeans.k, [8,10,12,14,16,18,20]) \\\n",
    "    .build()\n",
    "\n",
    "crossval = CrossValidator(estimator=pipeline,\n",
    "                          estimatorParamMaps=paramGrid,\n",
    "                          evaluator=evaluator,\n",
    "                          numFolds=3)"
   ]
  },
  {
   "cell_type": "code",
   "execution_count": null,
   "metadata": {},
   "outputs": [],
   "source": [
    "# Fit and Evaluate\n",
    "Model_product = crossval.fit(df)\n",
    "predictions_product = Model_product.transform(df)"
   ]
  },
  {
   "cell_type": "code",
   "execution_count": null,
   "metadata": {},
   "outputs": [],
   "source": [
    "best_model = Model_product.bestModel \n",
    "best_k = best_model.stages[-1].getK()\n",
    "print(f\"Best number of clusters: {best_k}\")"
   ]
  },
  {
   "cell_type": "markdown",
   "metadata": {},
   "source": [
    "#### no cross validation"
   ]
  },
  {
   "cell_type": "code",
   "execution_count": 21,
   "metadata": {},
   "outputs": [],
   "source": [
    "# Fit and Evaluate\n",
    "kmeans = kmeans.setK(8).setDistanceMeasure(\"cosine\")\n",
    "\n",
    "Model_product = pipeline.fit(sample)\n",
    "predictions_product = Model_product.transform(sample)"
   ]
  },
  {
   "cell_type": "code",
   "execution_count": 22,
   "metadata": {},
   "outputs": [],
   "source": [
    "predictions_product = predictions_product.drop(\"features_product\")"
   ]
  },
  {
   "cell_type": "markdown",
   "metadata": {},
   "source": [
    "#### silhouette analysis"
   ]
  },
  {
   "cell_type": "code",
   "execution_count": 23,
   "metadata": {},
   "outputs": [
    {
     "name": "stdout",
     "output_type": "stream",
     "text": [
      "Silhouette Score: 0.216\n"
     ]
    }
   ],
   "source": [
    "silhouette = evaluator.evaluate(predictions_product)\n",
    "print(f\"Silhouette Score: {silhouette:.3f}\")"
   ]
  },
  {
   "cell_type": "code",
   "execution_count": 24,
   "metadata": {},
   "outputs": [
    {
     "name": "stdout",
     "output_type": "stream",
     "text": [
      "+----------+------+\n",
      "|prediction| count|\n",
      "+----------+------+\n",
      "|         0|145016|\n",
      "|         7|139906|\n",
      "|         5|134114|\n",
      "|         2|130326|\n",
      "|         3|127807|\n",
      "|         4|114713|\n",
      "|         6|107602|\n",
      "|         1|102107|\n",
      "+----------+------+\n",
      "\n"
     ]
    }
   ],
   "source": [
    "predictions_product.groupBy(\"prediction\") \\\n",
    "  .agg(count(\"*\").alias(\"count\")) \\\n",
    "  .orderBy(\"count\", ascending=False) \\\n",
    "  .show()"
   ]
  },
  {
   "cell_type": "markdown",
   "metadata": {},
   "source": [
    "#### PCA 2d"
   ]
  },
  {
   "cell_type": "code",
   "execution_count": 25,
   "metadata": {},
   "outputs": [],
   "source": [
    "from pyspark.ml.feature import PCA \n",
    "\n",
    "pca = PCA(k=2, inputCol=\"features\", outputCol=\"pca_features\")  # k=2 for 2D visualization\n",
    "pca_model = pca.fit(predictions_product)\n",
    "df_transformed = pca_model.transform(predictions_product)"
   ]
  },
  {
   "cell_type": "code",
   "execution_count": 26,
   "metadata": {},
   "outputs": [],
   "source": [
    "import pandas as pd\n",
    "\n",
    "results = df_transformed.select(\"pca_features\", \"prediction\").toPandas()\n",
    "pca_features = results[\"pca_features\"].tolist()\n",
    "predictions = results[\"prediction\"].tolist()"
   ]
  },
  {
   "cell_type": "code",
   "execution_count": 27,
   "metadata": {},
   "outputs": [
    {
     "data": {
      "image/png": "[encoded data removed]",
      "text/plain": [
       "<Figure size 640x480 with 1 Axes>"
      ]
     },
     "metadata": {},
     "output_type": "display_data"
    }
   ],
   "source": [
    "import matplotlib.pyplot as plt\n",
    "import numpy as np \n",
    "\n",
    "colors = ['#e6194b', '#4363d8', '#f58231', '#911eb4', '#46f0f0', '#f032e6', '#bcf60c', '#fabebe', '#008080', '#e6beff', '#9a6324', '#fffac8', '#800000', '#aaffc3', '#808000', '#ffd8b1']\n",
    "\n",
    "# Convert lists to NumPy arrays for efficient plotting\n",
    "x_coords = np.array([feature[0] for feature in pca_features])\n",
    "y_coords = np.array([feature[1] for feature in pca_features])\n",
    "colors_array = np.array(colors)[predictions]  # Map colors to predictions\n",
    "\n",
    "# Plot all points at once\n",
    "plt.scatter(x_coords, y_coords, c=colors_array)\n",
    "\n",
    "plt.xlabel(\"Principal Component 1\")\n",
    "plt.ylabel(\"Principal Component 2\")\n",
    "plt.title(\"Visualization of Clusters using PCA\")\n",
    "plt.show()"
   ]
  },
  {
   "cell_type": "code",
   "execution_count": 28,
   "metadata": {},
   "outputs": [
    {
     "name": "stdout",
     "output_type": "stream",
     "text": [
      "Component 1 Weights: 0.3338774420732675\n",
      "Component 2 Weights: 0.33330892043935306\n"
     ]
    }
   ],
   "source": [
    "component_matrix = pca_model.explainedVariance.toArray()  # Weights as an array\n",
    "\n",
    "print(\"Component 1 Weights:\", component_matrix[0]) \n",
    "print(\"Component 2 Weights:\", component_matrix[1])"
   ]
  },
  {
   "cell_type": "markdown",
   "metadata": {},
   "source": [
    "#### PCA 3d"
   ]
  },
  {
   "cell_type": "code",
   "execution_count": 29,
   "metadata": {},
   "outputs": [],
   "source": [
    "from pyspark.ml.feature import PCA \n",
    "\n",
    "pca = PCA(k=3, inputCol=\"features\", outputCol=\"pca_features\")  # k=3 for 3D \n",
    "pca_model = pca.fit(predictions_product)\n",
    "df_transformed = pca_model.transform(predictions_product)"
   ]
  },
  {
   "cell_type": "code",
   "execution_count": 30,
   "metadata": {},
   "outputs": [],
   "source": [
    "import pandas as pd\n",
    "\n",
    "results = df_transformed.select(\"pca_features\", \"prediction\").toPandas()\n",
    "pca_features = results[\"pca_features\"].tolist()\n",
    "predictions = results[\"prediction\"].tolist()"
   ]
  },
  {
   "cell_type": "code",
   "execution_count": 31,
   "metadata": {},
   "outputs": [
    {
     "data": {
      "image/png": "[encoded data removed]",
      "text/plain": [
       "<Figure size 640x480 with 1 Axes>"
      ]
     },
     "metadata": {},
     "output_type": "display_data"
    }
   ],
   "source": [
    "from mpl_toolkits.mplot3d import Axes3D  # Import for 3D plotting\n",
    "\n",
    "import matplotlib.pyplot as plt\n",
    "import numpy as np \n",
    "\n",
    "colors = ['#e6194b', '#4363d8', '#f58231', '#911eb4', '#46f0f0', '#f032e6', '#bcf60c', '#fabebe', '#008080', '#e6beff', '#9a6324', '#fffac8', '#800000', '#aaffc3', '#808000', '#ffd8b1']\n",
    "\n",
    "# Convert lists to NumPy arrays for efficient plotting\n",
    "x_coords = np.array([feature[0] for feature in pca_features])\n",
    "y_coords = np.array([feature[1] for feature in pca_features])\n",
    "z_coords = np.array([feature[2] for feature in pca_features])\n",
    "colors_array = np.array(colors)[predictions]  # Map colors to predictions\n",
    "\n",
    "fig = plt.figure()\n",
    "ax = fig.add_subplot(111, projection='3d')  # Create a 3D subplot\n",
    "\n",
    "# 3D scatter plot\n",
    "ax.scatter(x_coords, y_coords, z_coords, c=colors_array)\n",
    "\n",
    "ax.set_xlabel(\"Principal Component 1\")\n",
    "ax.set_ylabel(\"Principal Component 2\")\n",
    "ax.set_zlabel(\"Principal Component 3\") \n",
    "plt.title(\"Visualization of Clusters using PCA (3D)\")\n",
    "plt.show()"
   ]
  },
  {
   "cell_type": "code",
   "execution_count": 32,
   "metadata": {},
   "outputs": [
    {
     "name": "stdout",
     "output_type": "stream",
     "text": [
      "Component 1 Weights: 0.3338774420732675\n",
      "Component 2 Weights: 0.33330892043935295\n",
      "Component 3 Weights: 0.3328136374873795\n"
     ]
    }
   ],
   "source": [
    "component_matrix = pca_model.explainedVariance.toArray()  # Weights as an array\n",
    "\n",
    "print(\"Component 1 Weights:\", component_matrix[0]) \n",
    "print(\"Component 2 Weights:\", component_matrix[1])\n",
    "print(\"Component 3 Weights:\", component_matrix[2])"
   ]
  },
  {
   "cell_type": "markdown",
   "metadata": {},
   "source": [
    "### natural clusters"
   ]
  },
  {
   "cell_type": "markdown",
   "metadata": {},
   "source": [
    "- Silhouette Score: \n",
    "- Best number of clusters:"
   ]
  },
  {
   "cell_type": "markdown",
   "metadata": {},
   "source": [
    "#### prep"
   ]
  },
  {
   "cell_type": "code",
   "execution_count": 20,
   "metadata": {},
   "outputs": [
    {
     "data": {
      "text/plain": [
       "ClusteringEvaluator_f3af2ddbc307"
      ]
     },
     "execution_count": 20,
     "metadata": {},
     "output_type": "execute_result"
    }
   ],
   "source": [
    "#Features\n",
    "columns = df.columns\n",
    "irrelevant_features = [\"Batch_ID\", \"Brew_Date\", \"USD_per_Liter\", \"Brewing_efficency\", \"Total_Sales\", \"fermentation_time_bin\"] \n",
    "all_features = [col for col in columns if col not in irrelevant_features]\n",
    "\n",
    "assembler = VectorAssembler(inputCols=all_features, outputCol=\"features_all\")\n",
    "scaler = StandardScaler(inputCol=\"features_all\", outputCol=\"features\")\n",
    "\n",
    "# Algos\n",
    "kmeans = KMeans().setSeed(1).setFeaturesCol(\"features\").setPredictionCol(\"prediction\")\n",
    "\n",
    "# Pipeline Stages\n",
    "pipeline = Pipeline(stages=[assembler, scaler, kmeans])\n",
    "\n",
    "# Evaluator\n",
    "evaluator = ClusteringEvaluator()\n",
    "evaluator.setMetricName(\"silhouette\")"
   ]
  },
  {
   "cell_type": "markdown",
   "metadata": {},
   "source": [
    "#### Training cost - elbow method"
   ]
  },
  {
   "cell_type": "code",
   "execution_count": null,
   "metadata": {},
   "outputs": [],
   "source": [
    "# List of single 'k' values you want to test\n",
    "k_values = [2,3,4,5,6,7,8,10,12,14,16,18,20,22,24,26,28,30] \n",
    "\n",
    "# Initialize cost storage\n",
    "costs = np.zeros(len(k_values))\n",
    "\n",
    "# Loop through k_values (and calculate costs)\n",
    "for i, k in enumerate(k_values): \n",
    "    kmeans = pipeline.setStages([*pipeline.getStages()[:-1], KMeans().setK(k)])\n",
    "    model = pipeline.fit(ale_df)\n",
    "    costs[i] = model.stages[-1].summary.trainingCost \n",
    "\n",
    "# Plot the cost (Elbow Curve)\n",
    "df_cost = pd.DataFrame(costs, index=k_values) # Adjusted for k_values\n",
    "df_cost.columns = [\"cost\"]\n",
    "df_cost.insert(0, 'cluster', k_values)\n",
    "\n",
    "pl.plot(df_cost.index, df_cost.cost) # Use index for x-axis\n",
    "pl.xlabel('Number of Clusters')\n",
    "pl.xticks(k_values)\n",
    "pl.ylabel('Score')\n",
    "pl.title('Elbow Curve')\n",
    "pl.show()"
   ]
  },
  {
   "cell_type": "markdown",
   "metadata": {},
   "source": [
    "#### cross validation"
   ]
  },
  {
   "cell_type": "code",
   "execution_count": null,
   "metadata": {},
   "outputs": [],
   "source": [
    "# Hyperparameter Tuning\n",
    "paramGrid = ParamGridBuilder() \\\n",
    "    .addGrid(kmeans.k, [10,12,14,16]) \\\n",
    "    .build()\n",
    "\n",
    "crossval = CrossValidator(estimator=pipeline,\n",
    "                          estimatorParamMaps=paramGrid,\n",
    "                          evaluator=evaluator,\n",
    "                          numFolds=3)"
   ]
  },
  {
   "cell_type": "code",
   "execution_count": null,
   "metadata": {},
   "outputs": [],
   "source": [
    "# Fit and Evaluate\n",
    "Model_all = crossval.fit(df) \n",
    "predictions_all = Model_all.transform(df)"
   ]
  },
  {
   "cell_type": "code",
   "execution_count": null,
   "metadata": {},
   "outputs": [],
   "source": [
    "best_model = Model_all.bestModel \n",
    "best_k = best_model.stages[-1].getK()\n",
    "print(f\"Best number of clusters: {best_k}\")"
   ]
  },
  {
   "cell_type": "markdown",
   "metadata": {},
   "source": [
    "#### no cross validation"
   ]
  },
  {
   "cell_type": "code",
   "execution_count": 22,
   "metadata": {},
   "outputs": [],
   "source": [
    "# Fit and Evaluate \n",
    "kmeans = kmeans.setK(12)\n",
    "\n",
    "Model_all = pipeline.fit(sample)\n",
    "predictions_all = Model_all.transform(sample)"
   ]
  },
  {
   "cell_type": "code",
   "execution_count": 23,
   "metadata": {},
   "outputs": [],
   "source": [
    "predictions_all = predictions_all.drop(\"features_all\")"
   ]
  },
  {
   "cell_type": "markdown",
   "metadata": {},
   "source": [
    "#### Silhouette analysis"
   ]
  },
  {
   "cell_type": "code",
   "execution_count": 24,
   "metadata": {},
   "outputs": [
    {
     "name": "stdout",
     "output_type": "stream",
     "text": [
      "Silhouette Score: 0.119\n"
     ]
    }
   ],
   "source": [
    "silhouette = evaluator.evaluate(predictions_all)\n",
    "print(f\"Silhouette Score: {silhouette:.3f}\")"
   ]
  },
  {
   "cell_type": "code",
   "execution_count": null,
   "metadata": {},
   "outputs": [],
   "source": [
    "predictions_all.groupBy(\"prediction\") \\\n",
    "  .agg(count(\"*\").alias(\"count\")) \\\n",
    "  .orderBy(\"count\", ascending=False) \\\n",
    "  .show()"
   ]
  },
  {
   "cell_type": "markdown",
   "metadata": {},
   "source": [
    "#### PCA"
   ]
  },
  {
   "cell_type": "code",
   "execution_count": null,
   "metadata": {},
   "outputs": [],
   "source": [
    "from pyspark.ml.feature import PCA \n",
    "\n",
    "pca = PCA(k=2, inputCol=\"features\", outputCol=\"pca_features\")  # k=2 for 2D visualization\n",
    "pca_model = pca.fit(predictions_all)\n",
    "\n",
    "df_transformed = pca_model.transform(predictions_all)"
   ]
  },
  {
   "cell_type": "code",
   "execution_count": null,
   "metadata": {},
   "outputs": [],
   "source": [
    "import pandas as pd\n",
    "\n",
    "results = df_transformed.select(\"pca_features\", \"prediction\").toPandas()\n",
    "pca_features = results[\"pca_features\"].tolist()\n",
    "predictions = results[\"prediction\"].tolist()"
   ]
  },
  {
   "cell_type": "code",
   "execution_count": null,
   "metadata": {},
   "outputs": [],
   "source": [
    "import matplotlib.pyplot as plt\n",
    "import numpy as np \n",
    "\n",
    "colors = ['#e6194b', '#4363d8', '#f58231', '#911eb4', '#46f0f0', '#f032e6', '#bcf60c', '#fabebe', '#008080', '#e6beff', '#9a6324', '#fffac8', '#800000', '#aaffc3', '#808000', '#ffd8b1']\n",
    "\n",
    "# Convert lists to NumPy arrays for efficient plotting\n",
    "x_coords = np.array([feature[0] for feature in pca_features])\n",
    "y_coords = np.array([feature[1] for feature in pca_features])\n",
    "colors_array = np.array(colors)[predictions]  # Map colors to predictions\n",
    "\n",
    "# Plot all points at once\n",
    "plt.scatter(x_coords, y_coords, c=colors_array)\n",
    "\n",
    "plt.xlabel(\"Principal Component 1\")\n",
    "plt.ylabel(\"Principal Component 2\")\n",
    "plt.title(\"Visualization of Clusters using PCA\")\n",
    "plt.show()\n"
   ]
  },
  {
   "cell_type": "code",
   "execution_count": null,
   "metadata": {},
   "outputs": [],
   "source": [
    "component_matrix = pca_model.explainedVariance.toArray()  # Weights as an array\n",
    "\n",
    "print(\"Component 1 Weights:\", component_matrix[0]) \n",
    "print(\"Component 2 Weights:\", component_matrix[1])"
   ]
  },
  {
   "cell_type": "markdown",
   "metadata": {},
   "source": [
    "#### PCA 3d"
   ]
  },
  {
   "cell_type": "code",
   "execution_count": null,
   "metadata": {},
   "outputs": [],
   "source": [
    "from pyspark.ml.feature import PCA \n",
    "\n",
    "pca = PCA(k=3, inputCol=\"features\", outputCol=\"pca_features\")  # k=3 for 3D \n",
    "pca_model = pca.fit(predictions_all)\n",
    "df_transformed = pca_model.transform(predictions_all)"
   ]
  },
  {
   "cell_type": "code",
   "execution_count": null,
   "metadata": {},
   "outputs": [],
   "source": [
    "import pandas as pd\n",
    "\n",
    "results = df_transformed.select(\"pca_features\", \"prediction\").toPandas()\n",
    "pca_features = results[\"pca_features\"].tolist()\n",
    "predictions = results[\"prediction\"].tolist()"
   ]
  },
  {
   "cell_type": "code",
   "execution_count": null,
   "metadata": {},
   "outputs": [],
   "source": [
    "from mpl_toolkits.mplot3d import Axes3D  # Import for 3D plotting\n",
    "\n",
    "import matplotlib.pyplot as plt\n",
    "import numpy as np \n",
    "\n",
    "colors = ['#e6194b', '#4363d8', '#f58231', '#911eb4', '#46f0f0', '#f032e6', '#bcf60c', '#fabebe', '#008080', '#e6beff', '#9a6324', '#fffac8', '#800000', '#aaffc3', '#808000', '#ffd8b1']\n",
    "\n",
    "# Convert lists to NumPy arrays for efficient plotting\n",
    "x_coords = np.array([feature[0] for feature in pca_features])\n",
    "y_coords = np.array([feature[1] for feature in pca_features])\n",
    "z_coords = np.array([feature[2] for feature in pca_features])\n",
    "colors_array = np.array(colors)[predictions]  # Map colors to predictions\n",
    "\n",
    "fig = plt.figure()\n",
    "ax = fig.add_subplot(111, projection='3d')  # Create a 3D subplot\n",
    "\n",
    "# 3D scatter plot\n",
    "ax.scatter(x_coords, y_coords, z_coords, c=colors_array)\n",
    "\n",
    "ax.set_xlabel(\"Principal Component 1\")\n",
    "ax.set_ylabel(\"Principal Component 2\")\n",
    "ax.set_zlabel(\"Principal Component 3\") \n",
    "plt.title(\"Visualization of Clusters using PCA (3D)\")\n",
    "plt.show()"
   ]
  },
  {
   "cell_type": "code",
   "execution_count": null,
   "metadata": {},
   "outputs": [],
   "source": [
    "component_matrix = pca_model.explainedVariance.toArray()  # Weights as an array\n",
    "\n",
    "print(\"Component 1 Weights:\", component_matrix[0]) \n",
    "print(\"Component 2 Weights:\", component_matrix[1])\n",
    "print(\"Component 3 Weights:\", component_matrix[2])"
   ]
  },
  {
   "cell_type": "markdown",
   "metadata": {},
   "source": [
    "## Bisecting KMEANS"
   ]
  },
  {
   "cell_type": "markdown",
   "metadata": {},
   "source": [
    "- Production Factors: Fermentation Time, Temperature, pH_Level, Ingredient_Ratio\n",
    "- Product Characteristics: Beer_Style, Alcohol_Content, Bitterness, Color.\n",
    "- natural clusters"
   ]
  },
  {
   "cell_type": "markdown",
   "metadata": {},
   "source": [
    "### production"
   ]
  },
  {
   "cell_type": "markdown",
   "metadata": {},
   "source": [
    "#### prep"
   ]
  },
  {
   "cell_type": "code",
   "execution_count": null,
   "metadata": {},
   "outputs": [],
   "source": [
    "# Features\n",
    "production_features = [\"Fermentation_Time\", \"Temperature\", \"pH_Level\", \"Gravity\",  \"water\", \"grains\", \"hops\"] \n",
    "assembler = VectorAssembler(inputCols=production_features, outputCol=\"features_production\")\n",
    "scaler = StandardScaler(inputCol=\"features_production\", outputCol=\"features\")\n",
    "\n",
    "# Algos\n",
    "b_kmeans = BisectingKMeans().setSeed(1).setFeaturesCol(\"features\").setPredictionCol(\"prediction\")\n",
    "\n",
    "# Pipeline Stages\n",
    "pipeline = Pipeline(stages=[assembler, scaler, b_kmeans])\n",
    "\n",
    "# Evaluator\n",
    "evaluator = ClusteringEvaluator()\n",
    "evaluator.setMetricName(\"silhouette\")"
   ]
  },
  {
   "cell_type": "markdown",
   "metadata": {},
   "source": [
    "#### cross validation"
   ]
  },
  {
   "cell_type": "code",
   "execution_count": null,
   "metadata": {},
   "outputs": [],
   "source": [
    "# Hyperparameter Tuning\n",
    "k_values = [2,3,4,5,6,7,8,10]\n",
    "max_iter_values = [5, 7, 10]\n",
    "min_divisible_cluster_size_values = [1000, 2500,5000, 10000, 15000] \n",
    "\n",
    "paramGrid = ParamGridBuilder() \\\n",
    "            .addGrid(b_kmeans.k, k_values) \\\n",
    "            .addGrid(b_kmeans.maxIter, max_iter_values) \\\n",
    "            .addGrid(b_kmeans.minDivisibleClusterSize, min_divisible_cluster_size_values) \\\n",
    "            .build()\n",
    "\n",
    "crossval = CrossValidator(estimator=pipeline,\n",
    "                          estimatorParamMaps=paramGrid,\n",
    "                          evaluator=evaluator,\n",
    "                          numFolds=3)"
   ]
  },
  {
   "cell_type": "code",
   "execution_count": null,
   "metadata": {},
   "outputs": [],
   "source": [
    "# Fit and Evaluate\n",
    "Model_production = crossval.fit(df)\n",
    "predictions_production = Model_production.transform(df)"
   ]
  },
  {
   "cell_type": "code",
   "execution_count": null,
   "metadata": {},
   "outputs": [],
   "source": [
    "best_model = Model_production.bestModel \n",
    "best_k = best_model.stages[-1].getK()\n",
    "print(f\"Best number of clusters: {best_k}\")"
   ]
  },
  {
   "cell_type": "markdown",
   "metadata": {},
   "source": [
    "#### no cross validation"
   ]
  },
  {
   "cell_type": "code",
   "execution_count": null,
   "metadata": {},
   "outputs": [],
   "source": [
    "# Fit and Evaluate \n",
    "b_kmeans = b_kmeans #set the best parameters\n",
    "\n",
    "Model_production = pipeline.fit(df)\n",
    "predictions_production = Model_production.transform(df)"
   ]
  },
  {
   "cell_type": "code",
   "execution_count": null,
   "metadata": {},
   "outputs": [],
   "source": [
    "predictions_production = predictions_production.drop(\"features_product\")"
   ]
  },
  {
   "cell_type": "markdown",
   "metadata": {},
   "source": [
    "#### Silhouette analysis"
   ]
  },
  {
   "cell_type": "code",
   "execution_count": null,
   "metadata": {},
   "outputs": [],
   "source": [
    "silhouette = evaluator.evaluate(predictions_production)\n",
    "print(\"Silhouette Score:\", silhouette)"
   ]
  },
  {
   "cell_type": "code",
   "execution_count": null,
   "metadata": {},
   "outputs": [],
   "source": [
    "predictions_production.groupBy(\"prediction\") \\\n",
    "  .agg(count(\"*\").alias(\"count\")) \\\n",
    "  .orderBy(\"count\", ascending=False) \\\n",
    "  .show()"
   ]
  },
  {
   "cell_type": "markdown",
   "metadata": {},
   "source": [
    "#### PCA"
   ]
  },
  {
   "cell_type": "code",
   "execution_count": null,
   "metadata": {},
   "outputs": [],
   "source": [
    "from pyspark.ml.feature import PCA \n",
    "\n",
    "pca = PCA(k=2, inputCol=\"features\", outputCol=\"pca_features\")  # k=2 for 2D visualization\n",
    "pca_model = pca.fit(predictions_production)\n",
    "\n",
    "df_transformed = pca_model.transform(predictions_production)"
   ]
  },
  {
   "cell_type": "code",
   "execution_count": null,
   "metadata": {},
   "outputs": [],
   "source": [
    "import pandas as pd\n",
    "\n",
    "results = df_transformed.select(\"pca_features\", \"prediction\").toPandas()\n",
    "pca_features = results[\"pca_features\"].tolist()\n",
    "predictions = results[\"prediction\"].tolist()"
   ]
  },
  {
   "cell_type": "code",
   "execution_count": null,
   "metadata": {},
   "outputs": [],
   "source": [
    "import matplotlib.pyplot as plt\n",
    "import numpy as np \n",
    "\n",
    "colors = ['#e6194b', '#4363d8', '#f58231', '#911eb4', '#46f0f0', '#f032e6', '#bcf60c', '#fabebe', '#008080', '#e6beff', '#9a6324', '#fffac8', '#800000', '#aaffc3', '#808000', '#ffd8b1']\n",
    "\n",
    "# Convert lists to NumPy arrays for efficient plotting\n",
    "x_coords = np.array([feature[0] for feature in pca_features])\n",
    "y_coords = np.array([feature[1] for feature in pca_features])\n",
    "colors_array = np.array(colors)[predictions]  # Map colors to predictions\n",
    "\n",
    "# Plot all points at once\n",
    "plt.scatter(x_coords, y_coords, c=colors_array)\n",
    "\n",
    "plt.xlabel(\"Principal Component 1\")\n",
    "plt.ylabel(\"Principal Component 2\")\n",
    "plt.title(\"Visualization of Clusters using PCA\")\n",
    "plt.show()\n"
   ]
  },
  {
   "cell_type": "code",
   "execution_count": null,
   "metadata": {},
   "outputs": [],
   "source": [
    "component_matrix = pca_model.explainedVariance.toArray()  # Weights as an array\n",
    "\n",
    "print(\"Component 1 Weights:\", component_matrix[0]) \n",
    "print(\"Component 2 Weights:\", component_matrix[1])"
   ]
  },
  {
   "cell_type": "markdown",
   "metadata": {},
   "source": [
    "#### PCA 3d"
   ]
  },
  {
   "cell_type": "code",
   "execution_count": null,
   "metadata": {},
   "outputs": [],
   "source": [
    "from pyspark.ml.feature import PCA \n",
    "\n",
    "pca = PCA(k=3, inputCol=\"features\", outputCol=\"pca_features\")  # k=3 for 3D \n",
    "pca_model = pca.fit(predictions_production)\n",
    "df_transformed = pca_model.transform(predictions_production)"
   ]
  },
  {
   "cell_type": "code",
   "execution_count": null,
   "metadata": {},
   "outputs": [],
   "source": [
    "import pandas as pd\n",
    "\n",
    "results = df_transformed.select(\"pca_features\", \"prediction\").toPandas()\n",
    "pca_features = results[\"pca_features\"].tolist()\n",
    "predictions = results[\"prediction\"].tolist()"
   ]
  },
  {
   "cell_type": "code",
   "execution_count": null,
   "metadata": {},
   "outputs": [],
   "source": [
    "from mpl_toolkits.mplot3d import Axes3D  # Import for 3D plotting\n",
    "\n",
    "import matplotlib.pyplot as plt\n",
    "import numpy as np \n",
    "\n",
    "colors = ['#e6194b', '#4363d8', '#f58231', '#911eb4', '#46f0f0', '#f032e6', '#bcf60c', '#fabebe', '#008080', '#e6beff', '#9a6324', '#fffac8', '#800000', '#aaffc3', '#808000', '#ffd8b1']\n",
    "\n",
    "# Convert lists to NumPy arrays for efficient plotting\n",
    "x_coords = np.array([feature[0] for feature in pca_features])\n",
    "y_coords = np.array([feature[1] for feature in pca_features])\n",
    "z_coords = np.array([feature[2] for feature in pca_features])\n",
    "colors_array = np.array(colors)[predictions]  # Map colors to predictions\n",
    "\n",
    "fig = plt.figure()\n",
    "ax = fig.add_subplot(111, projection='3d')  # Create a 3D subplot\n",
    "\n",
    "# 3D scatter plot\n",
    "ax.scatter(x_coords, y_coords, z_coords, c=colors_array)\n",
    "\n",
    "ax.set_xlabel(\"Principal Component 1\")\n",
    "ax.set_ylabel(\"Principal Component 2\")\n",
    "ax.set_zlabel(\"Principal Component 3\") \n",
    "plt.title(\"Visualization of Clusters using PCA (3D)\")\n",
    "plt.show()"
   ]
  },
  {
   "cell_type": "code",
   "execution_count": null,
   "metadata": {},
   "outputs": [],
   "source": [
    "component_matrix = pca_model.explainedVariance.toArray()  # Weights as an array\n",
    "\n",
    "print(\"Component 1 Weights:\", component_matrix[0]) \n",
    "print(\"Component 2 Weights:\", component_matrix[1])\n",
    "print(\"Component 3 Weights:\", component_matrix[2])"
   ]
  },
  {
   "cell_type": "markdown",
   "metadata": {},
   "source": [
    "### product"
   ]
  },
  {
   "cell_type": "markdown",
   "metadata": {},
   "source": [
    "#### prep"
   ]
  },
  {
   "cell_type": "code",
   "execution_count": null,
   "metadata": {},
   "outputs": [],
   "source": [
    "#Features\n",
    "product_features = [\"Alcohol_Content\", \"Bitterness\", \"Color\"]\n",
    "assembler = VectorAssembler(inputCols=product_features, outputCol=\"features_product\")\n",
    "scaler = StandardScaler(inputCol=\"features_product\", outputCol=\"features\")\n",
    "\n",
    "# Algos\n",
    "b_kmeans = BisectingKMeans().setSeed(1).setFeaturesCol(\"features\").setPredictionCol(\"prediction\")\n",
    "\n",
    "# Pipeline Stages\n",
    "pipeline = Pipeline(stages=[assembler, scaler, b_kmeans])\n",
    "\n",
    "# Evaluator\n",
    "evaluator = ClusteringEvaluator()\n",
    "evaluator.setMetricName(\"silhouette\")"
   ]
  },
  {
   "cell_type": "markdown",
   "metadata": {},
   "source": [
    "#### cross-val"
   ]
  },
  {
   "cell_type": "code",
   "execution_count": null,
   "metadata": {},
   "outputs": [],
   "source": [
    "# Hyperparameter Tuning\n",
    "k_values = [2,3,4,5,6,7,8,10,12,14,16,18,20]\n",
    "max_iter_values = [5, 7, 10]\n",
    "min_divisible_cluster_size_values = [1000, 2500,5000, 10000, 15000] \n",
    "\n",
    "paramGrid = ParamGridBuilder() \\\n",
    "            .addGrid(b_kmeans.k, k_values) \\\n",
    "            .addGrid(b_kmeans.maxIter, max_iter_values) \\\n",
    "            .addGrid(b_kmeans.minDivisibleClusterSize, min_divisible_cluster_size_values) \\\n",
    "            .build()\n",
    "\n",
    "crossval = CrossValidator(estimator=pipeline,\n",
    "                          estimatorParamMaps=paramGrid,\n",
    "                          evaluator=evaluator,\n",
    "                          numFolds=3)"
   ]
  },
  {
   "cell_type": "code",
   "execution_count": null,
   "metadata": {},
   "outputs": [],
   "source": [
    "# Fit and Evaluate\n",
    "Model_product = crossval.fit(df)\n",
    "predictions_product = Model_product.transform(df)"
   ]
  },
  {
   "cell_type": "code",
   "execution_count": null,
   "metadata": {},
   "outputs": [],
   "source": [
    "best_model = Model_product.bestModel \n",
    "best_k = best_model.stages[-1].getK()\n",
    "print(f\"Best number of clusters: {best_k}\")"
   ]
  },
  {
   "cell_type": "markdown",
   "metadata": {},
   "source": [
    "#### no cross validation"
   ]
  },
  {
   "cell_type": "code",
   "execution_count": null,
   "metadata": {},
   "outputs": [],
   "source": [
    "# Fit and Evaluate \n",
    "b_kmeans = b_kmeans #set the best parameters\n",
    "\n",
    "Model_product = pipeline.fit(df)\n",
    "predictions_product = Model_product.transform(df)"
   ]
  },
  {
   "cell_type": "code",
   "execution_count": null,
   "metadata": {},
   "outputs": [],
   "source": [
    "predictions_product = predictions_product.drop(\"features_product\")"
   ]
  },
  {
   "cell_type": "markdown",
   "metadata": {},
   "source": [
    "#### silhouette analysis"
   ]
  },
  {
   "cell_type": "code",
   "execution_count": null,
   "metadata": {},
   "outputs": [],
   "source": [
    "silhouette = evaluator.evaluate(predictions_product)\n",
    "print(f\"Silhouette Score: {silhouette:.3f}\")"
   ]
  },
  {
   "cell_type": "code",
   "execution_count": null,
   "metadata": {},
   "outputs": [],
   "source": [
    "predictions_product.groupBy(\"prediction\") \\\n",
    "  .agg(count(\"*\").alias(\"count\")) \\\n",
    "  .orderBy(\"count\", ascending=False) \\\n",
    "  .show()"
   ]
  },
  {
   "cell_type": "markdown",
   "metadata": {},
   "source": [
    "#### PCA"
   ]
  },
  {
   "cell_type": "code",
   "execution_count": null,
   "metadata": {},
   "outputs": [],
   "source": [
    "from pyspark.ml.feature import PCA \n",
    "\n",
    "pca = PCA(k=2, inputCol=\"features\", outputCol=\"pca_features\")  # k=2 for 2D visualization\n",
    "pca_model = pca.fit(predictions_product)\n",
    "\n",
    "df_transformed = pca_model.transform(predictions_product)"
   ]
  },
  {
   "cell_type": "code",
   "execution_count": null,
   "metadata": {},
   "outputs": [],
   "source": [
    "import pandas as pd\n",
    "\n",
    "results = df_transformed.select(\"pca_features\", \"prediction\").toPandas()\n",
    "pca_features = results[\"pca_features\"].tolist()\n",
    "predictions = results[\"prediction\"].tolist()"
   ]
  },
  {
   "cell_type": "code",
   "execution_count": null,
   "metadata": {},
   "outputs": [],
   "source": [
    "import matplotlib.pyplot as plt\n",
    "import numpy as np \n",
    "\n",
    "colors = ['#e6194b', '#4363d8', '#f58231', '#911eb4', '#46f0f0', '#f032e6', '#bcf60c', '#fabebe', '#008080', '#e6beff', '#9a6324', '#fffac8', '#800000', '#aaffc3', '#808000', '#ffd8b1']\n",
    "\n",
    "# Convert lists to NumPy arrays for efficient plotting\n",
    "x_coords = np.array([feature[0] for feature in pca_features])\n",
    "y_coords = np.array([feature[1] for feature in pca_features])\n",
    "colors_array = np.array(colors)[predictions]  # Map colors to predictions\n",
    "\n",
    "# Plot all points at once\n",
    "plt.scatter(x_coords, y_coords, c=colors_array)\n",
    "\n",
    "plt.xlabel(\"Principal Component 1\")\n",
    "plt.ylabel(\"Principal Component 2\")\n",
    "plt.title(\"Visualization of Clusters using PCA\")\n",
    "plt.show()\n"
   ]
  },
  {
   "cell_type": "code",
   "execution_count": null,
   "metadata": {},
   "outputs": [],
   "source": [
    "component_matrix = pca_model.explainedVariance.toArray()  # Weights as an array\n",
    "\n",
    "print(\"Component 1 Weights:\", component_matrix[0]) \n",
    "print(\"Component 2 Weights:\", component_matrix[1])"
   ]
  },
  {
   "cell_type": "markdown",
   "metadata": {},
   "source": [
    "#### PCA 3d"
   ]
  },
  {
   "cell_type": "code",
   "execution_count": null,
   "metadata": {},
   "outputs": [],
   "source": [
    "from pyspark.ml.feature import PCA \n",
    "\n",
    "pca = PCA(k=3, inputCol=\"features\", outputCol=\"pca_features\")  # k=3 for 3D \n",
    "pca_model = pca.fit(predictions_product)\n",
    "df_transformed = pca_model.transform(predictions_product)"
   ]
  },
  {
   "cell_type": "code",
   "execution_count": null,
   "metadata": {},
   "outputs": [],
   "source": [
    "import pandas as pd\n",
    "\n",
    "results = df_transformed.select(\"pca_features\", \"prediction\").toPandas()\n",
    "pca_features = results[\"pca_features\"].tolist()\n",
    "predictions = results[\"prediction\"].tolist()"
   ]
  },
  {
   "cell_type": "code",
   "execution_count": null,
   "metadata": {},
   "outputs": [
    {
     "data": {
      "image/png": "[encoded data removed]",
      "text/plain": [
       "<Figure size 640x480 with 1 Axes>"
      ]
     },
     "metadata": {},
     "output_type": "display_data"
    }
   ],
   "source": [
    "from mpl_toolkits.mplot3d import Axes3D  # Import for 3D plotting\n",
    "\n",
    "import matplotlib.pyplot as plt\n",
    "import numpy as np \n",
    "\n",
    "colors = ['#e6194b', '#4363d8', '#f58231', '#911eb4', '#46f0f0', '#f032e6', '#bcf60c', '#fabebe', '#008080', '#e6beff', '#9a6324', '#fffac8', '#800000', '#aaffc3', '#808000', '#ffd8b1']\n",
    "\n",
    "# Convert lists to NumPy arrays for efficient plotting\n",
    "x_coords = np.array([feature[0] for feature in pca_features])\n",
    "y_coords = np.array([feature[1] for feature in pca_features])\n",
    "z_coords = np.array([feature[2] for feature in pca_features])\n",
    "colors_array = np.array(colors)[predictions]  # Map colors to predictions\n",
    "\n",
    "fig = plt.figure()\n",
    "ax = fig.add_subplot(111, projection='3d')  # Create a 3D subplot\n",
    "\n",
    "# 3D scatter plot\n",
    "ax.scatter(x_coords, y_coords, z_coords, c=colors_array)\n",
    "\n",
    "ax.set_xlabel(\"Principal Component 1\")\n",
    "ax.set_ylabel(\"Principal Component 2\")\n",
    "ax.set_zlabel(\"Principal Component 3\") \n",
    "plt.title(\"Visualization of Clusters using PCA (3D)\")\n",
    "plt.show()"
   ]
  },
  {
   "cell_type": "code",
   "execution_count": null,
   "metadata": {},
   "outputs": [
    {
     "name": "stdout",
     "output_type": "stream",
     "text": [
      "Component 1 Weights: 0.06849039621271737\n",
      "Component 2 Weights: 0.037078196050297364\n",
      "Component 3 Weights: 0.03701349758497346\n"
     ]
    }
   ],
   "source": [
    "component_matrix = pca_model.explainedVariance.toArray()  # Weights as an array\n",
    "\n",
    "print(\"Component 1 Weights:\", component_matrix[0]) \n",
    "print(\"Component 2 Weights:\", component_matrix[1])\n",
    "print(\"Component 3 Weights:\", component_matrix[2])"
   ]
  },
  {
   "cell_type": "markdown",
   "metadata": {},
   "source": [
    "### natural clusters"
   ]
  },
  {
   "cell_type": "markdown",
   "metadata": {},
   "source": [
    "#### prep"
   ]
  },
  {
   "cell_type": "code",
   "execution_count": 20,
   "metadata": {},
   "outputs": [
    {
     "data": {
      "text/plain": [
       "ClusteringEvaluator_d188b1476ea1"
      ]
     },
     "execution_count": 20,
     "metadata": {},
     "output_type": "execute_result"
    }
   ],
   "source": [
    "#Features\n",
    "columns = sample.columns\n",
    "irrelevant_features = [\"Batch_ID\", \"Brew_Date\", \"USD_per_Liter\", \"Brewing_efficency\", \"Total_Sales\", \"fermentation_time_bin\"] \n",
    "all_features = [col for col in columns if col not in irrelevant_features]\n",
    "\n",
    "# Assembler and Scaler\n",
    "assembler = VectorAssembler(inputCols=all_features, outputCol=\"features_all\")\n",
    "scaler = StandardScaler(inputCol=\"features_all\", outputCol=\"features\")\n",
    "\n",
    "# Algo\n",
    "b_kmeans = BisectingKMeans().setSeed(1).setFeaturesCol(\"features\").setPredictionCol(\"prediction\")\n",
    "\n",
    "# Pipeline Stages\n",
    "pipeline = Pipeline(stages=[assembler, scaler, b_kmeans])\n",
    "\n",
    "# Evaluator\n",
    "evaluator = ClusteringEvaluator()\n",
    "evaluator.setMetricName(\"silhouette\")"
   ]
  },
  {
   "cell_type": "markdown",
   "metadata": {},
   "source": [
    "#### cross-val"
   ]
  },
  {
   "cell_type": "code",
   "execution_count": 21,
   "metadata": {},
   "outputs": [],
   "source": [
    "# Hyperparameter Tuning\n",
    "k_values = [2,3,4,5,6,7,8,10]\n",
    "max_iter_values = [5, 7, 10, 15,20]\n",
    "# min_divisible_cluster_size_values = [1000, 2500, 5000, 10000, 15000]\n",
    "\n",
    "paramGrid = ParamGridBuilder() \\\n",
    "            .addGrid(b_kmeans.k, k_values) \\\n",
    "            .addGrid(b_kmeans.maxIter, max_iter_values).build()\n",
    "            # .addGrid(b_kmeans.minDivisibleClusterSize, min_divisible_cluster_size_values) \\\n",
    "            # .build()\n",
    "\n",
    "crossval = CrossValidator(estimator=pipeline,\n",
    "                          estimatorParamMaps=paramGrid,\n",
    "                          evaluator=evaluator,\n",
    "                          numFolds=3)"
   ]
  },
  {
   "cell_type": "code",
   "execution_count": 22,
   "metadata": {},
   "outputs": [],
   "source": [
    "# Fit and Evaluate\n",
    "Model_all = crossval.fit(sample)\n",
    "predictions_all = Model_all.transform(sample)"
   ]
  },
  {
   "cell_type": "code",
   "execution_count": 23,
   "metadata": {},
   "outputs": [
    {
     "name": "stdout",
     "output_type": "stream",
     "text": [
      "Best number of clusters: 2\n",
      "Best maxIter: 7\n",
      "Best minDivisibleClusterSize: 1.0\n"
     ]
    }
   ],
   "source": [
    "best_model = Model_all.bestModel \n",
    "best_k = best_model.stages[-1].getK()\n",
    "best_maxiter = best_model.stages[-1].getMaxIter()\n",
    "best_minDivisibleClusterSize = best_model.stages[-1].getMinDivisibleClusterSize()\n",
    "\n",
    "print(f\"Best number of clusters: {best_k}\")\n",
    "print(f\"Best maxIter: {best_maxiter}\")\n",
    "print(f\"Best minDivisibleClusterSize: {best_minDivisibleClusterSize}\")"
   ]
  },
  {
   "cell_type": "markdown",
   "metadata": {},
   "source": [
    "#### no cross validation"
   ]
  },
  {
   "cell_type": "code",
   "execution_count": null,
   "metadata": {},
   "outputs": [],
   "source": [
    "# Fit and Evaluate \n",
    "b_kmeans = b_kmeans #set the best parameters\n",
    "\n",
    "Model_all = pipeline.fit(sample)\n",
    "predictions_all = Model_all.transform(sample)"
   ]
  },
  {
   "cell_type": "code",
   "execution_count": 24,
   "metadata": {},
   "outputs": [],
   "source": [
    "predictions_all = predictions_all.drop(\"features_all\")"
   ]
  },
  {
   "cell_type": "markdown",
   "metadata": {},
   "source": [
    "#### silhouette analysis"
   ]
  },
  {
   "cell_type": "code",
   "execution_count": 25,
   "metadata": {},
   "outputs": [
    {
     "name": "stdout",
     "output_type": "stream",
     "text": [
      "Silhouette Score: 0.105\n"
     ]
    }
   ],
   "source": [
    "silhouette = evaluator.evaluate(predictions_all)\n",
    "print(f\"Silhouette Score: {silhouette:.3f}\")"
   ]
  },
  {
   "cell_type": "code",
   "execution_count": 26,
   "metadata": {},
   "outputs": [
    {
     "name": "stdout",
     "output_type": "stream",
     "text": [
      "+----------+------+\n",
      "|prediction| count|\n",
      "+----------+------+\n",
      "|         1|600802|\n",
      "|         0|400789|\n",
      "+----------+------+\n",
      "\n"
     ]
    }
   ],
   "source": [
    "predictions_all.groupBy(\"prediction\") \\\n",
    "  .agg(count(\"*\").alias(\"count\")) \\\n",
    "  .orderBy(\"count\", ascending=False) \\\n",
    "  .show()"
   ]
  },
  {
   "cell_type": "markdown",
   "metadata": {},
   "source": [
    "#### PCA"
   ]
  },
  {
   "cell_type": "code",
   "execution_count": 27,
   "metadata": {},
   "outputs": [],
   "source": [
    "from pyspark.ml.feature import PCA \n",
    "\n",
    "pca = PCA(k=2, inputCol=\"features\", outputCol=\"pca_features\")  # k=2 for 2D visualization\n",
    "pca_model = pca.fit(predictions_all)\n",
    "\n",
    "df_transformed = pca_model.transform(predictions_all)"
   ]
  },
  {
   "cell_type": "code",
   "execution_count": 28,
   "metadata": {},
   "outputs": [],
   "source": [
    "import pandas as pd\n",
    "\n",
    "results = df_transformed.select(\"pca_features\", \"prediction\").toPandas()\n",
    "pca_features = results[\"pca_features\"].tolist()\n",
    "predictions = results[\"prediction\"].tolist()"
   ]
  },
  {
   "cell_type": "code",
   "execution_count": 29,
   "metadata": {},
   "outputs": [
    {
     "data": {
      "image/png": "[encoded data removed]",
      "text/plain": [
       "<Figure size 640x480 with 1 Axes>"
      ]
     },
     "metadata": {},
     "output_type": "display_data"
    }
   ],
   "source": [
    "import matplotlib.pyplot as plt\n",
    "import numpy as np \n",
    "\n",
    "colors = ['#e6194b', '#4363d8', '#f58231', '#911eb4', '#46f0f0', '#f032e6', '#bcf60c', '#fabebe', '#008080', '#e6beff', '#9a6324', '#fffac8', '#800000', '#aaffc3', '#808000', '#ffd8b1']\n",
    "\n",
    "# Convert lists to NumPy arrays for efficient plotting\n",
    "x_coords = np.array([feature[0] for feature in pca_features])\n",
    "y_coords = np.array([feature[1] for feature in pca_features])\n",
    "colors_array = np.array(colors)[predictions]  # Map colors to predictions\n",
    "\n",
    "# Plot all points at once\n",
    "plt.scatter(x_coords, y_coords, c=colors_array)\n",
    "\n",
    "plt.xlabel(\"Principal Component 1\")\n",
    "plt.ylabel(\"Principal Component 2\")\n",
    "plt.title(\"Visualization of Clusters using PCA\")\n",
    "plt.show()\n"
   ]
  },
  {
   "cell_type": "code",
   "execution_count": 30,
   "metadata": {},
   "outputs": [
    {
     "name": "stdout",
     "output_type": "stream",
     "text": [
      "Component 1 Weights: 0.06849039621271737\n",
      "Component 2 Weights: 0.03707819605029739\n"
     ]
    }
   ],
   "source": [
    "component_matrix = pca_model.explainedVariance.toArray()  # Weights as an array\n",
    "\n",
    "print(\"Component 1 Weights:\", component_matrix[0]) \n",
    "print(\"Component 2 Weights:\", component_matrix[1])"
   ]
  },
  {
   "cell_type": "markdown",
   "metadata": {},
   "source": [
    "#### PCA 3d"
   ]
  },
  {
   "cell_type": "code",
   "execution_count": 31,
   "metadata": {},
   "outputs": [],
   "source": [
    "from pyspark.ml.feature import PCA \n",
    "\n",
    "pca = PCA(k=3, inputCol=\"features\", outputCol=\"pca_features\")  # k=3 for 3D \n",
    "pca_model = pca.fit(predictions_all)\n",
    "df_transformed = pca_model.transform(predictions_all)"
   ]
  },
  {
   "cell_type": "code",
   "execution_count": 32,
   "metadata": {},
   "outputs": [],
   "source": [
    "import pandas as pd\n",
    "\n",
    "results = df_transformed.select(\"pca_features\", \"prediction\").toPandas()\n",
    "pca_features = results[\"pca_features\"].tolist()\n",
    "predictions = results[\"prediction\"].tolist()"
   ]
  },
  {
   "cell_type": "code",
   "execution_count": 33,
   "metadata": {},
   "outputs": [
    {
     "data": {
      "image/png": "[encoded data removed]",
      "text/plain": [
       "<Figure size 640x480 with 1 Axes>"
      ]
     },
     "metadata": {},
     "output_type": "display_data"
    }
   ],
   "source": [
    "from mpl_toolkits.mplot3d import Axes3D  # Import for 3D plotting\n",
    "\n",
    "import matplotlib.pyplot as plt\n",
    "import numpy as np \n",
    "\n",
    "colors = ['#e6194b', '#4363d8', '#f58231', '#911eb4', '#46f0f0', '#f032e6', '#bcf60c', '#fabebe', '#008080', '#e6beff', '#9a6324', '#fffac8', '#800000', '#aaffc3', '#808000', '#ffd8b1']\n",
    "\n",
    "# Convert lists to NumPy arrays for efficient plotting\n",
    "x_coords = np.array([feature[0] for feature in pca_features])\n",
    "y_coords = np.array([feature[1] for feature in pca_features])\n",
    "z_coords = np.array([feature[2] for feature in pca_features])\n",
    "colors_array = np.array(colors)[predictions]  # Map colors to predictions\n",
    "\n",
    "fig = plt.figure()\n",
    "ax = fig.add_subplot(111, projection='3d')  # Create a 3D subplot\n",
    "\n",
    "# 3D scatter plot\n",
    "ax.scatter(x_coords, y_coords, z_coords, c=colors_array)\n",
    "\n",
    "ax.set_xlabel(\"Principal Component 1\")\n",
    "ax.set_ylabel(\"Principal Component 2\")\n",
    "ax.set_zlabel(\"Principal Component 3\") \n",
    "plt.title(\"Visualization of Clusters using PCA (3D)\")\n",
    "plt.show()"
   ]
  },
  {
   "cell_type": "code",
   "execution_count": 34,
   "metadata": {},
   "outputs": [
    {
     "name": "stdout",
     "output_type": "stream",
     "text": [
      "Component 1 Weights: 0.06849039621271737\n",
      "Component 2 Weights: 0.037078196050297364\n",
      "Component 3 Weights: 0.03701349758497346\n"
     ]
    }
   ],
   "source": [
    "component_matrix = pca_model.explainedVariance.toArray()  # Weights as an array\n",
    "\n",
    "print(\"Component 1 Weights:\", component_matrix[0]) \n",
    "print(\"Component 2 Weights:\", component_matrix[1])\n",
    "print(\"Component 3 Weights:\", component_matrix[2])"
   ]
  },
  {
   "cell_type": "markdown",
   "metadata": {},
   "source": [
    "## GMM"
   ]
  },
  {
   "cell_type": "markdown",
   "metadata": {},
   "source": [
    "##### Training log-likelihood - elbow-ish method"
   ]
  },
  {
   "cell_type": "code",
   "execution_count": null,
   "metadata": {},
   "outputs": [],
   "source": [
    "import pyspark.sql.functions as F\n",
    "from pyspark.ml.clustering import GaussianMixture\n",
    "from pyspark.ml.feature import VectorAssembler, StandardScaler\n",
    "from pyspark.ml import Pipeline\n",
    "import pandas as pd \n",
    "import pylab as pl\n",
    "\n",
    "# Calculate scores and plot (Modified for GMM)\n",
    "scores = {}  # Use a dictionary to store scores\n",
    "\n",
    "for k in range(8, 41, 2):\n",
    "    gmm = GaussianMixture().setK(k).setSeed(1).setFeaturesCol('features')\n",
    "    pipeline = Pipeline(stages=[assembler, scaler, gmm])  # Pipeline with GMM\n",
    "    model = pipeline.fit(df) \n",
    "\n",
    "    # GaussianMixture has no 'trainingCost' attribute, using log-likelihood instead\n",
    "    scores[k] = model.summary.logLikelihood  \n",
    "\n",
    "# Plot the scores\n",
    "df_scores = pd.DataFrame.from_dict(scores, orient='index', columns=['log_likelihood']) \n",
    "new_col = [8, 10, 12, 14, 16, 18, 20, 22, 24, 26, 28, 30, 32, 34, 36, 38, 40]\n",
    "df_scores.index = new_col\n",
    "\n",
    "pl.plot(df_scores.index, df_scores.log_likelihood)\n",
    "pl.xlabel('Number of Clusters')\n",
    "pl.ylabel('Log Likelihood')\n",
    "pl.title('Elbow Curve')\n",
    "pl.show()\n"
   ]
  },
  {
   "cell_type": "markdown",
   "metadata": {},
   "source": [
    "## DBSCAN"
   ]
  },
  {
   "cell_type": "code",
   "execution_count": 20,
   "metadata": {},
   "outputs": [],
   "source": [
    "import dbscan\n",
    "from sklearn.datasets import make_blobs\n",
    "from pyspark.sql import types as T\n",
    "from scipy.spatial import distance"
   ]
  },
  {
   "cell_type": "code",
   "execution_count": 21,
   "metadata": {},
   "outputs": [
    {
     "data": {
      "text/plain": [
       "ClusteringEvaluator_d91d3e4e067a"
      ]
     },
     "execution_count": 21,
     "metadata": {},
     "output_type": "execute_result"
    }
   ],
   "source": [
    "#Features\n",
    "columns = df.columns\n",
    "irrelevant_features = [\"Batch_ID\", \"Brew_Date\", \"USD_per_Liter\", \"Brewing_efficency\", \"Total_Sales\", \"fermentation_time_bin\"] \n",
    "all_features = [col for col in columns if col not in irrelevant_features]\n",
    "\n",
    "assembler = VectorAssembler(inputCols=all_features, outputCol=\"features_all\")\n",
    "scaler = StandardScaler(inputCol=\"features_all\", outputCol=\"features\")\n",
    "\n",
    "# Pipeline Stages\n",
    "pipeline = Pipeline(stages=[assembler, scaler])\n",
    "\n",
    "# Evaluator\n",
    "evaluator = ClusteringEvaluator()\n",
    "evaluator.setMetricName(\"silhouette\")"
   ]
  },
  {
   "cell_type": "code",
   "execution_count": 22,
   "metadata": {},
   "outputs": [],
   "source": [
    "scaled_df = pipeline.fit(sample).transform(sample)"
   ]
  },
  {
   "cell_type": "code",
   "execution_count": 23,
   "metadata": {},
   "outputs": [],
   "source": [
    "scaled_df = scaled_df.select(\"features\", \"Batch_ID\")"
   ]
  },
  {
   "cell_type": "code",
   "execution_count": 24,
   "metadata": {},
   "outputs": [
    {
     "name": "stdout",
     "output_type": "stream",
     "text": [
      "+--------------------+--------+\n",
      "|            features|Batch_ID|\n",
      "+--------------------+--------+\n",
      "|(37,[0,1,2,3,4,5,...| 8843420|\n",
      "|(37,[0,1,2,3,4,5,...| 1816588|\n",
      "|(37,[0,1,2,3,4,5,...| 3420320|\n",
      "|(37,[0,1,2,3,4,5,...| 9790483|\n",
      "|(37,[0,1,2,3,4,5,...| 1709420|\n",
      "|(37,[0,1,2,3,4,5,...|  370090|\n",
      "|(37,[0,1,2,3,4,5,...| 1989680|\n",
      "|(37,[0,1,2,3,4,5,...| 4173637|\n",
      "|(37,[0,1,2,3,4,5,...| 1975791|\n",
      "|(37,[0,1,2,3,4,5,...|  379969|\n",
      "|(37,[0,1,2,3,4,5,...| 3998496|\n",
      "|(37,[0,1,2,3,4,5,...| 3281434|\n",
      "|(37,[0,1,2,3,4,5,...| 6423337|\n",
      "|(37,[0,1,2,3,4,5,...| 9350574|\n",
      "|(37,[0,1,2,3,4,5,...| 2255874|\n",
      "|(37,[0,1,2,3,4,5,...|  886164|\n",
      "|(37,[0,1,2,3,4,5,...| 3997681|\n",
      "|(37,[0,1,2,3,4,5,...| 2174798|\n",
      "|(37,[0,1,2,3,4,5,...| 5143605|\n",
      "|(37,[0,1,2,3,4,5,...| 5480858|\n",
      "+--------------------+--------+\n",
      "only showing top 20 rows\n",
      "\n"
     ]
    }
   ],
   "source": [
    "scaled_df.show()"
   ]
  },
  {
   "cell_type": "code",
   "execution_count": 26,
   "metadata": {},
   "outputs": [
    {
     "ename": "AttributeError",
     "evalue": "value",
     "output_type": "error",
     "traceback": [
      "\u001b[1;31m---------------------------------------------------------------------------\u001b[0m",
      "\u001b[1;31mValueError\u001b[0m                                Traceback (most recent call last)",
      "File \u001b[1;32mC:/Spark/spark-3.5.0-bin-hadoop3\\python\\pyspark\\sql\\types.py:2377\u001b[0m, in \u001b[0;36mRow.__getattr__\u001b[1;34m(self, item)\u001b[0m\n\u001b[0;32m   2374\u001b[0m \u001b[38;5;28;01mtry\u001b[39;00m:\n\u001b[0;32m   2375\u001b[0m     \u001b[38;5;66;03m# it will be slow when it has many fields,\u001b[39;00m\n\u001b[0;32m   2376\u001b[0m     \u001b[38;5;66;03m# but this will not be used in normal cases\u001b[39;00m\n\u001b[1;32m-> 2377\u001b[0m     idx \u001b[38;5;241m=\u001b[39m \u001b[38;5;28;43mself\u001b[39;49m\u001b[38;5;241;43m.\u001b[39;49m\u001b[43m__fields__\u001b[49m\u001b[38;5;241;43m.\u001b[39;49m\u001b[43mindex\u001b[49m\u001b[43m(\u001b[49m\u001b[43mitem\u001b[49m\u001b[43m)\u001b[49m\n\u001b[0;32m   2378\u001b[0m     \u001b[38;5;28;01mreturn\u001b[39;00m \u001b[38;5;28mself\u001b[39m[idx]\n",
      "\u001b[1;31mValueError\u001b[0m: 'value' is not in list",
      "\nDuring handling of the above exception, another exception occurred:\n",
      "\u001b[1;31mAttributeError\u001b[0m                            Traceback (most recent call last)",
      "Cell \u001b[1;32mIn[26], line 1\u001b[0m\n\u001b[1;32m----> 1\u001b[0m df_clusters \u001b[38;5;241m=\u001b[39m \u001b[43mdbscan\u001b[49m\u001b[38;5;241;43m.\u001b[39;49m\u001b[43mprocess\u001b[49m\u001b[43m(\u001b[49m\u001b[43mspark\u001b[49m\u001b[43m,\u001b[49m\u001b[43m \u001b[49m\u001b[43mdf\u001b[49m\u001b[43m,\u001b[49m\u001b[43m \u001b[49m\u001b[38;5;241;43m0.2\u001b[39;49m\u001b[43m,\u001b[49m\u001b[43m \u001b[49m\u001b[38;5;241;43m10\u001b[39;49m\u001b[43m,\u001b[49m\u001b[43m \u001b[49m\u001b[43mdistance\u001b[49m\u001b[38;5;241;43m.\u001b[39;49m\u001b[43meuclidean\u001b[49m\u001b[43m,\u001b[49m\u001b[43m \u001b[49m\u001b[38;5;28;43mlen\u001b[39;49m\u001b[43m(\u001b[49m\u001b[43mall_features\u001b[49m\u001b[43m)\u001b[49m\u001b[43m,\u001b[49m\u001b[43m \u001b[49m\u001b[38;5;124;43m\"\u001b[39;49m\u001b[38;5;124;43mcheckpoint\u001b[39;49m\u001b[38;5;124;43m\"\u001b[39;49m\u001b[43m)\u001b[49m\n",
      "File \u001b[1;32mc:\\Users\\Vincenzo\\AppData\\Local\\Programs\\Python\\Python38\\lib\\site-packages\\dbscan.py:93\u001b[0m, in \u001b[0;36mprocess\u001b[1;34m(spark, df, epsilon, min_pts, dist, dim, checkpoint_dir, operations)\u001b[0m\n\u001b[0;32m     80\u001b[0m \u001b[38;5;28;01mdef\u001b[39;00m \u001b[38;5;21mprocess\u001b[39m(spark, df, epsilon, min_pts, dist, dim, checkpoint_dir, operations\u001b[38;5;241m=\u001b[39m\u001b[38;5;28;01mNone\u001b[39;00m):\n\u001b[0;32m     81\u001b[0m \u001b[38;5;250m    \u001b[39m\u001b[38;5;124;03m\"\"\"\u001b[39;00m\n\u001b[0;32m     82\u001b[0m \u001b[38;5;124;03m    Process given dataframe with DBSCAN parameters\u001b[39;00m\n\u001b[0;32m     83\u001b[0m \u001b[38;5;124;03m    :param spark: spark session\u001b[39;00m\n\u001b[1;32m   (...)\u001b[0m\n\u001b[0;32m     91\u001b[0m \u001b[38;5;124;03m    :return: A dataframe of point id, cluster component and boolean indicator for core point\u001b[39;00m\n\u001b[0;32m     92\u001b[0m \u001b[38;5;124;03m    \"\"\"\u001b[39;00m\n\u001b[1;32m---> 93\u001b[0m     zero \u001b[38;5;241m=\u001b[39m \u001b[43mdf\u001b[49m\u001b[38;5;241;43m.\u001b[39;49m\u001b[43mrdd\u001b[49m\u001b[38;5;241;43m.\u001b[39;49m\u001b[43mtakeSample\u001b[49m\u001b[43m(\u001b[49m\u001b[38;5;28;43;01mFalse\u001b[39;49;00m\u001b[43m,\u001b[49m\u001b[43m \u001b[49m\u001b[38;5;241;43m1\u001b[39;49m\u001b[43m)\u001b[49m\u001b[43m[\u001b[49m\u001b[38;5;241;43m0\u001b[39;49m\u001b[43m]\u001b[49m\u001b[38;5;241;43m.\u001b[39;49m\u001b[43mvalue\u001b[49m\n\u001b[0;32m     94\u001b[0m     combine_cluster_rdd \u001b[38;5;241m=\u001b[39m df\u001b[38;5;241m.\u001b[39mrdd\u001b[38;5;241m.\u001b[39m\\\n\u001b[0;32m     95\u001b[0m         flatMap(__distance_from_pivot(zero, dist, epsilon, operations))\u001b[38;5;241m.\u001b[39m \\\n\u001b[0;32m     96\u001b[0m         reduceByKey(\u001b[38;5;28;01mlambda\u001b[39;00m x, y: x \u001b[38;5;241m+\u001b[39m y)\u001b[38;5;241m.\u001b[39m\\\n\u001b[1;32m   (...)\u001b[0m\n\u001b[0;32m     99\u001b[0m         flatMap(__label(min_pts))\u001b[38;5;241m.\u001b[39m\\\n\u001b[0;32m    100\u001b[0m         reduceByKey(\u001b[38;5;28;01mlambda\u001b[39;00m x, y: x \u001b[38;5;241m+\u001b[39m y)\u001b[38;5;241m.\u001b[39mmap(__combine_labels)\u001b[38;5;241m.\u001b[39mcache()\n\u001b[0;32m    101\u001b[0m     id_cluster_rdd \u001b[38;5;241m=\u001b[39m combine_cluster_rdd\u001b[38;5;241m.\u001b[39m\\\n\u001b[0;32m    102\u001b[0m         \u001b[38;5;28mmap\u001b[39m(\u001b[38;5;28;01mlambda\u001b[39;00m x: Row(point\u001b[38;5;241m=\u001b[39mx[\u001b[38;5;241m0\u001b[39m], cluster_label\u001b[38;5;241m=\u001b[39mx[\u001b[38;5;241m1\u001b[39m][\u001b[38;5;241m0\u001b[39m], core_point\u001b[38;5;241m=\u001b[39mx[\u001b[38;5;241m2\u001b[39m]))\n",
      "File \u001b[1;32mC:/Spark/spark-3.5.0-bin-hadoop3\\python\\pyspark\\sql\\types.py:2382\u001b[0m, in \u001b[0;36mRow.__getattr__\u001b[1;34m(self, item)\u001b[0m\n\u001b[0;32m   2380\u001b[0m     \u001b[38;5;28;01mraise\u001b[39;00m \u001b[38;5;167;01mAttributeError\u001b[39;00m(item)\n\u001b[0;32m   2381\u001b[0m \u001b[38;5;28;01mexcept\u001b[39;00m \u001b[38;5;167;01mValueError\u001b[39;00m:\n\u001b[1;32m-> 2382\u001b[0m     \u001b[38;5;28;01mraise\u001b[39;00m \u001b[38;5;167;01mAttributeError\u001b[39;00m(item)\n",
      "\u001b[1;31mAttributeError\u001b[0m: value"
     ]
    }
   ],
   "source": [
    "df_clusters = dbscan.process(spark, df, 0.2, 10, distance.euclidean, len(all_features), \"checkpoint\")"
   ]
  }
 ],
 "metadata": {
  "kernelspec": {
   "display_name": "Python 3",
   "language": "python",
   "name": "python3"
  },
  "language_info": {
   "codemirror_mode": {
    "name": "ipython",
    "version": 3
   },
   "file_extension": ".py",
   "mimetype": "text/x-python",
   "name": "python",
   "nbconvert_exporter": "python",
   "pygments_lexer": "ipython3",
   "version": "3.8.0"
  }
 },
 "nbformat": 4,
 "nbformat_minor": 2
}
