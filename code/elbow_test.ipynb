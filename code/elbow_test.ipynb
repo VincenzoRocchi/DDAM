{
 "cells": [
  {
   "cell_type": "markdown",
   "metadata": {},
   "source": [
    "# Imports and spark config"
   ]
  },
  {
   "cell_type": "code",
   "execution_count": 1,
   "metadata": {},
   "outputs": [
    {
     "name": "stdout",
     "output_type": "stream",
     "text": [
      "C:\\Users\\Vincenzo\\AppData\\Local\\Programs\\Python\\Python38\\python.exe\n"
     ]
    }
   ],
   "source": [
    "import os\n",
    "\n",
    "# Set SPARK_HOME\n",
    "os.environ[\"SPARK_HOME\"] = r\"C:/Spark/spark-3.5.0-bin-hadoop3\"\n",
    "\n",
    "# Set PYTHONPATH\n",
    "spark_home = os.environ.get(\"SPARK_HOME\", \"\")\n",
    "if spark_home:\n",
    "    python_path = os.path.join(spark_home, \"python\")\n",
    "    py4j_zip = os.path.join(spark_home, \"python\", \"lib\", \"py4j-0.10.9.7-src.zip\")\n",
    "    os.environ[\"PYTHONPATH\"] = f\"{python_path};{py4j_zip};{os.environ.get('PYTHONPATH', '')}\"\n",
    "\n",
    "# Set PYSPARK_PYTHON\n",
    "os.environ[\"PYSPARK_PYTHON\"] = r\"C:\\Users\\Vincenzo\\AppData\\Local\\Programs\\Python\\Python38\\python.exe\"\n",
    "print(os.environ.get('PYSPARK_PYTHON'))\n",
    "\n",
    "# Set PATH\n",
    "if spark_home:\n",
    "    os.environ[\"PATH\"] = f\"{python_path};{os.path.join(spark_home, 'bin')};{os.environ.get('PATH', '')}\""
   ]
  },
  {
   "cell_type": "code",
   "execution_count": 2,
   "metadata": {},
   "outputs": [],
   "source": [
    "import findspark\n",
    "findspark.init()\n",
    "\n",
    "import pandas as pd\n",
    "from tqdm import tqdm\n",
    "import numpy as np\n",
    "import seaborn as sns\n",
    "import matplotlib.pyplot as plt\n",
    "import sklearn\n",
    "import gc\n",
    "\n",
    "from pyspark.sql import SparkSession\n",
    "from pyspark.sql import functions as F"
   ]
  },
  {
   "cell_type": "code",
   "execution_count": 3,
   "metadata": {},
   "outputs": [
    {
     "data": {
      "text/html": [
       "\n",
       "            <div>\n",
       "                <p><b>SparkSession - in-memory</b></p>\n",
       "                \n",
       "        <div>\n",
       "            <p><b>SparkContext</b></p>\n",
       "\n",
       "            <p><a href=\"http://localhost:4040\">Spark UI</a></p>\n",
       "\n",
       "            <dl>\n",
       "              <dt>Version</dt>\n",
       "                <dd><code>v3.5.0</code></dd>\n",
       "              <dt>Master</dt>\n",
       "                <dd><code>local[*]</code></dd>\n",
       "              <dt>AppName</dt>\n",
       "                <dd><code>spark</code></dd>\n",
       "            </dl>\n",
       "        </div>\n",
       "        \n",
       "            </div>\n",
       "        "
      ],
      "text/plain": [
       "<pyspark.sql.session.SparkSession at 0x2116e97fdf0>"
      ]
     },
     "execution_count": 3,
     "metadata": {},
     "output_type": "execute_result"
    }
   ],
   "source": [
    "spark = SparkSession.builder.appName(\"spark\").config(\"spark.driver.memory\", \"24g\").getOrCreate()\n",
    "spark"
   ]
  },
  {
   "cell_type": "code",
   "execution_count": 4,
   "metadata": {},
   "outputs": [],
   "source": [
    "spark.conf.set(\"spark.sql.execution.arrow.pyspark.enabled\", \"true\")\n",
    "spark.conf.set(\"spark.sql.execution.arrow.enabled\", \"true\")"
   ]
  },
  {
   "cell_type": "code",
   "execution_count": 5,
   "metadata": {},
   "outputs": [
    {
     "data": {
      "text/plain": [
       "pyspark.sql.dataframe.DataFrame"
      ]
     },
     "execution_count": 5,
     "metadata": {},
     "output_type": "execute_result"
    }
   ],
   "source": [
    "df = spark.read.parquet(r\"c:\\Users\\Vincenzo\\PROJECTS\\DDAM_data\\brewery\\brewery_data_complete_extended.parquet\")\n",
    "type(df)"
   ]
  },
  {
   "cell_type": "code",
   "execution_count": 6,
   "metadata": {},
   "outputs": [],
   "source": [
    "from pyspark.sql.functions import split, col\n",
    "\n",
    "# Split the ratio_column into three parts based on the colon delimiter\n",
    "split_col = split(col(\"Ingredient_Ratio\"), \":\")\n",
    "\n",
    "# Create three separate columns for water, grains, and hops\n",
    "df = df.withColumn(\"water\", split_col.getItem(0).cast(\"double\"))\n",
    "df = df.withColumn(\"grains\", split_col.getItem(1).cast(\"double\"))\n",
    "df = df.withColumn(\"hops\", split_col.getItem(2).cast(\"double\"))\n",
    "df = df.drop(\"Ingredient_Ratio\")"
   ]
  },
  {
   "cell_type": "code",
   "execution_count": 7,
   "metadata": {},
   "outputs": [],
   "source": [
    "# Define a new column with the USD per liter ratio and brewing efficiency\n",
    "df = df.withColumn(\"USD_per_Liter\", F.col(\"Total_Sales\") / F.col(\"Volume_Produced\").cast(\"double\"))\n",
    "df = df.withColumn(\"Brewing_efficency\", F.col(\"Brewhouse_Efficiency\") / F.col(\"Volume_Produced\").cast(\"double\"))"
   ]
  },
  {
   "cell_type": "code",
   "execution_count": 8,
   "metadata": {},
   "outputs": [
    {
     "name": "stdout",
     "output_type": "stream",
     "text": [
      "Numerical columns: ['Batch_ID', 'Fermentation_Time', 'Temperature', 'pH_Level', 'Gravity', 'Alcohol_Content', 'Bitterness', 'Color', 'Volume_Produced', 'Total_Sales', 'Quality_Score', 'Brewhouse_Efficiency', 'Loss_During_Brewing', 'Loss_During_Fermentation', 'Loss_During_Bottling_Kegging', 'water', 'grains', 'hops', 'USD_per_Liter', 'Brewing_efficency']\n",
      "Categorical columns: ['Brew_Date', 'Beer_Style', 'SKU', 'Location']\n"
     ]
    }
   ],
   "source": [
    "from pyspark.sql.types import StringType\n",
    "\n",
    "# Identify numerical and non-numerical columns\n",
    "numerical_cols = [col_name for col_name, data_type in df.dtypes if data_type != 'string']\n",
    "categorical_cols = [col_name for col_name, data_type in df.dtypes if data_type == 'string']\n",
    "\n",
    "print(f'Numerical columns: {numerical_cols}')\n",
    "print(f'Categorical columns: {categorical_cols}')"
   ]
  },
  {
   "cell_type": "code",
   "execution_count": 9,
   "metadata": {},
   "outputs": [],
   "source": [
    "# functions\n",
    "\n",
    "from pyspark.sql.functions import when, col\n",
    "from pyspark.ml.feature import OneHotEncoder, StringIndexer, VectorAssembler\n",
    "from pyspark.ml import Pipeline\n",
    "from pyspark.sql.functions import col, dense_rank, when\n",
    "from pyspark.sql.window import Window\n",
    "\n",
    "def ordinal_encode_pyspark(df, input_col, output_col):\n",
    "    \"\"\" Ordinal encodes a column within a PySpark DataFrame\n",
    "\n",
    "    Args:\n",
    "        df (pyspark.sql.DataFrame): The input Spark DataFrame.\n",
    "        input_col (str): Name of the column to be encoded. Defaults to \"Bitterness\".\n",
    "        output_col (str): Name for the new ordinal encoded column. Defaults to \"Bitterness_ordinal\".\n",
    "    \n",
    "    Returns:\n",
    "        pyspark.sql.DataFrame: The Spark DataFrame with the ordinal encoded column.\n",
    "    \"\"\"\n",
    "\n",
    "    window = Window.orderBy(input_col) \n",
    "    return df.withColumn(output_col, dense_rank().over(window)) \\\n",
    "             .withColumn(output_col, when(col(input_col).isNull(), 0).otherwise(col(output_col))) \\\n",
    "             #.drop(input_col)\n",
    "             \n",
    "def check_distinct_values(df, feature_col):\n",
    "    \"\"\"  \n",
    "    Prints the distinct values of a feature in a PySpark DataFrame.\n",
    "\n",
    "    Args:\n",
    "        df (pyspark.sql.DataFrame): The PySpark DataFrame.\n",
    "        feature_col (str): The name of the feature column.\n",
    "    \"\"\"\n",
    "\n",
    "    distinct_values = df.select(feature_col).distinct().collect()\n",
    "\n",
    "    print(f\"Distinct values in '{feature_col}':\")\n",
    "    for row in distinct_values:\n",
    "        print(row[feature_col]) \n",
    "\n",
    "    # functions\n",
    "\n",
    "def one_hot_encode_column(df, input_col, output_col_prefix=\"encoded\"):\n",
    "    \"\"\" One-hot encodes a specified categorical column, drops intermediary columns,\n",
    "        and allows for specifying the prefix of the output columns.\n",
    "\n",
    "    Args:\n",
    "        df (pyspark.sql.DataFrame): Input DataFrame.\n",
    "        input_col (str): The name of the column containing categorical data.\n",
    "        output_col_prefix (str): Prefix for the generated one-hot encoded column names.\n",
    "\n",
    "    Returns:\n",
    "        pyspark.sql.DataFrame: DataFrame with the one-hot encoded column(s) and \n",
    "                               intermediary columns removed.\n",
    "    \"\"\"\n",
    "\n",
    "    indexer = StringIndexer(inputCol=input_col, outputCol=input_col + \"_index\")\n",
    "    encoder = OneHotEncoder(inputCol=input_col + \"_index\", outputCol=output_col_prefix + input_col + \"features\")\n",
    "    assembler = VectorAssembler(inputCols=[input_col + \"_index\"], outputCol=\"features\") \n",
    "\n",
    "    pipeline = Pipeline(stages=[indexer, assembler, encoder])\n",
    "    transformed_df = pipeline.fit(df).transform(df)\n",
    "\n",
    "    # Drop unnecessary columns\n",
    "    drop_cols = [input_col + \"_index\", \"features\"]\n",
    "    return transformed_df.drop(*drop_cols)  # Dynamic column dropping\n",
    "\n",
    "def discretize_and_encode(df, input_col=\"fermentation_time\"):\n",
    "    \"\"\" Discretizes a feature into bins, one-hot encodes the bins, and preserves the original column\n",
    "\n",
    "    Args:\n",
    "        df (pyspark.sql.DataFrame): Input DataFrame\n",
    "        input_col (str): Name of the column to be discretized and encoded\n",
    "\n",
    "    Returns:\n",
    "        pyspark.sql.DataFrame:  DataFrame with new discretization and encoded columns\n",
    "    \"\"\"\n",
    "\n",
    "    df = df.withColumn(input_col + \"_bin\", \n",
    "                       when((col(input_col) >= 10) & (col(input_col) <= 13), \"Short\")\n",
    "                       .when((col(input_col) >= 14) & (col(input_col) <= 16), \"Medium\")\n",
    "                       .otherwise(\"Long\"))\n",
    "    \n",
    "    return one_hot_encode_column(df, input_col=input_col + \"_bin\") "
   ]
  },
  {
   "cell_type": "code",
   "execution_count": 10,
   "metadata": {},
   "outputs": [
    {
     "name": "stdout",
     "output_type": "stream",
     "text": [
      "+------------------------------------+\n",
      "|encodedfermentation_time_binfeatures|\n",
      "+------------------------------------+\n",
      "|                           (2,[],[])|\n",
      "|                       (2,[0],[1.0])|\n",
      "|                       (2,[0],[1.0])|\n",
      "|                       (2,[1],[1.0])|\n",
      "|                       (2,[1],[1.0])|\n",
      "+------------------------------------+\n",
      "only showing top 5 rows\n",
      "\n"
     ]
    }
   ],
   "source": [
    "#discretize and encode is hardcoded for fermentation time (!!)\n",
    "\n",
    "df = discretize_and_encode(df)\n",
    "df.select(\"encodedfermentation_time_binfeatures\").show(5)"
   ]
  },
  {
   "cell_type": "code",
   "execution_count": 11,
   "metadata": {},
   "outputs": [
    {
     "name": "stdout",
     "output_type": "stream",
     "text": [
      "+-------------------------+\n",
      "|encodedBeer_Stylefeatures|\n",
      "+-------------------------+\n",
      "|                (7,[],[])|\n",
      "|            (7,[2],[1.0])|\n",
      "|                (7,[],[])|\n",
      "|            (7,[0],[1.0])|\n",
      "|            (7,[3],[1.0])|\n",
      "+-------------------------+\n",
      "only showing top 5 rows\n",
      "\n"
     ]
    }
   ],
   "source": [
    "df = one_hot_encode_column(df, \"Beer_Style\")\n",
    "df.select(\"encodedBeer_Stylefeatures\").show(5)"
   ]
  },
  {
   "cell_type": "code",
   "execution_count": 12,
   "metadata": {},
   "outputs": [
    {
     "name": "stdout",
     "output_type": "stream",
     "text": [
      "+------------------+\n",
      "|encodedSKUfeatures|\n",
      "+------------------+\n",
      "|         (3,[],[])|\n",
      "|         (3,[],[])|\n",
      "|         (3,[],[])|\n",
      "|         (3,[],[])|\n",
      "|     (3,[2],[1.0])|\n",
      "+------------------+\n",
      "only showing top 5 rows\n",
      "\n"
     ]
    }
   ],
   "source": [
    "df = one_hot_encode_column(df, \"SKU\")\n",
    "df.select(\"encodedSKUfeatures\").show(5)"
   ]
  },
  {
   "cell_type": "code",
   "execution_count": 13,
   "metadata": {},
   "outputs": [
    {
     "name": "stdout",
     "output_type": "stream",
     "text": [
      "+-----------------------+\n",
      "|encodedLocationfeatures|\n",
      "+-----------------------+\n",
      "|              (9,[],[])|\n",
      "|              (9,[],[])|\n",
      "|          (9,[7],[1.0])|\n",
      "|          (9,[4],[1.0])|\n",
      "|          (9,[3],[1.0])|\n",
      "+-----------------------+\n",
      "only showing top 5 rows\n",
      "\n"
     ]
    }
   ],
   "source": [
    "df = one_hot_encode_column(df, \"Location\")\n",
    "df.select(\"encodedLocationfeatures\").show(5)"
   ]
  },
  {
   "cell_type": "code",
   "execution_count": 14,
   "metadata": {},
   "outputs": [
    {
     "name": "stdout",
     "output_type": "stream",
     "text": [
      "root\n",
      " |-- Batch_ID: long (nullable = true)\n",
      " |-- Brew_Date: string (nullable = true)\n",
      " |-- Fermentation_Time: long (nullable = true)\n",
      " |-- Temperature: double (nullable = true)\n",
      " |-- pH_Level: double (nullable = true)\n",
      " |-- Gravity: double (nullable = true)\n",
      " |-- Alcohol_Content: double (nullable = true)\n",
      " |-- Bitterness: long (nullable = true)\n",
      " |-- Color: long (nullable = true)\n",
      " |-- Volume_Produced: long (nullable = true)\n",
      " |-- Total_Sales: double (nullable = true)\n",
      " |-- Quality_Score: double (nullable = true)\n",
      " |-- Brewhouse_Efficiency: double (nullable = true)\n",
      " |-- Loss_During_Brewing: double (nullable = true)\n",
      " |-- Loss_During_Fermentation: double (nullable = true)\n",
      " |-- Loss_During_Bottling_Kegging: double (nullable = true)\n",
      " |-- water: double (nullable = true)\n",
      " |-- grains: double (nullable = true)\n",
      " |-- hops: double (nullable = true)\n",
      " |-- USD_per_Liter: double (nullable = true)\n",
      " |-- Brewing_efficency: double (nullable = true)\n",
      " |-- encodedfermentation_time_binfeatures: vector (nullable = true)\n",
      " |-- encodedBeer_Stylefeatures: vector (nullable = true)\n",
      " |-- encodedSKUfeatures: vector (nullable = true)\n",
      " |-- encodedLocationfeatures: vector (nullable = true)\n",
      "\n"
     ]
    }
   ],
   "source": [
    "df = df.drop(\"Location\", \"SKU\", \"Beer_Style\", \"fermentation_time_bin\")\n",
    "df.printSchema()"
   ]
  },
  {
   "cell_type": "code",
   "execution_count": 15,
   "metadata": {},
   "outputs": [],
   "source": [
    "from pyspark.ml import Pipeline\n",
    "from pyspark.ml.feature import VectorAssembler, StandardScaler\n",
    "\n",
    "production_features = [\"Fermentation_Time\", \"Temperature\", \"pH_Level\", \"Gravity\",  \"water\", \"grains\", \"hops\"] \n",
    "assembler_production = VectorAssembler(inputCols=production_features, outputCol=\"features_production\")\n",
    "scaler_production = StandardScaler(inputCol=\"features_production\", outputCol=\"features\")\n",
    "\n",
    "pipeline = Pipeline(stages=[assembler_production, scaler_production])\n",
    "df = pipeline.fit(df).transform(df)"
   ]
  },
  {
   "cell_type": "code",
   "execution_count": 16,
   "metadata": {},
   "outputs": [
    {
     "name": "stdout",
     "output_type": "stream",
     "text": [
      "10\n",
      "20\n",
      "50\n"
     ]
    }
   ],
   "source": [
    "from pyspark.ml.clustering import KMeans\n",
    "import matplotlib.pyplot as plt\n",
    "from pyspark.sql.types import DoubleType, ArrayType\n",
    "import pyspark.sql.functions as F\n",
    "from pyspark.ml.linalg import Vectors, DenseVector\n",
    "\n",
    "def calculate_WSSSE(df, prediction_col=\"prediction\", features_col=\"features\"):\n",
    "    def squared_distance(feature_vec, mean_vec):\n",
    "        if isinstance(feature_vec, DenseVector) and isinstance(mean_vec, DenseVector):\n",
    "            return Vectors.squared_distance(feature_vec, mean_vec)\n",
    "        else:\n",
    "            return 0.0  # Return 0 if not valid vectors \n",
    "\n",
    "    squared_distance_udf = F.udf(squared_distance, DoubleType())\n",
    "\n",
    "    def extract_values(feature_vec):\n",
    "        if isinstance(feature_vec, DenseVector): \n",
    "            return feature_vec.toArray().tolist() # Extract values directly\n",
    "        else:\n",
    "            return Vectors.dense(feature_vec.toArray().tolist())  \n",
    "\n",
    "    extract_values_udf = F.udf(extract_values, ArrayType(DoubleType())) \n",
    "\n",
    "    subquery = df.select(prediction_col, F.explode(extract_values_udf(F.col(features_col))).alias('feature_value')) \\\n",
    "                 .groupBy(prediction_col, 'feature_value') \\\n",
    "                 .agg(F.mean('feature_value').alias('mean_features'))\n",
    "\n",
    "    wssse = subquery.groupBy(prediction_col) \\\n",
    "                    .agg(F.sum(squared_distance_udf(F.col('feature_value'), F.col('mean_features'))).alias('wssse')) \\\n",
    "                    .select(F.sum('wssse')).collect()[0][0]\n",
    "\n",
    "    return wssse\n",
    "\n",
    "wssse = []\n",
    "\n",
    "for k in [10,20,50]: \n",
    "    kmeans = KMeans().setK(k).setSeed(1).setFeaturesCol(\"features\").setPredictionCol(\"prediction\")\n",
    "    predictions = kmeans.fit(df).transform(df)\n",
    "    print(k)\n",
    "\n",
    "    wssse.append(calculate_WSSSE(predictions))  # Use our WSSSE calculation"
   ]
  },
  {
   "cell_type": "code",
   "execution_count": 18,
   "metadata": {},
   "outputs": [
    {
     "data": {
      "image/png": "[encoded data removed]",
      "text/plain": [
       "<Figure size 1000x600 with 1 Axes>"
      ]
     },
     "metadata": {},
     "output_type": "display_data"
    }
   ],
   "source": [
    "plt.figure(figsize=(10, 6))\n",
    "plt.plot([10,20,50], wssse, 'bo-')  # Adjust 'k' values here too\n",
    "plt.xlabel('Number of Clusters (k)')\n",
    "plt.ylabel('WSSSE')\n",
    "plt.title('Elbow Method for Optimal k')\n",
    "plt.show()"
   ]
  },
  {
   "cell_type": "markdown",
   "metadata": {},
   "source": [
    "#### range"
   ]
  },
  {
   "cell_type": "code",
   "execution_count": 23,
   "metadata": {},
   "outputs": [
    {
     "ename": "IndexError",
     "evalue": "index 100 is out of bounds for axis 0 with size 100",
     "output_type": "error",
     "traceback": [
      "\u001b[1;31m---------------------------------------------------------------------------\u001b[0m",
      "\u001b[1;31mIndexError\u001b[0m                                Traceback (most recent call last)",
      "Cell \u001b[1;32mIn[23], line 7\u001b[0m\n\u001b[0;32m      5\u001b[0m     kmeans \u001b[38;5;241m=\u001b[39m KMeans()\u001b[38;5;241m.\u001b[39msetK(k)\u001b[38;5;241m.\u001b[39msetSeed(\u001b[38;5;241m1\u001b[39m)\u001b[38;5;241m.\u001b[39msetFeaturesCol(\u001b[38;5;124m'\u001b[39m\u001b[38;5;124mfeatures\u001b[39m\u001b[38;5;124m'\u001b[39m)\u001b[38;5;241m.\u001b[39msetPredictionCol(\u001b[38;5;124m'\u001b[39m\u001b[38;5;124mprediction\u001b[39m\u001b[38;5;124m'\u001b[39m)\n\u001b[0;32m      6\u001b[0m     model \u001b[38;5;241m=\u001b[39m kmeans\u001b[38;5;241m.\u001b[39mfit(df)\n\u001b[1;32m----> 7\u001b[0m     \u001b[43mcost\u001b[49m\u001b[43m[\u001b[49m\u001b[43mk\u001b[49m\u001b[43m]\u001b[49m \u001b[38;5;241m=\u001b[39m model\u001b[38;5;241m.\u001b[39msummary\u001b[38;5;241m.\u001b[39mtrainingCost\n\u001b[0;32m      9\u001b[0m \u001b[38;5;66;03m# Plot the cost\u001b[39;00m\n\u001b[0;32m     10\u001b[0m df_cost \u001b[38;5;241m=\u001b[39m pd\u001b[38;5;241m.\u001b[39mDataFrame(cost[\u001b[38;5;241m2\u001b[39m:])\n",
      "\u001b[1;31mIndexError\u001b[0m: index 100 is out of bounds for axis 0 with size 100"
     ]
    }
   ],
   "source": [
    "# Calculate cost and plot\n",
    "cost = np.zeros(10)\n",
    "\n",
    "for k in range(2,10):\n",
    "    kmeans = KMeans().setK(k).setSeed(1).setFeaturesCol('features').setPredictionCol('prediction')\n",
    "    model = kmeans.fit(df)\n",
    "    cost[k] = model.summary.trainingCost\n",
    "\n",
    "# Plot the cost\n",
    "df_cost = pd.DataFrame(cost[2:])\n",
    "df_cost.columns = [\"cost\"]\n",
    "new_col = [2,3,4,5,6,7,8,9]\n",
    "df_cost.insert(0, 'cluster', new_col)\n",
    "\n",
    "import pylab as pl\n",
    "pl.plot(df_cost.cluster, df_cost.cost)\n",
    "pl.xlabel('Number of Clusters')\n",
    "pl.ylabel('Score')\n",
    "pl.title('Elbow Curve')\n",
    "pl.show()"
   ]
  },
  {
   "cell_type": "markdown",
   "metadata": {},
   "source": [
    "#### single values"
   ]
  },
  {
   "cell_type": "code",
   "execution_count": 22,
   "metadata": {},
   "outputs": [
    {
     "data": {
      "image/png": "[encoded data removed]",
      "text/plain": [
       "<Figure size 640x480 with 1 Axes>"
      ]
     },
     "metadata": {},
     "output_type": "display_data"
    }
   ],
   "source": [
    "# Calculate cost (specify only the desired values of k)\n",
    "cost = np.zeros(3)  # Array to store costs for 3 values of k\n",
    "k_values = [10, 20, 40]\n",
    "\n",
    "for i, k in enumerate(k_values):\n",
    "    kmeans = KMeans().setK(k).setSeed(1).setFeaturesCol('features').setPredictionCol('prediction')\n",
    "    model = kmeans.fit(df)\n",
    "    cost[i] = model.summary.trainingCost\n",
    "\n",
    "# Plot the cost\n",
    "df_cost = pd.DataFrame(cost)\n",
    "df_cost.columns = [\"cost\"]\n",
    "df_cost.insert(0, 'cluster', k_values)\n",
    "\n",
    "import pylab as pl\n",
    "pl.plot(df_cost.cluster, df_cost.cost)\n",
    "pl.xlabel('Number of Clusters')\n",
    "pl.ylabel('Score')\n",
    "pl.title('Elbow Curve')\n",
    "pl.show()\n"
   ]
  },
  {
   "cell_type": "code",
   "execution_count": null,
   "metadata": {},
   "outputs": [],
   "source": []
  }
 ],
 "metadata": {
  "kernelspec": {
   "display_name": "Python 3",
   "language": "python",
   "name": "python3"
  },
  "language_info": {
   "codemirror_mode": {
    "name": "ipython",
    "version": 3
   },
   "file_extension": ".py",
   "mimetype": "text/x-python",
   "name": "python",
   "nbconvert_exporter": "python",
   "pygments_lexer": "ipython3",
   "version": "3.8.0"
  }
 },
 "nbformat": 4,
 "nbformat_minor": 2
}
