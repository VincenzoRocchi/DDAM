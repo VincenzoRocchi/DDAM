{
 "cells": [
  {
   "cell_type": "code",
   "execution_count": 2,
   "metadata": {},
   "outputs": [],
   "source": [
    "from pyspark.sql import SparkSession\n",
    "\n",
    "def extract_first_column_and_write_headers_to_csv(input_csv_path, output_csv_path):\n",
    "    # Initialize SparkSession\n",
    "    spark = SparkSession.builder \\\n",
    "        .appName(\"ExtractFirstColumnAndWriteHeadersToCSV\") \\\n",
    "        .getOrCreate()\n",
    "\n",
    "    # Read the CSV file into a Spark DataFrame\n",
    "    df = spark.read.csv(input_csv_path, header=True)\n",
    "\n",
    "    # Get the first column name\n",
    "    first_column_name = df.columns[0]\n",
    "\n",
    "    # Get all column names\n",
    "    column_names = df.columns\n",
    "\n",
    "    # Write column headers to CSV\n",
    "    with open(output_csv_path, 'w') as file:\n",
    "        file.write(\"First Column: \" + first_column_name + \"\\n\")\n",
    "        file.write(\"All Columns: \" + \", \".join(column_names) + \"\\n\")\n",
    "\n",
    "    print(\"Column headers written to:\", output_csv_path)\n",
    "\n",
    "    # Stop SparkSession\n",
    "    spark.stop()"
   ]
  },
  {
   "cell_type": "code",
   "execution_count": 3,
   "metadata": {},
   "outputs": [
    {
     "name": "stdout",
     "output_type": "stream",
     "text": [
      "Column headers written to: C:\\Users\\Vincenzo\\PROJECTS\\DDAM_data\\brewery\\features_name.csv\n"
     ]
    }
   ],
   "source": [
    "# Example usage:\n",
    "\n",
    "input_csv_path = r\"C:\\Users\\Vincenzo\\PROJECTS\\DDAM_data\\brewery\\brewery_data_complete_extended.csv\"\n",
    "output_csv_path = r\"C:\\Users\\Vincenzo\\PROJECTS\\DDAM_data\\brewery\\features_name.csv\"\n",
    "extract_first_column_and_write_headers_to_csv(input_csv_path, output_csv_path)\n"
   ]
  },
  {
   "cell_type": "code",
   "execution_count": null,
   "metadata": {},
   "outputs": [],
   "source": []
  }
 ],
 "metadata": {
  "kernelspec": {
   "display_name": "Python 3",
   "language": "python",
   "name": "python3"
  },
  "language_info": {
   "codemirror_mode": {
    "name": "ipython",
    "version": 3
   },
   "file_extension": ".py",
   "mimetype": "text/x-python",
   "name": "python",
   "nbconvert_exporter": "python",
   "pygments_lexer": "ipython3",
   "version": "3.8.0"
  }
 },
 "nbformat": 4,
 "nbformat_minor": 2
}
