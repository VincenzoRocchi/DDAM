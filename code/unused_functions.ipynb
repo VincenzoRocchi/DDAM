{
 "cells": [
  {
   "cell_type": "markdown",
   "metadata": {},
   "source": [
    "# Clustering"
   ]
  },
  {
   "cell_type": "markdown",
   "metadata": {},
   "source": [
    "## manual implementation of wssse method (not working, cannot extract distance from dense assembled vector)"
   ]
  },
  {
   "cell_type": "code",
   "execution_count": null,
   "metadata": {},
   "outputs": [],
   "source": [
    "from pyspark.ml.clustering import KMeans\n",
    "import matplotlib.pyplot as plt\n",
    "from pyspark.sql.types import DoubleType, ArrayType\n",
    "import pyspark.sql.functions as F\n",
    "from pyspark.ml.linalg import Vectors, DenseVector\n",
    "\n",
    "def calculate_WSSSE(df, prediction_col=\"prediction\", features_col=\"features\"):\n",
    "    def squared_distance(feature_vec, mean_vec):\n",
    "        if isinstance(feature_vec, DenseVector) and isinstance(mean_vec, DenseVector):\n",
    "            return Vectors.squared_distance(feature_vec, mean_vec)\n",
    "        else:\n",
    "            return 0.0  # Return 0 if not valid vectors \n",
    "        # return Vectors.squared_distance(feature_vec, mean_vec)\n",
    "    squared_distance_udf = F.udf(squared_distance, DoubleType())\n",
    "\n",
    "    def extract_values(feature_vec):\n",
    "        if isinstance(feature_vec, DenseVector): \n",
    "            return feature_vec.toArray().tolist() # Extract values directly\n",
    "        else:\n",
    "            return Vectors.dense(feature_vec.toArray().tolist())  \n",
    "\n",
    "    extract_values_udf = F.udf(extract_values, ArrayType(DoubleType())) \n",
    "\n",
    "    subquery = df.select(prediction_col, F.explode(extract_values_udf(F.col(features_col))).alias('feature_value')) \\\n",
    "                 .groupBy(prediction_col, 'feature_value') \\\n",
    "                 .agg(F.mean('feature_value').alias('mean_features'))\n",
    "\n",
    "    wssse = subquery.groupBy(prediction_col) \\\n",
    "                    .agg(F.sum(squared_distance_udf(F.col('feature_value'), F.col('mean_features'))).alias('wssse')) \\\n",
    "                    .select(F.sum('wssse')).collect()[0][0]\n",
    "\n",
    "    return wssse\n",
    "\n",
    "wssse = []\n",
    "\n",
    "for k in [7, 8]: #because the beer styles are 8 so based on this features no more clusters should be created \n",
    "    kmeans = KMeans().setK(k).setSeed(1).setFeaturesCol(\"features\").setPredictionCol(\"prediction\")\n",
    "    predictions = kmeans.fit(df).transform(df)\n",
    "    print(k)\n",
    "\n",
    "    wssse.append(calculate_WSSSE(predictions))  # WSSSE calculation"
   ]
  },
  {
   "cell_type": "code",
   "execution_count": null,
   "metadata": {},
   "outputs": [],
   "source": [
    "plt.figure(figsize=(10, 6))\n",
    "plt.plot([7, 8], wssse, 'bo-')  # Adjust 'k' values here too\n",
    "plt.xlabel('Number of Clusters (k)')\n",
    "plt.ylabel('WSSSE')\n",
    "plt.title('Elbow Method for Optimal k')\n",
    "plt.show()"
   ]
  }
 ],
 "metadata": {
  "kernelspec": {
   "display_name": "Python 3",
   "language": "python",
   "name": "python3"
  },
  "language_info": {
   "name": "python",
   "version": "3.8.0"
  }
 },
 "nbformat": 4,
 "nbformat_minor": 2
}
