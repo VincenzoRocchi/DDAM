{
 "cells": [
  {
   "cell_type": "markdown",
   "metadata": {},
   "source": [
    "# Imports and spark config"
   ]
  },
  {
   "cell_type": "code",
   "execution_count": 1,
   "metadata": {},
   "outputs": [
    {
     "name": "stdout",
     "output_type": "stream",
     "text": [
      "C:\\Users\\Vincenzo\\AppData\\Local\\Programs\\Python\\Python38\\python.exe\n"
     ]
    }
   ],
   "source": [
    "import os\n",
    "\n",
    "# Set SPARK_HOME\n",
    "os.environ[\"SPARK_HOME\"] = r\"C:/Spark/spark-3.5.0-bin-hadoop3\"\n",
    "\n",
    "# Set PYTHONPATH\n",
    "spark_home = os.environ.get(\"SPARK_HOME\", \"\")\n",
    "if spark_home:\n",
    "    python_path = os.path.join(spark_home, \"python\")\n",
    "    py4j_zip = os.path.join(spark_home, \"python\", \"lib\", \"py4j-0.10.9.7-src.zip\")\n",
    "    os.environ[\"PYTHONPATH\"] = f\"{python_path};{py4j_zip};{os.environ.get('PYTHONPATH', '')}\"\n",
    "\n",
    "# Set PYSPARK_PYTHON\n",
    "os.environ[\"PYSPARK_PYTHON\"] = r\"C:\\Users\\Vincenzo\\AppData\\Local\\Programs\\Python\\Python38\\python.exe\"\n",
    "print(os.environ.get('PYSPARK_PYTHON'))\n",
    "\n",
    "# Set PATH\n",
    "if spark_home:\n",
    "    os.environ[\"PATH\"] = f\"{python_path};{os.path.join(spark_home, 'bin')};{os.environ.get('PATH', '')}\""
   ]
  },
  {
   "cell_type": "code",
   "execution_count": 2,
   "metadata": {},
   "outputs": [],
   "source": [
    "import findspark\n",
    "findspark.init()\n",
    "\n",
    "import pandas as pd\n",
    "from tqdm import tqdm\n",
    "import numpy as np\n",
    "import seaborn as sns\n",
    "import matplotlib.pyplot as plt\n",
    "import sklearn\n",
    "\n",
    "from pyspark.sql import SparkSession\n",
    "from pyspark.sql import functions as F"
   ]
  },
  {
   "cell_type": "code",
   "execution_count": 3,
   "metadata": {},
   "outputs": [
    {
     "data": {
      "text/html": [
       "\n",
       "            <div>\n",
       "                <p><b>SparkSession - in-memory</b></p>\n",
       "                \n",
       "        <div>\n",
       "            <p><b>SparkContext</b></p>\n",
       "\n",
       "            <p><a href=\"http://localhost:4040\">Spark UI</a></p>\n",
       "\n",
       "            <dl>\n",
       "              <dt>Version</dt>\n",
       "                <dd><code>v3.5.0</code></dd>\n",
       "              <dt>Master</dt>\n",
       "                <dd><code>local[*]</code></dd>\n",
       "              <dt>AppName</dt>\n",
       "                <dd><code>spark</code></dd>\n",
       "            </dl>\n",
       "        </div>\n",
       "        \n",
       "            </div>\n",
       "        "
      ],
      "text/plain": [
       "<pyspark.sql.session.SparkSession at 0x2099fea6400>"
      ]
     },
     "execution_count": 3,
     "metadata": {},
     "output_type": "execute_result"
    }
   ],
   "source": [
    "spark = SparkSession.builder.appName(\"spark\").config(\"spark.driver.memory\", \"24g\").getOrCreate()\n",
    "spark"
   ]
  },
  {
   "cell_type": "code",
   "execution_count": 4,
   "metadata": {},
   "outputs": [],
   "source": [
    "# spark.conf.set('spark.sql.repl.eagerEval.enabled', True)\n",
    "# spark.conf.set('spark.sql.repl.eagerEval.maxNumRows', 5)"
   ]
  },
  {
   "cell_type": "code",
   "execution_count": 5,
   "metadata": {},
   "outputs": [],
   "source": [
    "spark.conf.set(\"spark.sql.execution.arrow.pyspark.enabled\", \"true\")\n",
    "spark.conf.set(\"spark.sql.execution.arrow.enabled\", \"true\")"
   ]
  },
  {
   "cell_type": "markdown",
   "metadata": {},
   "source": [
    "# Data preparation"
   ]
  },
  {
   "cell_type": "code",
   "execution_count": 6,
   "metadata": {},
   "outputs": [
    {
     "data": {
      "text/plain": [
       "pyspark.sql.dataframe.DataFrame"
      ]
     },
     "execution_count": 6,
     "metadata": {},
     "output_type": "execute_result"
    }
   ],
   "source": [
    "df = spark.read.parquet(r\"c:\\Users\\Vincenzo\\PROJECTS\\DDAM_data\\brewery\\brewery_data_complete_extended.parquet\")\n",
    "type(df)"
   ]
  },
  {
   "cell_type": "code",
   "execution_count": 7,
   "metadata": {},
   "outputs": [
    {
     "name": "stdout",
     "output_type": "stream",
     "text": [
      "root\n",
      " |-- Batch_ID: long (nullable = true)\n",
      " |-- Brew_Date: string (nullable = true)\n",
      " |-- Beer_Style: string (nullable = true)\n",
      " |-- SKU: string (nullable = true)\n",
      " |-- Location: string (nullable = true)\n",
      " |-- Fermentation_Time: long (nullable = true)\n",
      " |-- Temperature: double (nullable = true)\n",
      " |-- pH_Level: double (nullable = true)\n",
      " |-- Gravity: double (nullable = true)\n",
      " |-- Alcohol_Content: double (nullable = true)\n",
      " |-- Bitterness: long (nullable = true)\n",
      " |-- Color: long (nullable = true)\n",
      " |-- Ingredient_Ratio: string (nullable = true)\n",
      " |-- Volume_Produced: long (nullable = true)\n",
      " |-- Total_Sales: double (nullable = true)\n",
      " |-- Quality_Score: double (nullable = true)\n",
      " |-- Brewhouse_Efficiency: double (nullable = true)\n",
      " |-- Loss_During_Brewing: double (nullable = true)\n",
      " |-- Loss_During_Fermentation: double (nullable = true)\n",
      " |-- Loss_During_Bottling_Kegging: double (nullable = true)\n",
      "\n",
      "Dimension of the Dataframe is: (10000000, 20)\n",
      "+--------+-------------------+----------+----+------------+-----------------+------------------+------------------+------------------+-----------------+----------+-----+----------------+---------------+------------------+-----------------+--------------------+-------------------+------------------------+----------------------------+\n",
      "|Batch_ID|          Brew_Date|Beer_Style| SKU|    Location|Fermentation_Time|       Temperature|          pH_Level|           Gravity|  Alcohol_Content|Bitterness|Color|Ingredient_Ratio|Volume_Produced|       Total_Sales|    Quality_Score|Brewhouse_Efficiency|Loss_During_Brewing|Loss_During_Fermentation|Loss_During_Bottling_Kegging|\n",
      "+--------+-------------------+----------+----+------------+-----------------+------------------+------------------+------------------+-----------------+----------+-----+----------------+---------------+------------------+-----------------+--------------------+-------------------+------------------------+----------------------------+\n",
      "| 7870796|2020-01-01 00:00:19|Wheat Beer|Kegs|  Whitefield|               16|24.204250857069876|5.2898454476095615| 1.039504126730198|5.370842159553436|        20|    5|     1:0.32:0.16|           4666|2664.7593448382822| 8.57701633109399|   89.19588216376087| 4.1049876591878345|      3.2354851724654683|           4.663204448186049|\n",
      "| 9810411|2020-01-01 00:00:31|      Sour|Kegs|  Whitefield|               13|18.086762947259544| 5.275643382756193|1.0598189516987164|5.096053082797625|        36|   14|     1:0.39:0.24|            832|  9758.80106247132|7.420540752553908|    72.4809153900275|  2.676528095392112|      4.2461292104108574|            2.04435836917023|\n",
      "| 2623342|2020-01-01 00:00:40|Wheat Beer|Kegs| Malleswaram|               12|15.539332669116469|4.7780156232459765|  1.03747570954872|4.824737120959184|        30|   10|     1:0.35:0.16|           2115|11721.087016274963|8.451364886803127|   86.32214396020584|  3.299893625514981|       3.109440467362847|           3.033879837876281|\n",
      "| 8114651|2020-01-01 00:01:37|       Ale|Kegs| Rajajinagar|               17| 16.41848910394318| 5.345260585546188|1.0524314251694946|5.509243080797997|        48|   18|     1:0.35:0.15|           3173|12050.177463190275|9.671859404043175|   83.09494037181545|  2.136055116262562|       4.634254174098425|          1.4898890677148424|\n",
      "| 4579587|2020-01-01 00:01:43|     Stout|Cans|Marathahalli|               18| 19.14490765433852|  4.86185374113861|1.0542961149482333|5.133624684263243|        57|   13|     1:0.46:0.11|           4449|5515.0774647529615|7.895333676172065|   88.62583302052388|  4.491723843594972|      2.1833886016455497|          2.9906302188791485|\n",
      "+--------+-------------------+----------+----+------------+-----------------+------------------+------------------+------------------+-----------------+----------+-----+----------------+---------------+------------------+-----------------+--------------------+-------------------+------------------------+----------------------------+\n",
      "only showing top 5 rows\n",
      "\n"
     ]
    }
   ],
   "source": [
    "df.printSchema()\n",
    "rows = df.count()\n",
    "cols = len(df.columns)\n",
    "\n",
    "print(f'Dimension of the Dataframe is: {(rows,cols)}')\n",
    "df.show(5)"
   ]
  },
  {
   "cell_type": "code",
   "execution_count": 8,
   "metadata": {},
   "outputs": [],
   "source": [
    "sample = df.sample(fraction=0.1, seed=42) #.drop(\"Batch_ID\")"
   ]
  },
  {
   "cell_type": "code",
   "execution_count": 9,
   "metadata": {},
   "outputs": [
    {
     "data": {
      "text/html": [
       "<div>\n",
       "<style scoped>\n",
       "    .dataframe tbody tr th:only-of-type {\n",
       "        vertical-align: middle;\n",
       "    }\n",
       "\n",
       "    .dataframe tbody tr th {\n",
       "        vertical-align: top;\n",
       "    }\n",
       "\n",
       "    .dataframe thead th {\n",
       "        text-align: right;\n",
       "    }\n",
       "</style>\n",
       "<table border=\"1\" class=\"dataframe\">\n",
       "  <thead>\n",
       "    <tr style=\"text-align: right;\">\n",
       "      <th></th>\n",
       "      <th>Batch_ID</th>\n",
       "      <th>Fermentation_Time</th>\n",
       "      <th>Temperature</th>\n",
       "      <th>pH_Level</th>\n",
       "      <th>Gravity</th>\n",
       "      <th>Alcohol_Content</th>\n",
       "      <th>Bitterness</th>\n",
       "      <th>Color</th>\n",
       "      <th>Volume_Produced</th>\n",
       "      <th>Total_Sales</th>\n",
       "      <th>Quality_Score</th>\n",
       "      <th>Brewhouse_Efficiency</th>\n",
       "      <th>Loss_During_Brewing</th>\n",
       "      <th>Loss_During_Fermentation</th>\n",
       "      <th>Loss_During_Bottling_Kegging</th>\n",
       "    </tr>\n",
       "  </thead>\n",
       "  <tbody>\n",
       "    <tr>\n",
       "      <th>count</th>\n",
       "      <td>1001591.00</td>\n",
       "      <td>1001591.00</td>\n",
       "      <td>1001591.00</td>\n",
       "      <td>1001591.00</td>\n",
       "      <td>1001591.00</td>\n",
       "      <td>1001591.00</td>\n",
       "      <td>1001591.00</td>\n",
       "      <td>1001591.00</td>\n",
       "      <td>1001591.00</td>\n",
       "      <td>1001591.00</td>\n",
       "      <td>1001591.00</td>\n",
       "      <td>1001591.00</td>\n",
       "      <td>1001591.00</td>\n",
       "      <td>1001591.00</td>\n",
       "      <td>1001591.00</td>\n",
       "    </tr>\n",
       "    <tr>\n",
       "      <th>mean</th>\n",
       "      <td>5004909.19</td>\n",
       "      <td>14.50</td>\n",
       "      <td>20.00</td>\n",
       "      <td>5.00</td>\n",
       "      <td>1.06</td>\n",
       "      <td>5.25</td>\n",
       "      <td>39.52</td>\n",
       "      <td>12.00</td>\n",
       "      <td>2749.48</td>\n",
       "      <td>10491.48</td>\n",
       "      <td>8.00</td>\n",
       "      <td>79.99</td>\n",
       "      <td>3.00</td>\n",
       "      <td>3.00</td>\n",
       "      <td>3.00</td>\n",
       "    </tr>\n",
       "    <tr>\n",
       "      <th>std</th>\n",
       "      <td>2887164.29</td>\n",
       "      <td>2.87</td>\n",
       "      <td>2.89</td>\n",
       "      <td>0.29</td>\n",
       "      <td>0.01</td>\n",
       "      <td>0.43</td>\n",
       "      <td>11.54</td>\n",
       "      <td>4.32</td>\n",
       "      <td>1298.31</td>\n",
       "      <td>5486.58</td>\n",
       "      <td>1.15</td>\n",
       "      <td>5.78</td>\n",
       "      <td>1.15</td>\n",
       "      <td>1.16</td>\n",
       "      <td>1.15</td>\n",
       "    </tr>\n",
       "    <tr>\n",
       "      <th>min</th>\n",
       "      <td>5.00</td>\n",
       "      <td>10.00</td>\n",
       "      <td>15.00</td>\n",
       "      <td>4.50</td>\n",
       "      <td>1.03</td>\n",
       "      <td>4.50</td>\n",
       "      <td>20.00</td>\n",
       "      <td>5.00</td>\n",
       "      <td>500.00</td>\n",
       "      <td>1000.00</td>\n",
       "      <td>6.00</td>\n",
       "      <td>70.00</td>\n",
       "      <td>1.00</td>\n",
       "      <td>1.00</td>\n",
       "      <td>1.00</td>\n",
       "    </tr>\n",
       "    <tr>\n",
       "      <th>25%</th>\n",
       "      <td>2502862.50</td>\n",
       "      <td>12.00</td>\n",
       "      <td>17.50</td>\n",
       "      <td>4.75</td>\n",
       "      <td>1.04</td>\n",
       "      <td>4.88</td>\n",
       "      <td>30.00</td>\n",
       "      <td>8.00</td>\n",
       "      <td>1624.00</td>\n",
       "      <td>5747.89</td>\n",
       "      <td>7.00</td>\n",
       "      <td>74.98</td>\n",
       "      <td>2.00</td>\n",
       "      <td>2.00</td>\n",
       "      <td>2.00</td>\n",
       "    </tr>\n",
       "    <tr>\n",
       "      <th>50%</th>\n",
       "      <td>5008192.00</td>\n",
       "      <td>15.00</td>\n",
       "      <td>20.00</td>\n",
       "      <td>5.00</td>\n",
       "      <td>1.06</td>\n",
       "      <td>5.25</td>\n",
       "      <td>40.00</td>\n",
       "      <td>12.00</td>\n",
       "      <td>2751.00</td>\n",
       "      <td>10486.75</td>\n",
       "      <td>8.00</td>\n",
       "      <td>79.99</td>\n",
       "      <td>3.00</td>\n",
       "      <td>3.00</td>\n",
       "      <td>3.00</td>\n",
       "    </tr>\n",
       "    <tr>\n",
       "      <th>75%</th>\n",
       "      <td>7506431.50</td>\n",
       "      <td>17.00</td>\n",
       "      <td>22.51</td>\n",
       "      <td>5.25</td>\n",
       "      <td>1.07</td>\n",
       "      <td>5.63</td>\n",
       "      <td>50.00</td>\n",
       "      <td>16.00</td>\n",
       "      <td>3874.00</td>\n",
       "      <td>15240.40</td>\n",
       "      <td>9.00</td>\n",
       "      <td>85.00</td>\n",
       "      <td>4.00</td>\n",
       "      <td>4.00</td>\n",
       "      <td>4.00</td>\n",
       "    </tr>\n",
       "    <tr>\n",
       "      <th>max</th>\n",
       "      <td>9999993.00</td>\n",
       "      <td>19.00</td>\n",
       "      <td>25.00</td>\n",
       "      <td>5.50</td>\n",
       "      <td>1.08</td>\n",
       "      <td>6.00</td>\n",
       "      <td>59.00</td>\n",
       "      <td>19.00</td>\n",
       "      <td>4999.00</td>\n",
       "      <td>19999.97</td>\n",
       "      <td>10.00</td>\n",
       "      <td>90.00</td>\n",
       "      <td>5.00</td>\n",
       "      <td>5.00</td>\n",
       "      <td>5.00</td>\n",
       "    </tr>\n",
       "  </tbody>\n",
       "</table>\n",
       "</div>"
      ],
      "text/plain": [
       "         Batch_ID  Fermentation_Time  Temperature    pH_Level     Gravity  \\\n",
       "count  1001591.00         1001591.00   1001591.00  1001591.00  1001591.00   \n",
       "mean   5004909.19              14.50        20.00        5.00        1.06   \n",
       "std    2887164.29               2.87         2.89        0.29        0.01   \n",
       "min          5.00              10.00        15.00        4.50        1.03   \n",
       "25%    2502862.50              12.00        17.50        4.75        1.04   \n",
       "50%    5008192.00              15.00        20.00        5.00        1.06   \n",
       "75%    7506431.50              17.00        22.51        5.25        1.07   \n",
       "max    9999993.00              19.00        25.00        5.50        1.08   \n",
       "\n",
       "       Alcohol_Content  Bitterness       Color  Volume_Produced  Total_Sales  \\\n",
       "count       1001591.00  1001591.00  1001591.00       1001591.00   1001591.00   \n",
       "mean              5.25       39.52       12.00          2749.48     10491.48   \n",
       "std               0.43       11.54        4.32          1298.31      5486.58   \n",
       "min               4.50       20.00        5.00           500.00      1000.00   \n",
       "25%               4.88       30.00        8.00          1624.00      5747.89   \n",
       "50%               5.25       40.00       12.00          2751.00     10486.75   \n",
       "75%               5.63       50.00       16.00          3874.00     15240.40   \n",
       "max               6.00       59.00       19.00          4999.00     19999.97   \n",
       "\n",
       "       Quality_Score  Brewhouse_Efficiency  Loss_During_Brewing  \\\n",
       "count     1001591.00            1001591.00           1001591.00   \n",
       "mean            8.00                 79.99                 3.00   \n",
       "std             1.15                  5.78                 1.15   \n",
       "min             6.00                 70.00                 1.00   \n",
       "25%             7.00                 74.98                 2.00   \n",
       "50%             8.00                 79.99                 3.00   \n",
       "75%             9.00                 85.00                 4.00   \n",
       "max            10.00                 90.00                 5.00   \n",
       "\n",
       "       Loss_During_Fermentation  Loss_During_Bottling_Kegging  \n",
       "count                1001591.00                    1001591.00  \n",
       "mean                       3.00                          3.00  \n",
       "std                        1.16                          1.15  \n",
       "min                        1.00                          1.00  \n",
       "25%                        2.00                          2.00  \n",
       "50%                        3.00                          3.00  \n",
       "75%                        4.00                          4.00  \n",
       "max                        5.00                          5.00  "
      ]
     },
     "execution_count": 9,
     "metadata": {},
     "output_type": "execute_result"
    }
   ],
   "source": [
    "summary_stats = sample.toPandas().describe()\n",
    "rounded_describe = np.round(summary_stats, 2)\n",
    "rounded_describe"
   ]
  },
  {
   "cell_type": "code",
   "execution_count": 10,
   "metadata": {},
   "outputs": [],
   "source": [
    "from pyspark.sql.functions import split, col\n",
    "\n",
    "# Split the ratio_column into three parts based on the colon delimiter\n",
    "split_col = split(col(\"Ingredient_Ratio\"), \":\")\n",
    "\n",
    "# Create three separate columns for water, grains, and hops\n",
    "sample = sample.withColumn(\"water\", split_col.getItem(0).cast(\"double\"))\n",
    "sample = sample.withColumn(\"grains\", split_col.getItem(1).cast(\"double\"))\n",
    "sample = sample.withColumn(\"hops\", split_col.getItem(2).cast(\"double\"))\n",
    "sample = sample.drop(\"Ingredient_Ratio\")\n",
    "# Now you have three separate columns for water, grains, and hops with their respective values"
   ]
  },
  {
   "cell_type": "code",
   "execution_count": 11,
   "metadata": {},
   "outputs": [],
   "source": [
    "# Define a new column with the USD per liter ratio\n",
    "sample = sample.withColumn(\"USD_per_Liter\", F.col(\"Total_Sales\") / F.col(\"Volume_Produced\").cast(\"double\"))"
   ]
  },
  {
   "cell_type": "code",
   "execution_count": 12,
   "metadata": {},
   "outputs": [
    {
     "name": "stdout",
     "output_type": "stream",
     "text": [
      "Numerical columns: ['Batch_ID', 'Fermentation_Time', 'Temperature', 'pH_Level', 'Gravity', 'Alcohol_Content', 'Bitterness', 'Color', 'Volume_Produced', 'Total_Sales', 'Quality_Score', 'Brewhouse_Efficiency', 'Loss_During_Brewing', 'Loss_During_Fermentation', 'Loss_During_Bottling_Kegging', 'water', 'grains', 'hops', 'USD_per_Liter']\n",
      "Categorical columns: ['Brew_Date', 'Beer_Style', 'SKU', 'Location']\n"
     ]
    }
   ],
   "source": [
    "from pyspark.sql.types import StringType\n",
    "\n",
    "# Identify numerical and non-numerical columns\n",
    "numerical_cols = [col_name for col_name, data_type in sample.dtypes if data_type != 'string']\n",
    "categorical_cols = [col_name for col_name, data_type in sample.dtypes if data_type == 'string']\n",
    "\n",
    "print(f'Numerical columns: {numerical_cols}')\n",
    "print(f'Categorical columns: {categorical_cols}')"
   ]
  },
  {
   "cell_type": "code",
   "execution_count": 13,
   "metadata": {},
   "outputs": [],
   "source": [
    "# distinct_num_counts = {}\n",
    "\n",
    "# for col in numerical_cols:\n",
    "#     distinct_count = sample.select(col).distinct().count()\n",
    "#     distinct_num_counts[col] = distinct_count\n",
    "\n",
    "#     print(f\"- {col} - {distinct_count} distinct values\")"
   ]
  },
  {
   "cell_type": "code",
   "execution_count": 18,
   "metadata": {},
   "outputs": [],
   "source": [
    "# distinct_cat_counts = {}\n",
    "\n",
    "# for col in categorical_cols:\n",
    "#     distinct_count = sample.select(col).distinct().count()\n",
    "#     distinct_cat_counts[col] = distinct_count\n",
    "\n",
    "#     print(f\"- {col} - {distinct_count} distinct values\")"
   ]
  },
  {
   "cell_type": "markdown",
   "metadata": {},
   "source": [
    "## Low-values discrete variables analysis"
   ]
  },
  {
   "cell_type": "markdown",
   "metadata": {},
   "source": [
    "### Functions"
   ]
  },
  {
   "cell_type": "code",
   "execution_count": 14,
   "metadata": {},
   "outputs": [],
   "source": [
    "# functions\n",
    "\n",
    "from pyspark.sql.functions import when, col\n",
    "from pyspark.ml.feature import OneHotEncoder, StringIndexer, VectorAssembler\n",
    "from pyspark.ml import Pipeline\n",
    "from pyspark.sql.functions import col, dense_rank, when\n",
    "from pyspark.sql.window import Window\n",
    "\n",
    "def ordinal_encode_pyspark(df, input_col, output_col):\n",
    "    \"\"\" Ordinal encodes a column within a PySpark DataFrame\n",
    "\n",
    "    Args:\n",
    "        df (pyspark.sql.DataFrame): The input Spark DataFrame.\n",
    "        input_col (str): Name of the column to be encoded. Defaults to \"Bitterness\".\n",
    "        output_col (str): Name for the new ordinal encoded column. Defaults to \"Bitterness_ordinal\".\n",
    "    \n",
    "    Returns:\n",
    "        pyspark.sql.DataFrame: The Spark DataFrame with the ordinal encoded column.\n",
    "    \"\"\"\n",
    "\n",
    "    window = Window.orderBy(input_col) \n",
    "    return df.withColumn(output_col, dense_rank().over(window)) \\\n",
    "             .withColumn(output_col, when(col(input_col).isNull(), 0).otherwise(col(output_col))) \\\n",
    "             #.drop(input_col)\n",
    "             \n",
    "def check_distinct_values(df, feature_col):\n",
    "    \"\"\"  \n",
    "    Prints the distinct values of a feature in a PySpark DataFrame.\n",
    "\n",
    "    Args:\n",
    "        df (pyspark.sql.DataFrame): The PySpark DataFrame.\n",
    "        feature_col (str): The name of the feature column.\n",
    "    \"\"\"\n",
    "\n",
    "    distinct_values = df.select(feature_col).distinct().collect()\n",
    "\n",
    "    print(f\"Distinct values in '{feature_col}':\")\n",
    "    for row in distinct_values:\n",
    "        print(row[feature_col]) \n",
    "\n",
    "    # functions\n",
    "\n",
    "def one_hot_encode_column(df, input_col, output_col_prefix=\"encoded\"):\n",
    "    \"\"\" One-hot encodes a specified categorical column, drops intermediary columns,\n",
    "        and allows for specifying the prefix of the output columns.\n",
    "\n",
    "    Args:\n",
    "        df (pyspark.sql.DataFrame): Input DataFrame.\n",
    "        input_col (str): The name of the column containing categorical data.\n",
    "        output_col_prefix (str): Prefix for the generated one-hot encoded column names.\n",
    "\n",
    "    Returns:\n",
    "        pyspark.sql.DataFrame: DataFrame with the one-hot encoded column(s) and \n",
    "                               intermediary columns removed.\n",
    "    \"\"\"\n",
    "\n",
    "    indexer = StringIndexer(inputCol=input_col, outputCol=input_col + \"_index\")\n",
    "    encoder = OneHotEncoder(inputCol=input_col + \"_index\", outputCol=output_col_prefix + input_col + \"features\")\n",
    "    assembler = VectorAssembler(inputCols=[input_col + \"_index\"], outputCol=\"features\") \n",
    "\n",
    "    pipeline = Pipeline(stages=[indexer, assembler, encoder])\n",
    "    transformed_df = pipeline.fit(df).transform(df)\n",
    "\n",
    "    # Drop unnecessary columns\n",
    "    drop_cols = [input_col, input_col + \"_index\", \"features\"]\n",
    "    return transformed_df.drop(*drop_cols)  # Dynamic column dropping\n",
    "def discretize_and_encode(df, input_col=\"fermentation_time\"):\n",
    "    \"\"\" Discretizes a feature into bins, one-hot encodes the bins, and preserves the original column\n",
    "\n",
    "    Args:\n",
    "        df (pyspark.sql.DataFrame): Input DataFrame\n",
    "        input_col (str): Name of the column to be discretized and encoded\n",
    "\n",
    "    Returns:\n",
    "        pyspark.sql.DataFrame:  DataFrame with new discretization and encoded columns\n",
    "    \"\"\"\n",
    "\n",
    "    df = df.withColumn(input_col + \"_bin\", \n",
    "                       when((col(input_col) >= 10) & (col(input_col) <= 13), \"Short\")\n",
    "                       .when((col(input_col) >= 14) & (col(input_col) <= 16), \"Medium\")\n",
    "                       .otherwise(\"Long\"))\n",
    "    \n",
    "    return one_hot_encode_column(df, input_col=input_col + \"_bin\") "
   ]
  },
  {
   "cell_type": "markdown",
   "metadata": {},
   "source": [
    "### Color"
   ]
  },
  {
   "cell_type": "code",
   "execution_count": 20,
   "metadata": {},
   "outputs": [
    {
     "data": {
      "image/png": "[encoded data removed]",
      "text/plain": [
       "<Figure size 1000x500 with 1 Axes>"
      ]
     },
     "metadata": {},
     "output_type": "display_data"
    }
   ],
   "source": [
    "color_frequency = sample.groupBy(\"Color\").count().toPandas()\n",
    "\n",
    "plt.figure(figsize=(10, 5))\n",
    "sns.barplot(data=color_frequency, x=\"Color\", y=\"count\", order=color_frequency.sort_values('count', ascending=False)[\"Color\"])\n",
    "plt.title('Frequency of Color in the Dataset')\n",
    "plt.xlabel('Color')\n",
    "plt.ylabel('Frequency')\n",
    "plt.xticks(rotation=90)\n",
    "plt.show()"
   ]
  },
  {
   "cell_type": "code",
   "execution_count": 21,
   "metadata": {},
   "outputs": [],
   "source": [
    "# sample = ordinal_encode_pyspark(sample, \"Color\", \"Color_ordinal\")\n",
    "# sample.show(5)\n",
    "\n",
    "# summary_stats = sample.select(\"Color_ordinal\").toPandas().describe()\n",
    "# rounded_describe = np.round(summary_stats, 2)\n",
    "# rounded_describe"
   ]
  },
  {
   "cell_type": "code",
   "execution_count": 22,
   "metadata": {},
   "outputs": [],
   "source": [
    "# color_frequency = sample.groupBy(\"Color_ordinal\").count().toPandas()\n",
    "\n",
    "# plt.figure(figsize=(10, 5))\n",
    "# sns.barplot(data=color_frequency, x=\"Color_ordinal\", y=\"count\", order=color_frequency.sort_values('Color_ordinal', ascending=True)[\"Color_ordinal\"])\n",
    "# plt.title('Frequency of Color in the Dataset')\n",
    "# plt.xlabel('Color')\n",
    "# plt.ylabel('Frequency')\n",
    "# plt.xticks(rotation=90)\n",
    "# plt.show()\n"
   ]
  },
  {
   "cell_type": "markdown",
   "metadata": {},
   "source": [
    "### Bitterness"
   ]
  },
  {
   "cell_type": "code",
   "execution_count": 23,
   "metadata": {},
   "outputs": [
    {
     "data": {
      "image/png": "[encoded data removed]",
      "text/plain": [
       "<Figure size 1000x500 with 1 Axes>"
      ]
     },
     "metadata": {},
     "output_type": "display_data"
    }
   ],
   "source": [
    "Bitterness_frequency = sample.groupBy(\"Bitterness\").count().toPandas()\n",
    "\n",
    "plt.figure(figsize=(10, 5))\n",
    "sns.barplot(data=Bitterness_frequency, x=\"Bitterness\", y=\"count\", order=Bitterness_frequency.sort_values('Bitterness', ascending=True)[\"Bitterness\"])\n",
    "plt.title('Frequency of Bitterness in the Dataset')\n",
    "plt.xlabel('Bitterness')\n",
    "plt.ylabel('Frequency')\n",
    "plt.xticks(rotation=90)\n",
    "plt.show()\n"
   ]
  },
  {
   "cell_type": "code",
   "execution_count": 24,
   "metadata": {},
   "outputs": [],
   "source": [
    "# sample = ordinal_encode_pyspark(sample, \"Bitterness\", \"Bitterness_ordinal\") \n",
    "# sample.show(5)\n",
    "\n",
    "# summary_stats = sample.select(\"Bitterness_ordinal\").toPandas().describe()\n",
    "# rounded_describe = np.round(summary_stats, 2)\n",
    "# rounded_describe"
   ]
  },
  {
   "cell_type": "code",
   "execution_count": 25,
   "metadata": {},
   "outputs": [],
   "source": [
    "# Bitterness_ordinal_frequency = sample.groupBy(\"Bitterness_ordinal\").count().toPandas()\n",
    "\n",
    "# plt.figure(figsize=(10, 5))\n",
    "# sns.barplot(data=Bitterness_ordinal_frequency, x=\"Bitterness_ordinal\", y=\"count\", order=Bitterness_ordinal_frequency.sort_values('Bitterness_ordinal', ascending=True)[\"Bitterness_ordinal\"])\n",
    "# plt.title('Frequency of Bitterness_ordinal in the Dataset')\n",
    "# plt.xlabel('Bitterness_ordinal')\n",
    "# plt.ylabel('Frequency')\n",
    "# plt.xticks(rotation=90)\n",
    "# plt.show()\n"
   ]
  },
  {
   "cell_type": "markdown",
   "metadata": {},
   "source": [
    "### Grains"
   ]
  },
  {
   "cell_type": "code",
   "execution_count": 26,
   "metadata": {},
   "outputs": [
    {
     "data": {
      "image/png": "[encoded data removed]",
      "text/plain": [
       "<Figure size 1000x500 with 1 Axes>"
      ]
     },
     "metadata": {},
     "output_type": "display_data"
    }
   ],
   "source": [
    "grains_frequency = sample.groupBy(\"grains\").count().toPandas()\n",
    "\n",
    "plt.figure(figsize=(10, 5))\n",
    "sns.barplot(data=grains_frequency, x=\"grains\", y=\"count\", order=grains_frequency.sort_values('grains', ascending=True)[\"grains\"])\n",
    "plt.title('Frequency of Styles')\n",
    "plt.xlabel('Beer_Style')\n",
    "plt.ylabel('Frequency')\n",
    "plt.xticks(rotation=90)\n",
    "plt.show()"
   ]
  },
  {
   "cell_type": "markdown",
   "metadata": {},
   "source": [
    "### Hops"
   ]
  },
  {
   "cell_type": "code",
   "execution_count": 27,
   "metadata": {},
   "outputs": [
    {
     "data": {
      "image/png": "[encoded data removed]",
      "text/plain": [
       "<Figure size 1000x500 with 1 Axes>"
      ]
     },
     "metadata": {},
     "output_type": "display_data"
    }
   ],
   "source": [
    "hops_frequency = sample.groupBy(\"hops\").count().toPandas()\n",
    "\n",
    "plt.figure(figsize=(10, 5))\n",
    "sns.barplot(data=hops_frequency, x=\"hops\", y=\"count\", order=hops_frequency.sort_values('hops', ascending=True)[\"hops\"])\n",
    "plt.title('Frequency of Hops')\n",
    "plt.xlabel('Hops')\n",
    "plt.ylabel('Frequency')\n",
    "plt.xticks(rotation=90)\n",
    "plt.show()"
   ]
  },
  {
   "cell_type": "markdown",
   "metadata": {},
   "source": [
    "### Fermentation time"
   ]
  },
  {
   "cell_type": "code",
   "execution_count": 15,
   "metadata": {},
   "outputs": [
    {
     "name": "stdout",
     "output_type": "stream",
     "text": [
      "+------------------------------------+\n",
      "|encodedfermentation_time_binfeatures|\n",
      "+------------------------------------+\n",
      "|                       (2,[0],[1.0])|\n",
      "|                       (2,[0],[1.0])|\n",
      "|                           (2,[],[])|\n",
      "|                           (2,[],[])|\n",
      "|                       (2,[0],[1.0])|\n",
      "+------------------------------------+\n",
      "only showing top 5 rows\n",
      "\n"
     ]
    }
   ],
   "source": [
    "sample = discretize_and_encode(sample)\n",
    "sample.select(\"encodedfermentation_time_binfeatures\").show(5)"
   ]
  },
  {
   "cell_type": "code",
   "execution_count": 16,
   "metadata": {},
   "outputs": [],
   "source": [
    "# sample.select(\"encodedfermentation_time_binfeatures\").toPandas().describe()"
   ]
  },
  {
   "cell_type": "markdown",
   "metadata": {},
   "source": [
    "## Categorical variables analysis"
   ]
  },
  {
   "cell_type": "markdown",
   "metadata": {},
   "source": [
    "### Beer style"
   ]
  },
  {
   "cell_type": "code",
   "execution_count": 17,
   "metadata": {},
   "outputs": [
    {
     "name": "stdout",
     "output_type": "stream",
     "text": [
      "+-------------------------+\n",
      "|encodedBeer_Stylefeatures|\n",
      "+-------------------------+\n",
      "|            (7,[6],[1.0])|\n",
      "|            (7,[0],[1.0])|\n",
      "|                (7,[],[])|\n",
      "|            (7,[6],[1.0])|\n",
      "|            (7,[2],[1.0])|\n",
      "+-------------------------+\n",
      "only showing top 5 rows\n",
      "\n"
     ]
    }
   ],
   "source": [
    "sample = one_hot_encode_column(sample, \"Beer_Style\")\n",
    "sample.select(\"encodedBeer_Stylefeatures\").show(5)"
   ]
  },
  {
   "cell_type": "code",
   "execution_count": 18,
   "metadata": {},
   "outputs": [],
   "source": [
    "# sample.select(\"encodedBeer_Stylefeatures\").toPandas().describe()"
   ]
  },
  {
   "cell_type": "markdown",
   "metadata": {},
   "source": [
    "### SKU"
   ]
  },
  {
   "cell_type": "code",
   "execution_count": 19,
   "metadata": {},
   "outputs": [
    {
     "name": "stdout",
     "output_type": "stream",
     "text": [
      "+------------------+\n",
      "|encodedSKUfeatures|\n",
      "+------------------+\n",
      "|     (3,[1],[1.0])|\n",
      "|     (3,[0],[1.0])|\n",
      "|         (3,[],[])|\n",
      "|     (3,[2],[1.0])|\n",
      "|     (3,[2],[1.0])|\n",
      "+------------------+\n",
      "only showing top 5 rows\n",
      "\n"
     ]
    }
   ],
   "source": [
    "sample = one_hot_encode_column(sample, \"SKU\")\n",
    "sample.select(\"encodedSKUfeatures\").show(5)"
   ]
  },
  {
   "cell_type": "code",
   "execution_count": 20,
   "metadata": {},
   "outputs": [],
   "source": [
    "# sample.select(\"encodedSKUfeatures\").toPandas().describe()"
   ]
  },
  {
   "cell_type": "markdown",
   "metadata": {},
   "source": [
    "### Location"
   ]
  },
  {
   "cell_type": "code",
   "execution_count": 21,
   "metadata": {},
   "outputs": [
    {
     "name": "stdout",
     "output_type": "stream",
     "text": [
      "+-----------------------+\n",
      "|encodedLocationfeatures|\n",
      "+-----------------------+\n",
      "|          (9,[5],[1.0])|\n",
      "|              (9,[],[])|\n",
      "|          (9,[4],[1.0])|\n",
      "|          (9,[0],[1.0])|\n",
      "|          (9,[6],[1.0])|\n",
      "+-----------------------+\n",
      "only showing top 5 rows\n",
      "\n"
     ]
    }
   ],
   "source": [
    "sample = one_hot_encode_column(sample, \"Location\")\n",
    "sample.select(\"encodedLocationfeatures\").show(5)"
   ]
  },
  {
   "cell_type": "code",
   "execution_count": 22,
   "metadata": {},
   "outputs": [],
   "source": [
    "# sample.select(\"encodedLocationfeatures\").toPandas().describe()"
   ]
  },
  {
   "cell_type": "code",
   "execution_count": 23,
   "metadata": {},
   "outputs": [
    {
     "name": "stdout",
     "output_type": "stream",
     "text": [
      "root\n",
      " |-- Batch_ID: long (nullable = true)\n",
      " |-- Brew_Date: string (nullable = true)\n",
      " |-- Fermentation_Time: long (nullable = true)\n",
      " |-- Temperature: double (nullable = true)\n",
      " |-- pH_Level: double (nullable = true)\n",
      " |-- Gravity: double (nullable = true)\n",
      " |-- Alcohol_Content: double (nullable = true)\n",
      " |-- Bitterness: long (nullable = true)\n",
      " |-- Color: long (nullable = true)\n",
      " |-- Volume_Produced: long (nullable = true)\n",
      " |-- Total_Sales: double (nullable = true)\n",
      " |-- Quality_Score: double (nullable = true)\n",
      " |-- Brewhouse_Efficiency: double (nullable = true)\n",
      " |-- Loss_During_Brewing: double (nullable = true)\n",
      " |-- Loss_During_Fermentation: double (nullable = true)\n",
      " |-- Loss_During_Bottling_Kegging: double (nullable = true)\n",
      " |-- water: double (nullable = true)\n",
      " |-- grains: double (nullable = true)\n",
      " |-- hops: double (nullable = true)\n",
      " |-- USD_per_Liter: double (nullable = true)\n",
      " |-- encodedfermentation_time_binfeatures: vector (nullable = true)\n",
      " |-- encodedBeer_Stylefeatures: vector (nullable = true)\n",
      " |-- encodedSKUfeatures: vector (nullable = true)\n",
      " |-- encodedLocationfeatures: vector (nullable = true)\n",
      "\n"
     ]
    }
   ],
   "source": [
    "sample.printSchema()"
   ]
  },
  {
   "cell_type": "markdown",
   "metadata": {},
   "source": [
    "# Data Exploration"
   ]
  },
  {
   "cell_type": "markdown",
   "metadata": {},
   "source": [
    "## plots"
   ]
  },
  {
   "cell_type": "code",
   "execution_count": 37,
   "metadata": {},
   "outputs": [
    {
     "data": {
      "image/png": "[encoded data removed]",
      "text/plain": [
       "<Figure size 400x300 with 1 Axes>"
      ]
     },
     "metadata": {},
     "output_type": "display_data"
    }
   ],
   "source": [
    "plt.figure(figsize=(4, 3))\n",
    "sns.histplot(data=sample.select(\"USD_per_Liter\").toPandas(), x=\"USD_per_Liter\", kde=True)\n",
    "plt.title(f'Histogram for USD_per_Liter')\n",
    "plt.xlabel(\"USD_per_Liter\")\n",
    "plt.ylabel('Frequency')\n",
    "plt.show()"
   ]
  },
  {
   "cell_type": "markdown",
   "metadata": {},
   "source": [
    "## correlation"
   ]
  },
  {
   "cell_type": "code",
   "execution_count": null,
   "metadata": {},
   "outputs": [],
   "source": [
    "corr_sample = sample.drop(\"water\", \"Batch_ID\",\"encodedBeer_Stylefeatures\", \"encodedSKUfeatures\", \"encodedLocationfeatures\")\n",
    "corr_sample = corr_sample.drop(\"Brew_Date\", \"encodedfermentation_time_binfeatures\")\n",
    "\n",
    "corr_sample.printSchema()"
   ]
  },
  {
   "cell_type": "code",
   "execution_count": null,
   "metadata": {},
   "outputs": [],
   "source": [
    "corr_sample.printSchema()"
   ]
  },
  {
   "cell_type": "code",
   "execution_count": null,
   "metadata": {},
   "outputs": [],
   "source": [
    "corr = corr_sample.toPandas().corr(method='pearson')\n",
    "plt.figure(figsize=(10,10))\n",
    "sns.heatmap(corr, annot=True, cmap='coolwarm', fmt='.2f', linewidths=2)\n",
    "plt.title('Correlation Matrix')\n",
    "plt.show()"
   ]
  },
  {
   "cell_type": "code",
   "execution_count": null,
   "metadata": {},
   "outputs": [],
   "source": [
    "corr = corr_sample.toPandas().corr(method='spearman')\n",
    "plt.figure(figsize=(10,10))\n",
    "sns.heatmap(corr, annot=True, cmap='coolwarm', fmt='.2f', linewidths=2)\n",
    "plt.title('Correlation Matrix')\n",
    "plt.show()"
   ]
  },
  {
   "cell_type": "code",
   "execution_count": null,
   "metadata": {},
   "outputs": [],
   "source": [
    "corr = corr_sample.toPandas().corr(method='kendall')\n",
    "plt.figure(figsize=(10,10))\n",
    "sns.heatmap(corr, annot=True, cmap='coolwarm', fmt='.2f', linewidths=2)\n",
    "plt.title('Correlation Matrix')\n",
    "plt.show()"
   ]
  },
  {
   "cell_type": "markdown",
   "metadata": {},
   "source": [
    "# MachineLearning"
   ]
  },
  {
   "cell_type": "code",
   "execution_count": 26,
   "metadata": {},
   "outputs": [
    {
     "name": "stdout",
     "output_type": "stream",
     "text": [
      "root\n",
      " |-- Batch_ID: long (nullable = true)\n",
      " |-- Brew_Date: string (nullable = true)\n",
      " |-- Fermentation_Time: long (nullable = true)\n",
      " |-- Temperature: double (nullable = true)\n",
      " |-- pH_Level: double (nullable = true)\n",
      " |-- Gravity: double (nullable = true)\n",
      " |-- Alcohol_Content: double (nullable = true)\n",
      " |-- Bitterness: long (nullable = true)\n",
      " |-- Color: long (nullable = true)\n",
      " |-- Volume_Produced: long (nullable = true)\n",
      " |-- Total_Sales: double (nullable = true)\n",
      " |-- Quality_Score: double (nullable = true)\n",
      " |-- Brewhouse_Efficiency: double (nullable = true)\n",
      " |-- Loss_During_Brewing: double (nullable = true)\n",
      " |-- Loss_During_Fermentation: double (nullable = true)\n",
      " |-- Loss_During_Bottling_Kegging: double (nullable = true)\n",
      " |-- water: double (nullable = true)\n",
      " |-- grains: double (nullable = true)\n",
      " |-- hops: double (nullable = true)\n",
      " |-- USD_per_Liter: double (nullable = true)\n",
      " |-- encodedfermentation_time_binfeatures: vector (nullable = true)\n",
      " |-- encodedBeer_Stylefeatures: vector (nullable = true)\n",
      " |-- encodedSKUfeatures: vector (nullable = true)\n",
      " |-- encodedLocationfeatures: vector (nullable = true)\n",
      "\n"
     ]
    }
   ],
   "source": [
    "sample.printSchema()"
   ]
  },
  {
   "cell_type": "code",
   "execution_count": 27,
   "metadata": {},
   "outputs": [
    {
     "name": "stdout",
     "output_type": "stream",
     "text": [
      "+--------+-------------------+-----------------+------------------+-----------------+------------------+-----------------+----------+-----+---------------+------------------+-----------------+--------------------+-------------------+------------------------+----------------------------+-----+------+----+-------------------+------------------------------------+-------------------------+------------------+-----------------------+\n",
      "|Batch_ID|          Brew_Date|Fermentation_Time|       Temperature|         pH_Level|           Gravity|  Alcohol_Content|Bitterness|Color|Volume_Produced|       Total_Sales|    Quality_Score|Brewhouse_Efficiency|Loss_During_Brewing|Loss_During_Fermentation|Loss_During_Bottling_Kegging|water|grains|hops|      USD_per_Liter|encodedfermentation_time_binfeatures|encodedBeer_Stylefeatures|encodedSKUfeatures|encodedLocationfeatures|\n",
      "+--------+-------------------+-----------------+------------------+-----------------+------------------+-----------------+----------+-----+---------------+------------------+-----------------+--------------------+-------------------+------------------------+----------------------------+-----+------+----+-------------------+------------------------------------+-------------------------+------------------+-----------------------+\n",
      "| 8843420|2020-01-01 00:01:51|               13| 21.60546968919005|4.507213419450749|1.0415809900303394| 4.83702482975061|        38|    9|           4949|1082.3549117830858|6.295632960105362|   73.43876487534912| 1.7047005571803084|      1.7187729863809476|          1.0336558740315214|  1.0|  0.45|0.26|0.21870174010569524|                       (2,[0],[1.0])|            (7,[6],[1.0])|     (3,[1],[1.0])|          (9,[5],[1.0])|\n",
      "| 1816588|2020-01-01 00:03:22|               11|22.903972245938505|5.473563790227288|1.0373730025224546| 5.12916808476057|        44|   10|           3377| 13527.91912082282|9.167866793350631|   75.82965914771283|   2.28403754459136|       1.442312900085096|          2.1676876404222445|  1.0|  0.31|0.21|  4.005898466337821|                       (2,[0],[1.0])|            (7,[0],[1.0])|     (3,[0],[1.0])|              (9,[],[])|\n",
      "| 3420320|2020-01-01 00:03:31|               15|17.785713321899884|5.318024913782187|1.0687167841553329|5.406625556398892|        23|    5|           3809| 5925.879914754564|9.181668960937603|   88.37087230231108|  2.583703605893361|      3.1816797935563645|           2.301820283939322|  1.0|  0.23|0.16| 1.5557573942647844|                           (2,[],[])|                (7,[],[])|         (3,[],[])|          (9,[4],[1.0])|\n",
      "| 9790483|2020-01-01 00:10:42|               16|24.869178082298525|4.849521382421813|1.0451318832513898|4.992812931715872|        40|   10|           2436|  4512.73451819818| 8.72165976065684|   88.65599038593423|  1.487622328596904|       4.103369597188115|           3.260870878389481|  1.0|  0.42|0.27| 1.8525182751224056|                           (2,[],[])|            (7,[6],[1.0])|     (3,[2],[1.0])|          (9,[0],[1.0])|\n",
      "| 1709420|2020-01-01 00:12:06|               12|22.629383129373903| 4.77639650569921|1.0305953857694026|5.934652916760902|        38|   19|            960| 15506.14744870443|9.544811705657294|   85.22587157203377| 1.1588221289766367|      2.0246751904794893|           4.977855837624096|  1.0|  0.26|0.11|  16.15223692573378|                       (2,[0],[1.0])|            (7,[2],[1.0])|     (3,[2],[1.0])|          (9,[6],[1.0])|\n",
      "+--------+-------------------+-----------------+------------------+-----------------+------------------+-----------------+----------+-----+---------------+------------------+-----------------+--------------------+-------------------+------------------------+----------------------------+-----+------+----+-------------------+------------------------------------+-------------------------+------------------+-----------------------+\n",
      "only showing top 5 rows\n",
      "\n"
     ]
    }
   ],
   "source": [
    "sample.show(5)"
   ]
  },
  {
   "cell_type": "markdown",
   "metadata": {},
   "source": [
    "## Alcol content"
   ]
  },
  {
   "cell_type": "markdown",
   "metadata": {},
   "source": [
    "### regression"
   ]
  },
  {
   "cell_type": "code",
   "execution_count": 28,
   "metadata": {},
   "outputs": [
    {
     "data": {
      "text/html": [
       "<div>\n",
       "<style scoped>\n",
       "    .dataframe tbody tr th:only-of-type {\n",
       "        vertical-align: middle;\n",
       "    }\n",
       "\n",
       "    .dataframe tbody tr th {\n",
       "        vertical-align: top;\n",
       "    }\n",
       "\n",
       "    .dataframe thead th {\n",
       "        text-align: right;\n",
       "    }\n",
       "</style>\n",
       "<table border=\"1\" class=\"dataframe\">\n",
       "  <thead>\n",
       "    <tr style=\"text-align: right;\">\n",
       "      <th></th>\n",
       "      <th>Alcohol_content</th>\n",
       "    </tr>\n",
       "  </thead>\n",
       "  <tbody>\n",
       "    <tr>\n",
       "      <th>count</th>\n",
       "      <td>1.001591e+06</td>\n",
       "    </tr>\n",
       "    <tr>\n",
       "      <th>mean</th>\n",
       "      <td>5.250250e+00</td>\n",
       "    </tr>\n",
       "    <tr>\n",
       "      <th>std</th>\n",
       "      <td>4.329737e-01</td>\n",
       "    </tr>\n",
       "    <tr>\n",
       "      <th>min</th>\n",
       "      <td>4.500002e+00</td>\n",
       "    </tr>\n",
       "    <tr>\n",
       "      <th>25%</th>\n",
       "      <td>4.875388e+00</td>\n",
       "    </tr>\n",
       "    <tr>\n",
       "      <th>50%</th>\n",
       "      <td>5.250748e+00</td>\n",
       "    </tr>\n",
       "    <tr>\n",
       "      <th>75%</th>\n",
       "      <td>5.625394e+00</td>\n",
       "    </tr>\n",
       "    <tr>\n",
       "      <th>max</th>\n",
       "      <td>5.999999e+00</td>\n",
       "    </tr>\n",
       "  </tbody>\n",
       "</table>\n",
       "</div>"
      ],
      "text/plain": [
       "       Alcohol_content\n",
       "count     1.001591e+06\n",
       "mean      5.250250e+00\n",
       "std       4.329737e-01\n",
       "min       4.500002e+00\n",
       "25%       4.875388e+00\n",
       "50%       5.250748e+00\n",
       "75%       5.625394e+00\n",
       "max       5.999999e+00"
      ]
     },
     "execution_count": 28,
     "metadata": {},
     "output_type": "execute_result"
    }
   ],
   "source": [
    "sample.select(\"Alcohol_content\").toPandas().describe()"
   ]
  },
  {
   "cell_type": "code",
   "execution_count": 29,
   "metadata": {},
   "outputs": [
    {
     "name": "stdout",
     "output_type": "stream",
     "text": [
      "Root Mean Squared Error (RMSE): 0.432971\n",
      "[2.6960514322627025e-05,-0.0002481610979711845,-0.00017465242763680796,-0.011016513853791439,5.779484314346475e-05,1.6857623637812647e-05,0.00017642787952471082,-0.005658811330289977,-0.002150377919696565,-0.0032904768661720873,-0.0034471454217839797,-0.0030279322789531493,-0.001654340705193461,-0.0014432891231469017,-0.0014335642563218626]\n"
     ]
    }
   ],
   "source": [
    "from pyspark.ml.regression import LinearRegression\n",
    "from pyspark.ml.feature import VectorAssembler\n",
    "from pyspark.ml.evaluation import RegressionEvaluator\n",
    "\n",
    "# Feature Preparation\n",
    "features_cols = [\"Fermentation_Time\" ,\"Temperature\", \"pH_Level\" , \"Gravity\", \n",
    "                 \"Bitterness\", \"Color\", \"grains\", \"hops\", \"encodedBeer_Stylefeatures\"]\n",
    "\n",
    "regr_alc_sample = sample.alias(\"regr_alc_sample\")\n",
    "\n",
    "assembler = VectorAssembler(inputCols=features_cols, outputCol=\"features\")\n",
    "df_transformed = assembler.transform(regr_alc_sample)\n",
    "\n",
    "# Linear Regression Model\n",
    "lr = LinearRegression(featuresCol=\"features\", labelCol=\"Alcohol_Content\")\n",
    "lr_model = lr.fit(df_transformed)\n",
    "\n",
    "# Evaluation\n",
    "predictions = lr_model.transform(df_transformed)\n",
    "evaluator = RegressionEvaluator(metricName=\"rmse\", labelCol=\"Alcohol_Content\", predictionCol=\"prediction\")\n",
    "rmse = evaluator.evaluate(predictions)\n",
    "print(\"Root Mean Squared Error (RMSE): %f\" % rmse) \n",
    "\n",
    "# Model Coefficients (Feature Influence)\n",
    "print(lr_model.coefficients) \n"
   ]
  },
  {
   "cell_type": "markdown",
   "metadata": {},
   "source": [
    "Interpreting Results\n",
    "\n",
    "    RMSE: Evaluate the RMSE score. A lower value implies better average accuracy in predicting alcohol content using your features.\n",
    "    \n",
    "    Coefficients: Examine the sign (+/-) and magnitude of each feature's coefficient. These tell you:\n",
    "        Positive Coefficient: Increases in this feature tend to associate with higher 'Alcohol_Content'.\n",
    "        Negative Coefficient: Increases in this feature tend to associate with lower 'Alcohol_Content'.\n",
    "        Magnitude: Larger the value (ignoring the sign), stronger the apparent impact of said feature, linearly speaking.\n"
   ]
  },
  {
   "cell_type": "markdown",
   "metadata": {},
   "source": [
    "Interpreting the Results\n",
    "\n",
    "    RMSE (0.432971): The context is crucial here. To judge whether this RMSE is \"good\" or \"bad,\" consider the natural range of 'Alcohol_Content' values in your dataset.\n",
    "        As a crude example, suppose 'Alcohol_Content' typically varies between 4% and 10%. Then a 0.43 error might be tolerable.\n",
    "        If these alcohol values instead range from 4% to 5%, this same error becomes highly significant.\n",
    "\n",
    "Analyzing Coefficients\n",
    "\n",
    "Here's a breakdown of how to draw inferences from the model's coefficients:\n",
    "\n",
    "    Sign:\n",
    "        Positive coefficients suggest those features tend to be associated with higher alcohol content in your dataset.\n",
    "        Negative coefficients imply an association with lower alcohol content.\n",
    "\n",
    "    Magnitude: The larger the absolute value of a coefficient, the stronger its apparent linear influence on 'Alcohol_Content' is, all else being equal.\n",
    "\n",
    "    Sparseness: Notice several coefficients (especially those for ingredient amounts) are very close to zero. This might mean these have practically negligible linear impact within the range of values encountered in your dataset.\n",
    "\n",
    "Considerations\n",
    "\n",
    "    Statistical Significance: This simple linear regression doesn't provide measures of statistical significance for each coefficient. Techniques exist to estimate confidence intervals, making more robust assertions about feature effect strength."
   ]
  },
  {
   "cell_type": "markdown",
   "metadata": {},
   "source": [
    "### trees"
   ]
  },
  {
   "cell_type": "markdown",
   "metadata": {},
   "source": [
    "udf explanation site: https://sparkbyexamples.com/pyspark/pyspark-udf-user-defined-function/"
   ]
  },
  {
   "cell_type": "code",
   "execution_count": 44,
   "metadata": {},
   "outputs": [
    {
     "name": "stdout",
     "output_type": "stream",
     "text": [
      "+--------------------------------------------------------------------------------------------------------------+\n",
      "|features                                                                                                      |\n",
      "+--------------------------------------------------------------------------------------------------------------+\n",
      "|[13.0,21.60546968919005,4.507213419450749,1.0415809900303394,38.0,9.0,0.45,0.26,0.0,0.0,0.0,0.0,0.0,0.0,1.0]  |\n",
      "|[11.0,22.903972245938505,5.473563790227288,1.0373730025224546,44.0,10.0,0.31,0.21,1.0,0.0,0.0,0.0,0.0,0.0,0.0]|\n",
      "|(15,[0,1,2,3,4,5,6,7],[15.0,17.785713321899884,5.318024913782187,1.0687167841553329,23.0,5.0,0.23,0.16])      |\n",
      "|[16.0,24.869178082298525,4.849521382421813,1.0451318832513898,40.0,10.0,0.42,0.27,0.0,0.0,0.0,0.0,0.0,0.0,1.0]|\n",
      "|[12.0,22.629383129373903,4.77639650569921,1.0305953857694026,38.0,19.0,0.26,0.11,0.0,0.0,1.0,0.0,0.0,0.0,0.0] |\n",
      "|[19.0,22.16253755912976,4.936910740031992,1.0362644599452784,21.0,13.0,0.42,0.28,0.0,0.0,1.0,0.0,0.0,0.0,0.0] |\n",
      "|[12.0,21.08531306745388,4.898951275325849,1.0753330853065317,50.0,5.0,0.25,0.18,0.0,0.0,0.0,0.0,0.0,1.0,0.0]  |\n",
      "|[14.0,24.627174195398503,4.686506092247504,1.035226707318385,38.0,19.0,0.33,0.29,0.0,0.0,0.0,0.0,0.0,1.0,0.0] |\n",
      "|[10.0,19.98238616057116,4.830392434776611,1.0591769314915531,24.0,8.0,0.32,0.3,0.0,0.0,0.0,0.0,1.0,0.0,0.0]   |\n",
      "|[15.0,15.950799547138214,4.981041360364337,1.0574819054183655,34.0,8.0,0.48,0.12,0.0,0.0,1.0,0.0,0.0,0.0,0.0] |\n",
      "|[19.0,21.606980566890734,5.176958540120013,1.0763278796326643,42.0,8.0,0.34,0.19,0.0,0.0,0.0,0.0,0.0,1.0,0.0] |\n",
      "|[14.0,24.29760125474345,5.059213040094015,1.066407554067775,44.0,10.0,0.24,0.22,0.0,0.0,1.0,0.0,0.0,0.0,0.0]  |\n",
      "|[15.0,15.12276859718174,5.36169705504533,1.0590145506994335,24.0,9.0,0.38,0.27,0.0,0.0,0.0,1.0,0.0,0.0,0.0]   |\n",
      "|[10.0,24.63550929550697,5.301039041237528,1.0695258100167189,43.0,13.0,0.4,0.14,0.0,0.0,0.0,0.0,0.0,1.0,0.0]  |\n",
      "|[18.0,18.793309849086143,4.94604033920897,1.0678005092325875,38.0,11.0,0.29,0.22,0.0,1.0,0.0,0.0,0.0,0.0,0.0] |\n",
      "|[14.0,21.973402759778423,4.632978412535182,1.0389140408960151,59.0,12.0,0.3,0.11,0.0,0.0,0.0,1.0,0.0,0.0,0.0] |\n",
      "|[14.0,21.27942480729402,4.520703452815498,1.0670554197688564,30.0,15.0,0.22,0.17,0.0,1.0,0.0,0.0,0.0,0.0,0.0] |\n",
      "|[13.0,16.73400174339125,5.085276609607533,1.0309983092031243,44.0,17.0,0.49,0.13,0.0,0.0,0.0,1.0,0.0,0.0,0.0] |\n",
      "|[16.0,23.44875965604825,4.676128847897197,1.0386277894651108,44.0,18.0,0.44,0.21,0.0,1.0,0.0,0.0,0.0,0.0,0.0] |\n",
      "|[18.0,22.147875760404677,5.330018991092887,1.0407119260190865,51.0,16.0,0.2,0.22,0.0,0.0,0.0,0.0,0.0,1.0,0.0] |\n",
      "+--------------------------------------------------------------------------------------------------------------+\n",
      "only showing top 20 rows\n",
      "\n",
      "Accuracy: 0.336625\n",
      "DecisionTreeClassificationModel: uid=DecisionTreeClassifier_0d5f9661c3a4, depth=5, numNodes=59, numClasses=3, numFeatures=15\n",
      "  If (feature 4 <= 58.5)\n",
      "   If (feature 3 <= 1.0359848966116343)\n",
      "    If (feature 7 <= 0.255)\n",
      "     If (feature 6 <= 0.415)\n",
      "      If (feature 2 <= 4.55183570663908)\n",
      "       Predict: 1.0\n",
      "      Else (feature 2 > 4.55183570663908)\n",
      "       Predict: 2.0\n",
      "     Else (feature 6 > 0.415)\n",
      "      Predict: 2.0\n",
      "    Else (feature 7 > 0.255)\n",
      "     If (feature 4 <= 33.5)\n",
      "      If (feature 3 <= 1.0310301925656429)\n",
      "       Predict: 0.0\n",
      "      Else (feature 3 > 1.0310301925656429)\n",
      "       Predict: 2.0\n",
      "     Else (feature 4 > 33.5)\n",
      "      If (feature 1 <= 23.73172021507273)\n",
      "       Predict: 0.0\n",
      "      Else (feature 1 > 23.73172021507273)\n",
      "       Predict: 1.0\n",
      "   Else (feature 3 > 1.0359848966116343)\n",
      "    If (feature 3 <= 1.0375305868363636)\n",
      "     If (feature 1 <= 16.21405364585099)\n",
      "      If (feature 4 <= 55.5)\n",
      "       Predict: 1.0\n",
      "      Else (feature 4 > 55.5)\n",
      "       Predict: 0.0\n",
      "     Else (feature 1 > 16.21405364585099)\n",
      "      If (feature 4 <= 20.5)\n",
      "       Predict: 0.0\n",
      "      Else (feature 4 > 20.5)\n",
      "       Predict: 1.0\n",
      "    Else (feature 3 > 1.0375305868363636)\n",
      "     If (feature 4 <= 41.5)\n",
      "      If (feature 2 <= 4.933218255900272)\n",
      "       Predict: 1.0\n",
      "      Else (feature 2 > 4.933218255900272)\n",
      "       Predict: 0.0\n",
      "     Else (feature 4 > 41.5)\n",
      "      If (feature 6 <= 0.275)\n",
      "       Predict: 2.0\n",
      "      Else (feature 6 > 0.275)\n",
      "       Predict: 1.0\n",
      "  Else (feature 4 > 58.5)\n",
      "   If (feature 3 <= 1.039079059132032)\n",
      "    If (feature 5 <= 9.5)\n",
      "     If (feature 7 <= 0.20500000000000002)\n",
      "      If (feature 6 <= 0.345)\n",
      "       Predict: 0.0\n",
      "      Else (feature 6 > 0.345)\n",
      "       Predict: 2.0\n",
      "     Else (feature 7 > 0.20500000000000002)\n",
      "      If (feature 3 <= 1.0310301925656429)\n",
      "       Predict: 1.0\n",
      "      Else (feature 3 > 1.0310301925656429)\n",
      "       Predict: 0.0\n",
      "    Else (feature 5 > 9.5)\n",
      "     If (feature 0 <= 11.5)\n",
      "      If (feature 6 <= 0.395)\n",
      "       Predict: 1.0\n",
      "      Else (feature 6 > 0.395)\n",
      "       Predict: 2.0\n",
      "     Else (feature 0 > 11.5)\n",
      "      If (feature 6 <= 0.485)\n",
      "       Predict: 2.0\n",
      "      Else (feature 6 > 0.485)\n",
      "       Predict: 0.0\n",
      "   Else (feature 3 > 1.039079059132032)\n",
      "    If (feature 1 <= 19.337426275300967)\n",
      "     If (feature 3 <= 1.067390957375859)\n",
      "      Predict: 2.0\n",
      "     Else (feature 3 > 1.067390957375859)\n",
      "      If (feature 5 <= 7.5)\n",
      "       Predict: 2.0\n",
      "      Else (feature 5 > 7.5)\n",
      "       Predict: 1.0\n",
      "    Else (feature 1 > 19.337426275300967)\n",
      "     If (feature 0 <= 17.5)\n",
      "      If (feature 6 <= 0.20500000000000002)\n",
      "       Predict: 0.0\n",
      "      Else (feature 6 > 0.20500000000000002)\n",
      "       Predict: 1.0\n",
      "     Else (feature 0 > 17.5)\n",
      "      If (feature 6 <= 0.255)\n",
      "       Predict: 2.0\n",
      "      Else (feature 6 > 0.255)\n",
      "       Predict: 0.0\n",
      "\n"
     ]
    }
   ],
   "source": [
    "from pyspark.ml.classification import DecisionTreeClassifier\n",
    "from pyspark.ml.feature import VectorAssembler\n",
    "from pyspark.ml.evaluation import MulticlassClassificationEvaluator\n",
    "\n",
    "features_cols = [\"Fermentation_Time\" ,\"Temperature\", \"pH_Level\" , \"Gravity\", \n",
    "                 \"Bitterness\", \"Color\", \"grains\", \"hops\", \"encodedBeer_Stylefeatures\"]\n",
    "\n",
    "tree_alc_sample = sample.alias(\"tree_alc_sample\")\n",
    "\n",
    "# Binarizing 'Alcohol_Content'\n",
    "from pyspark.sql.functions import udf\n",
    "\n",
    "def binarize(alcohol_value):\n",
    "    if alcohol_value  <= 5.0:\n",
    "        return \"Low\"\n",
    "    elif alcohol_value <= 5.5:\n",
    "        return \"Medium\"\n",
    "    else:\n",
    "        return \"High\"\n",
    "\n",
    "binarize_udf = udf(binarize, StringType())\n",
    "tree_alc_sample = tree_alc_sample.withColumn(\"Alcohol_Bin\", binarize_udf(\"Alcohol_Content\"))\n",
    "\n",
    "# Encoding 'Alcohol_Bin' this solves the stringtype issue for the onehotencoder\n",
    "tree_alc_sample = tree_alc_sample.withColumn(\"Alcohol_Bin\", \n",
    "                        when(col(\"Alcohol_Bin\") == \"Low\", 0). \n",
    "                        when(col(\"Alcohol_Bin\") == \"Medium\", 1).\n",
    "                        otherwise(2)) \n",
    "\n",
    "# Feature Preparation\n",
    "assembler = VectorAssembler(inputCols=features_cols, outputCol=\"features\")  \n",
    "df_transformed = assembler.transform(tree_alc_sample)\n",
    "\n",
    "# Decision Tree Classifier\n",
    "dt = DecisionTreeClassifier(featuresCol=\"features\", labelCol=\"Alcohol_Bin\")\n",
    "dt_model = dt.fit(df_transformed)\n",
    "\n",
    "# Predictions\n",
    "predictions = dt_model.transform(df_transformed)\n",
    "\n",
    "# Evaluation (For Classification)\n",
    "evaluator = MulticlassClassificationEvaluator(labelCol=\"Alcohol_Bin\", predictionCol=\"prediction\", metricName=\"accuracy\")\n",
    "accuracy = evaluator.evaluate(predictions)\n",
    "print(\"Accuracy: %f\" % accuracy) \n",
    "\n",
    "# Visualization (may need external libraries depending on your setup)\n",
    "print(dt_model.toDebugString) \n"
   ]
  },
  {
   "cell_type": "markdown",
   "metadata": {},
   "source": [
    "# Closing statements"
   ]
  },
  {
   "cell_type": "code",
   "execution_count": null,
   "metadata": {},
   "outputs": [],
   "source": []
  }
 ],
 "metadata": {
  "kernelspec": {
   "display_name": "Python 3",
   "language": "python",
   "name": "python3"
  },
  "language_info": {
   "codemirror_mode": {
    "name": "ipython",
    "version": 3
   },
   "file_extension": ".py",
   "mimetype": "text/x-python",
   "name": "python",
   "nbconvert_exporter": "python",
   "pygments_lexer": "ipython3",
   "version": "3.8.0"
  }
 },
 "nbformat": 4,
 "nbformat_minor": 2
}
