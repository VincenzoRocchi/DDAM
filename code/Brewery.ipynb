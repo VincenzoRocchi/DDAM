{
 "cells": [
  {
   "cell_type": "markdown",
   "metadata": {},
   "source": [
    "# Imports and spark config"
   ]
  },
  {
   "cell_type": "code",
   "execution_count": 1,
   "metadata": {},
   "outputs": [],
   "source": [
    "import pandas as pd\n",
    "from tqdm import tqdm\n",
    "import numpy as np\n",
    "import seaborn as sns\n",
    "import matplotlib.pyplot as plt\n",
    "\n",
    "from pyspark.sql import SparkSession\n",
    "from pyspark.sql import functions as F"
   ]
  },
  {
   "cell_type": "code",
   "execution_count": 2,
   "metadata": {},
   "outputs": [
    {
     "data": {
      "text/html": [
       "\n",
       "            <div>\n",
       "                <p><b>SparkSession - in-memory</b></p>\n",
       "                \n",
       "        <div>\n",
       "            <p><b>SparkContext</b></p>\n",
       "\n",
       "            <p><a href=\"http://localhost:4040\">Spark UI</a></p>\n",
       "\n",
       "            <dl>\n",
       "              <dt>Version</dt>\n",
       "                <dd><code>v3.5.0</code></dd>\n",
       "              <dt>Master</dt>\n",
       "                <dd><code>local[*]</code></dd>\n",
       "              <dt>AppName</dt>\n",
       "                <dd><code>spark</code></dd>\n",
       "            </dl>\n",
       "        </div>\n",
       "        \n",
       "            </div>\n",
       "        "
      ],
      "text/plain": [
       "<pyspark.sql.session.SparkSession at 0x1f85123ff40>"
      ]
     },
     "execution_count": 2,
     "metadata": {},
     "output_type": "execute_result"
    }
   ],
   "source": [
    "spark = SparkSession.builder.appName(\"spark\").getOrCreate()\n",
    "spark"
   ]
  },
  {
   "cell_type": "code",
   "execution_count": 3,
   "metadata": {},
   "outputs": [],
   "source": [
    "spark.conf.set('spark.sql.repl.eagerEval.enabled', True)\n",
    "spark.conf.set('spark.sql.repl.eagerEval.maxNumRows', 5)"
   ]
  },
  {
   "cell_type": "markdown",
   "metadata": {},
   "source": [
    "# Data preparation"
   ]
  },
  {
   "cell_type": "code",
   "execution_count": 4,
   "metadata": {},
   "outputs": [
    {
     "data": {
      "text/plain": [
       "pyspark.sql.dataframe.DataFrame"
      ]
     },
     "execution_count": 4,
     "metadata": {},
     "output_type": "execute_result"
    }
   ],
   "source": [
    "df = spark.read.csv(r\"c:\\Users\\Vincenzo\\PROJECTS\\DDAM_data\\brewery\\brewery_data_complete_extended.csv\", header=True, inferSchema=True)\n",
    "type(df)"
   ]
  },
  {
   "cell_type": "code",
   "execution_count": 5,
   "metadata": {},
   "outputs": [
    {
     "name": "stdout",
     "output_type": "stream",
     "text": [
      "root\n",
      " |-- Batch_ID: integer (nullable = true)\n",
      " |-- Brew_Date: timestamp (nullable = true)\n",
      " |-- Beer_Style: string (nullable = true)\n",
      " |-- SKU: string (nullable = true)\n",
      " |-- Location: string (nullable = true)\n",
      " |-- Fermentation_Time: integer (nullable = true)\n",
      " |-- Temperature: double (nullable = true)\n",
      " |-- pH_Level: double (nullable = true)\n",
      " |-- Gravity: double (nullable = true)\n",
      " |-- Alcohol_Content: double (nullable = true)\n",
      " |-- Bitterness: integer (nullable = true)\n",
      " |-- Color: integer (nullable = true)\n",
      " |-- Ingredient_Ratio: string (nullable = true)\n",
      " |-- Volume_Produced: integer (nullable = true)\n",
      " |-- Total_Sales: double (nullable = true)\n",
      " |-- Quality_Score: double (nullable = true)\n",
      " |-- Brewhouse_Efficiency: double (nullable = true)\n",
      " |-- Loss_During_Brewing: double (nullable = true)\n",
      " |-- Loss_During_Fermentation: double (nullable = true)\n",
      " |-- Loss_During_Bottling_Kegging: double (nullable = true)\n",
      "\n",
      "Dimension of the Dataframe is: (10000000, 20)\n",
      "+--------+-------------------+----------+----+------------+-----------------+------------------+------------------+------------------+-----------------+----------+-----+----------------+---------------+------------------+-----------------+--------------------+-------------------+------------------------+----------------------------+\n",
      "|Batch_ID|          Brew_Date|Beer_Style| SKU|    Location|Fermentation_Time|       Temperature|          pH_Level|           Gravity|  Alcohol_Content|Bitterness|Color|Ingredient_Ratio|Volume_Produced|       Total_Sales|    Quality_Score|Brewhouse_Efficiency|Loss_During_Brewing|Loss_During_Fermentation|Loss_During_Bottling_Kegging|\n",
      "+--------+-------------------+----------+----+------------+-----------------+------------------+------------------+------------------+-----------------+----------+-----+----------------+---------------+------------------+-----------------+--------------------+-------------------+------------------------+----------------------------+\n",
      "| 7870796|2020-01-01 00:00:19|Wheat Beer|Kegs|  Whitefield|               16|24.204250857069873|5.2898454476095615|1.0395041267301979|5.370842159553436|        20|    5|     1:0.32:0.16|           4666|2664.7593448382822| 8.57701633109399|   89.19588216376087| 4.1049876591878345|      3.2354851724654683|           4.663204448186049|\n",
      "| 9810411|2020-01-01 00:00:31|      Sour|Kegs|  Whitefield|               13|18.086762947259544| 5.275643382756193|1.0598189516987164|5.096053082797625|        36|   14|     1:0.39:0.24|            832| 9758.801062471319|7.420540752553908|    72.4809153900275| 2.6765280953921122|      4.2461292104108574|            2.04435836917023|\n",
      "| 2623342|2020-01-01 00:00:40|Wheat Beer|Kegs| Malleswaram|               12|15.539332669116469|4.7780156232459765|1.0374757095487201|4.824737120959184|        30|   10|     1:0.35:0.16|           2115|11721.087016274963|8.451364886803127|   86.32214396020584|  3.299893625514981|       3.109440467362847|          3.0338798378762806|\n",
      "| 8114651|2020-01-01 00:01:37|       Ale|Kegs| Rajajinagar|               17| 16.41848910394318| 5.345260585546188|1.0524314251694946|5.509243080797997|        48|   18|     1:0.35:0.15|           3173|12050.177463190277|9.671859404043175|   83.09494037181545|  2.136055116262562|       4.634254174098425|          1.4898890677148424|\n",
      "| 4579587|2020-01-01 00:01:43|     Stout|Cans|Marathahalli|               18|19.144907654338517|  4.86185374113861|1.0542961149482333|5.133624684263243|        57|   13|     1:0.46:0.11|           4449|5515.0774647529615|7.895333676172065|   88.62583302052388|  4.491723843594972|      2.1833886016455497|          2.9906302188791485|\n",
      "+--------+-------------------+----------+----+------------+-----------------+------------------+------------------+------------------+-----------------+----------+-----+----------------+---------------+------------------+-----------------+--------------------+-------------------+------------------------+----------------------------+\n",
      "only showing top 5 rows\n",
      "\n"
     ]
    }
   ],
   "source": [
    "df.printSchema()\n",
    "rows = df.count()\n",
    "cols = len(df.columns)\n",
    "\n",
    "print(f'Dimension of the Dataframe is: {(rows,cols)}')\n",
    "df.show(5)"
   ]
  },
  {
   "cell_type": "code",
   "execution_count": 6,
   "metadata": {},
   "outputs": [],
   "source": [
    "sample = df.sample(fraction=0.1, seed=42).drop(\"Batch_ID\")"
   ]
  },
  {
   "cell_type": "code",
   "execution_count": 7,
   "metadata": {},
   "outputs": [],
   "source": [
    "summary_stats = sample.toPandas().describe()\n",
    "\n",
    "rounded_describe = np.round(summary_stats, 2)"
   ]
  },
  {
   "cell_type": "code",
   "execution_count": 8,
   "metadata": {},
   "outputs": [
    {
     "data": {
      "text/html": [
       "<div>\n",
       "<style scoped>\n",
       "    .dataframe tbody tr th:only-of-type {\n",
       "        vertical-align: middle;\n",
       "    }\n",
       "\n",
       "    .dataframe tbody tr th {\n",
       "        vertical-align: top;\n",
       "    }\n",
       "\n",
       "    .dataframe thead th {\n",
       "        text-align: right;\n",
       "    }\n",
       "</style>\n",
       "<table border=\"1\" class=\"dataframe\">\n",
       "  <thead>\n",
       "    <tr style=\"text-align: right;\">\n",
       "      <th></th>\n",
       "      <th>Brew_Date</th>\n",
       "      <th>Fermentation_Time</th>\n",
       "      <th>Temperature</th>\n",
       "      <th>pH_Level</th>\n",
       "      <th>Gravity</th>\n",
       "      <th>Alcohol_Content</th>\n",
       "      <th>Bitterness</th>\n",
       "      <th>Color</th>\n",
       "      <th>Volume_Produced</th>\n",
       "      <th>Total_Sales</th>\n",
       "      <th>Quality_Score</th>\n",
       "      <th>Brewhouse_Efficiency</th>\n",
       "      <th>Loss_During_Brewing</th>\n",
       "      <th>Loss_During_Fermentation</th>\n",
       "      <th>Loss_During_Bottling_Kegging</th>\n",
       "    </tr>\n",
       "  </thead>\n",
       "  <tbody>\n",
       "    <tr>\n",
       "      <th>count</th>\n",
       "      <td>1001020</td>\n",
       "      <td>1001020.00</td>\n",
       "      <td>1001020.00</td>\n",
       "      <td>1001020.00</td>\n",
       "      <td>1001020.00</td>\n",
       "      <td>1001020.00</td>\n",
       "      <td>1001020.00</td>\n",
       "      <td>1001020.00</td>\n",
       "      <td>1001020.00</td>\n",
       "      <td>1001020.00</td>\n",
       "      <td>1001020.00</td>\n",
       "      <td>1001020.00</td>\n",
       "      <td>1001020.00</td>\n",
       "      <td>1001020.00</td>\n",
       "      <td>1001020.00</td>\n",
       "    </tr>\n",
       "    <tr>\n",
       "      <th>mean</th>\n",
       "      <td>2022-01-01 09:16:51.822855168</td>\n",
       "      <td>14.50</td>\n",
       "      <td>20.00</td>\n",
       "      <td>5.00</td>\n",
       "      <td>1.05</td>\n",
       "      <td>5.25</td>\n",
       "      <td>39.49</td>\n",
       "      <td>12.01</td>\n",
       "      <td>2750.00</td>\n",
       "      <td>10508.42</td>\n",
       "      <td>8.00</td>\n",
       "      <td>80.01</td>\n",
       "      <td>3.00</td>\n",
       "      <td>3.00</td>\n",
       "      <td>3.00</td>\n",
       "    </tr>\n",
       "    <tr>\n",
       "      <th>min</th>\n",
       "      <td>2020-01-01 00:01:51</td>\n",
       "      <td>10.00</td>\n",
       "      <td>15.00</td>\n",
       "      <td>4.50</td>\n",
       "      <td>1.03</td>\n",
       "      <td>4.50</td>\n",
       "      <td>20.00</td>\n",
       "      <td>5.00</td>\n",
       "      <td>500.00</td>\n",
       "      <td>1000.03</td>\n",
       "      <td>6.00</td>\n",
       "      <td>70.00</td>\n",
       "      <td>1.00</td>\n",
       "      <td>1.00</td>\n",
       "      <td>1.00</td>\n",
       "    </tr>\n",
       "    <tr>\n",
       "      <th>25%</th>\n",
       "      <td>2021-01-01 14:31:35.249999872</td>\n",
       "      <td>12.00</td>\n",
       "      <td>17.50</td>\n",
       "      <td>4.75</td>\n",
       "      <td>1.04</td>\n",
       "      <td>4.87</td>\n",
       "      <td>29.00</td>\n",
       "      <td>8.00</td>\n",
       "      <td>1627.00</td>\n",
       "      <td>5757.84</td>\n",
       "      <td>7.00</td>\n",
       "      <td>75.01</td>\n",
       "      <td>2.00</td>\n",
       "      <td>2.00</td>\n",
       "      <td>2.00</td>\n",
       "    </tr>\n",
       "    <tr>\n",
       "      <th>50%</th>\n",
       "      <td>2022-01-02 03:18:50</td>\n",
       "      <td>14.00</td>\n",
       "      <td>20.00</td>\n",
       "      <td>5.00</td>\n",
       "      <td>1.05</td>\n",
       "      <td>5.25</td>\n",
       "      <td>39.00</td>\n",
       "      <td>12.00</td>\n",
       "      <td>2749.00</td>\n",
       "      <td>10515.93</td>\n",
       "      <td>8.00</td>\n",
       "      <td>80.01</td>\n",
       "      <td>3.00</td>\n",
       "      <td>3.00</td>\n",
       "      <td>3.00</td>\n",
       "    </tr>\n",
       "    <tr>\n",
       "      <th>75%</th>\n",
       "      <td>2023-01-01 13:05:02</td>\n",
       "      <td>17.00</td>\n",
       "      <td>22.50</td>\n",
       "      <td>5.25</td>\n",
       "      <td>1.07</td>\n",
       "      <td>5.62</td>\n",
       "      <td>49.00</td>\n",
       "      <td>16.00</td>\n",
       "      <td>3873.00</td>\n",
       "      <td>15262.87</td>\n",
       "      <td>9.00</td>\n",
       "      <td>85.03</td>\n",
       "      <td>4.00</td>\n",
       "      <td>4.00</td>\n",
       "      <td>4.00</td>\n",
       "    </tr>\n",
       "    <tr>\n",
       "      <th>max</th>\n",
       "      <td>2023-12-31 23:59:54</td>\n",
       "      <td>19.00</td>\n",
       "      <td>25.00</td>\n",
       "      <td>5.50</td>\n",
       "      <td>1.08</td>\n",
       "      <td>6.00</td>\n",
       "      <td>59.00</td>\n",
       "      <td>19.00</td>\n",
       "      <td>4999.00</td>\n",
       "      <td>19999.98</td>\n",
       "      <td>10.00</td>\n",
       "      <td>90.00</td>\n",
       "      <td>5.00</td>\n",
       "      <td>5.00</td>\n",
       "      <td>5.00</td>\n",
       "    </tr>\n",
       "    <tr>\n",
       "      <th>std</th>\n",
       "      <td>NaN</td>\n",
       "      <td>2.87</td>\n",
       "      <td>2.89</td>\n",
       "      <td>0.29</td>\n",
       "      <td>0.01</td>\n",
       "      <td>0.43</td>\n",
       "      <td>11.54</td>\n",
       "      <td>4.32</td>\n",
       "      <td>1298.07</td>\n",
       "      <td>5484.88</td>\n",
       "      <td>1.16</td>\n",
       "      <td>5.78</td>\n",
       "      <td>1.16</td>\n",
       "      <td>1.15</td>\n",
       "      <td>1.15</td>\n",
       "    </tr>\n",
       "  </tbody>\n",
       "</table>\n",
       "</div>"
      ],
      "text/plain": [
       "                           Brew_Date  Fermentation_Time  Temperature  \\\n",
       "count                        1001020         1001020.00   1001020.00   \n",
       "mean   2022-01-01 09:16:51.822855168              14.50        20.00   \n",
       "min              2020-01-01 00:01:51              10.00        15.00   \n",
       "25%    2021-01-01 14:31:35.249999872              12.00        17.50   \n",
       "50%              2022-01-02 03:18:50              14.00        20.00   \n",
       "75%              2023-01-01 13:05:02              17.00        22.50   \n",
       "max              2023-12-31 23:59:54              19.00        25.00   \n",
       "std                              NaN               2.87         2.89   \n",
       "\n",
       "         pH_Level     Gravity  Alcohol_Content  Bitterness       Color  \\\n",
       "count  1001020.00  1001020.00       1001020.00  1001020.00  1001020.00   \n",
       "mean         5.00        1.05             5.25       39.49       12.01   \n",
       "min          4.50        1.03             4.50       20.00        5.00   \n",
       "25%          4.75        1.04             4.87       29.00        8.00   \n",
       "50%          5.00        1.05             5.25       39.00       12.00   \n",
       "75%          5.25        1.07             5.62       49.00       16.00   \n",
       "max          5.50        1.08             6.00       59.00       19.00   \n",
       "std          0.29        0.01             0.43       11.54        4.32   \n",
       "\n",
       "       Volume_Produced  Total_Sales  Quality_Score  Brewhouse_Efficiency  \\\n",
       "count       1001020.00   1001020.00     1001020.00            1001020.00   \n",
       "mean           2750.00     10508.42           8.00                 80.01   \n",
       "min             500.00      1000.03           6.00                 70.00   \n",
       "25%            1627.00      5757.84           7.00                 75.01   \n",
       "50%            2749.00     10515.93           8.00                 80.01   \n",
       "75%            3873.00     15262.87           9.00                 85.03   \n",
       "max            4999.00     19999.98          10.00                 90.00   \n",
       "std            1298.07      5484.88           1.16                  5.78   \n",
       "\n",
       "       Loss_During_Brewing  Loss_During_Fermentation  \\\n",
       "count           1001020.00                1001020.00   \n",
       "mean                  3.00                      3.00   \n",
       "min                   1.00                      1.00   \n",
       "25%                   2.00                      2.00   \n",
       "50%                   3.00                      3.00   \n",
       "75%                   4.00                      4.00   \n",
       "max                   5.00                      5.00   \n",
       "std                   1.16                      1.15   \n",
       "\n",
       "       Loss_During_Bottling_Kegging  \n",
       "count                    1001020.00  \n",
       "mean                           3.00  \n",
       "min                            1.00  \n",
       "25%                            2.00  \n",
       "50%                            3.00  \n",
       "75%                            4.00  \n",
       "max                            5.00  \n",
       "std                            1.15  "
      ]
     },
     "execution_count": 8,
     "metadata": {},
     "output_type": "execute_result"
    }
   ],
   "source": [
    "rounded_describe"
   ]
  },
  {
   "cell_type": "code",
   "execution_count": 9,
   "metadata": {},
   "outputs": [],
   "source": [
    "from pyspark.sql.functions import split, col\n",
    "\n",
    "# Split the ratio_column into three parts based on the colon delimiter\n",
    "split_col = split(col(\"Ingredient_Ratio\"), \":\")\n",
    "\n",
    "# Create three separate columns for water, grains, and hops\n",
    "sample = sample.withColumn(\"water\", split_col.getItem(0).cast(\"float\"))\n",
    "sample = sample.withColumn(\"grains\", split_col.getItem(1).cast(\"float\"))\n",
    "sample = sample.withColumn(\"hops\", split_col.getItem(2).cast(\"float\"))\n",
    "sample = sample.drop(\"Ingredient_Ratio\")\n",
    "# Now you have three separate columns for water, grains, and hops with their respective values"
   ]
  },
  {
   "cell_type": "code",
   "execution_count": 10,
   "metadata": {},
   "outputs": [],
   "source": [
    "# Define a new column with the USD per liter ratio\n",
    "sample = sample.withColumn(\"USD_per_Liter\", F.col(\"Total_Sales\") / F.col(\"Volume_Produced\"))"
   ]
  },
  {
   "cell_type": "code",
   "execution_count": 11,
   "metadata": {},
   "outputs": [
    {
     "name": "stdout",
     "output_type": "stream",
     "text": [
      "Numerical columns: ['Brew_Date', 'Fermentation_Time', 'Temperature', 'pH_Level', 'Gravity', 'Alcohol_Content', 'Bitterness', 'Color', 'Volume_Produced', 'Total_Sales', 'Quality_Score', 'Brewhouse_Efficiency', 'Loss_During_Brewing', 'Loss_During_Fermentation', 'Loss_During_Bottling_Kegging', 'water', 'grains', 'hops', 'USD_per_Liter']\n",
      "Categorical columns: ['Beer_Style', 'SKU', 'Location']\n"
     ]
    }
   ],
   "source": [
    "from pyspark.sql.types import StringType\n",
    "\n",
    "# Identify numerical and non-numerical columns\n",
    "numerical_cols = [col_name for col_name, data_type in sample.dtypes if data_type != 'string']\n",
    "categorical_cols = [col_name for col_name, data_type in sample.dtypes if data_type == 'string']\n",
    "\n",
    "print(f'Numerical columns: {numerical_cols}')\n",
    "print(f'Categorical columns: {categorical_cols}')"
   ]
  },
  {
   "cell_type": "code",
   "execution_count": 12,
   "metadata": {},
   "outputs": [
    {
     "name": "stdout",
     "output_type": "stream",
     "text": [
      "- Brew_Date - 997008 distinct values\n",
      "- Fermentation_Time - 10 distinct values\n",
      "- Temperature - 1001020 distinct values\n",
      "- pH_Level - 1001020 distinct values\n",
      "- Gravity - 1001020 distinct values\n",
      "- Alcohol_Content - 1001020 distinct values\n",
      "- Bitterness - 40 distinct values\n",
      "- Color - 15 distinct values\n",
      "- Volume_Produced - 4500 distinct values\n",
      "- Total_Sales - 1001020 distinct values\n",
      "- Quality_Score - 1001020 distinct values\n",
      "- Brewhouse_Efficiency - 1001020 distinct values\n",
      "- Loss_During_Brewing - 1001020 distinct values\n",
      "- Loss_During_Fermentation - 1001020 distinct values\n",
      "- Loss_During_Bottling_Kegging - 1001020 distinct values\n",
      "- water - 1 distinct values\n",
      "- grains - 31 distinct values\n",
      "- hops - 21 distinct values\n",
      "- USD_per_Liter - 1001020 distinct values\n",
      "{'Brew_Date': 997008, 'Fermentation_Time': 10, 'Temperature': 1001020, 'pH_Level': 1001020, 'Gravity': 1001020, 'Alcohol_Content': 1001020, 'Bitterness': 40, 'Color': 15, 'Volume_Produced': 4500, 'Total_Sales': 1001020, 'Quality_Score': 1001020, 'Brewhouse_Efficiency': 1001020, 'Loss_During_Brewing': 1001020, 'Loss_During_Fermentation': 1001020, 'Loss_During_Bottling_Kegging': 1001020, 'water': 1, 'grains': 31, 'hops': 21, 'USD_per_Liter': 1001020}\n"
     ]
    }
   ],
   "source": [
    "distinct_num_counts = {}\n",
    "\n",
    "for col in numerical_cols:\n",
    "    distinct_count = sample.select(col).distinct().count()\n",
    "    distinct_num_counts[col] = distinct_count\n",
    "\n",
    "    print(f\"- {col} - {distinct_count} distinct values\")\n",
    "\n",
    "print(distinct_num_counts)"
   ]
  },
  {
   "cell_type": "code",
   "execution_count": 13,
   "metadata": {},
   "outputs": [],
   "source": [
    "# for col in numerical_cols:\n",
    "#     print(\" - {} \".format(col) + \" - \" + str(sample.select(col).distinct().count()) + \" distinct values\")"
   ]
  },
  {
   "cell_type": "code",
   "execution_count": 14,
   "metadata": {},
   "outputs": [],
   "source": [
    "# for col in categorical_cols:\n",
    "#     print(\" - {} \".format(col) + \" - \" + str(sample.select(col).distinct().count()) + \" distinct values\")"
   ]
  },
  {
   "cell_type": "code",
   "execution_count": 15,
   "metadata": {},
   "outputs": [
    {
     "name": "stdout",
     "output_type": "stream",
     "text": [
      "- Beer_Style - 8 distinct values\n",
      "- SKU - 4 distinct values\n",
      "- Location - 10 distinct values\n",
      "{'Beer_Style': 8, 'SKU': 4, 'Location': 10}\n"
     ]
    }
   ],
   "source": [
    "distinct_cat_counts = {}\n",
    "\n",
    "for col in categorical_cols:\n",
    "    distinct_count = sample.select(col).distinct().count()\n",
    "    distinct_cat_counts[col] = distinct_count\n",
    "\n",
    "    print(f\"- {col} - {distinct_count} distinct values\")\n",
    "\n",
    "print(distinct_cat_counts)"
   ]
  },
  {
   "cell_type": "markdown",
   "metadata": {},
   "source": [
    "# Data Exploration"
   ]
  },
  {
   "cell_type": "code",
   "execution_count": 16,
   "metadata": {},
   "outputs": [],
   "source": [
    "# small_num_distinct = [col for col in numerical_cols if sample.select(col).distinct().count() <= 10]\n",
    "# print(small_num_distinct)\n",
    "\n",
    "numerical_cols.remove(\"water\")\n",
    "small_num_distinct = ['Fermentation_Time']"
   ]
  },
  {
   "cell_type": "code",
   "execution_count": 17,
   "metadata": {},
   "outputs": [
    {
     "name": "stdout",
     "output_type": "stream",
     "text": [
      "['Brew_Date', 'Fermentation_Time', 'Temperature', 'pH_Level', 'Gravity', 'Alcohol_Content', 'Bitterness', 'Color', 'Volume_Produced', 'Total_Sales', 'Quality_Score', 'Brewhouse_Efficiency', 'Loss_During_Brewing', 'Loss_During_Fermentation', 'Loss_During_Bottling_Kegging', 'grains', 'hops', 'USD_per_Liter']\n"
     ]
    }
   ],
   "source": [
    "histogram = []\n",
    "histogram += [col for col in numerical_cols if col not in small_num_distinct or col != \"water\"]\n",
    "\n",
    "print(histogram)"
   ]
  },
  {
   "cell_type": "code",
   "execution_count": 18,
   "metadata": {},
   "outputs": [],
   "source": [
    "# # Step 2: Plot histograms for numerical columns\n",
    "# for col in numerical_cols:\n",
    "#     plt.figure(figsize=(4, 3))\n",
    "#     sns.histplot(data=sample.select(col).toPandas(), x=col, kde=True)\n",
    "#     plt.title(f'Histogram for {col}')\n",
    "#     plt.xlabel(col)\n",
    "#     plt.ylabel('Frequency')\n",
    "#     plt.show()"
   ]
  },
  {
   "cell_type": "code",
   "execution_count": 19,
   "metadata": {},
   "outputs": [
    {
     "name": "stdout",
     "output_type": "stream",
     "text": [
      "['Beer_Style', 'SKU', 'Location', 'Fermentation_Time']\n"
     ]
    }
   ],
   "source": [
    "# Step 3: Plot bar plots for categorical columns\n",
    "print(categorical_cols + small_num_distinct)"
   ]
  },
  {
   "cell_type": "code",
   "execution_count": 20,
   "metadata": {},
   "outputs": [
    {
     "data": {
      "image/png": "[encoded data removed]",
      "text/plain": [
       "<Figure size 1000x500 with 1 Axes>"
      ]
     },
     "metadata": {},
     "output_type": "display_data"
    }
   ],
   "source": [
    "style_frequency = sample.groupBy(\"Beer_Style\").count().toPandas()\n",
    "\n",
    "plt.figure(figsize=(10, 5))\n",
    "sns.barplot(data=style_frequency, x=\"Beer_Style\", y=\"count\", order=style_frequency.sort_values('count', ascending=False)[\"Beer_Style\"])\n",
    "plt.title('Frequency of Styles')\n",
    "plt.xlabel('Beer_Style')\n",
    "plt.ylabel('Frequency')\n",
    "plt.xticks(rotation=90)\n",
    "plt.show()"
   ]
  },
  {
   "cell_type": "code",
   "execution_count": 21,
   "metadata": {},
   "outputs": [
    {
     "data": {
      "image/png": "[encoded data removed]",
      "text/plain": [
       "<Figure size 1000x500 with 1 Axes>"
      ]
     },
     "metadata": {},
     "output_type": "display_data"
    }
   ],
   "source": [
    "sku_frequency = sample.groupBy(\"SKU\").count().toPandas()\n",
    "\n",
    "plt.figure(figsize=(10, 5))\n",
    "sns.barplot(data=sku_frequency, x=\"SKU\", y=\"count\", order=(sku_frequency.sort_values(by=\"count\", ascending=False))['SKU'])\n",
    "plt.title('Frequency of SKU')\n",
    "plt.xlabel('SKU')\n",
    "plt.ylabel('Frequency')\n",
    "plt.xticks(rotation=90)\n",
    "plt.show()"
   ]
  },
  {
   "cell_type": "code",
   "execution_count": 22,
   "metadata": {},
   "outputs": [
    {
     "data": {
      "image/png": "[encoded data removed]",
      "text/plain": [
       "<Figure size 1000x500 with 1 Axes>"
      ]
     },
     "metadata": {},
     "output_type": "display_data"
    }
   ],
   "source": [
    "location_frequency = df.groupBy(\"Location\").count().toPandas()\n",
    "\n",
    "plt.figure(figsize=(10, 5))\n",
    "sns.barplot(data=location_frequency, x=\"Location\", y=\"count\", order=(location_frequency.sort_values(by=\"count\", ascending=False))['Location'])\n",
    "plt.title('Frequency of Location')\n",
    "plt.xlabel('Location')\n",
    "plt.ylabel('Frequency')\n",
    "plt.xticks(rotation=90)\n",
    "plt.show()"
   ]
  },
  {
   "cell_type": "code",
   "execution_count": 23,
   "metadata": {},
   "outputs": [
    {
     "data": {
      "image/png": "[encoded data removed]",
      "text/plain": [
       "<Figure size 1000x500 with 1 Axes>"
      ]
     },
     "metadata": {},
     "output_type": "display_data"
    }
   ],
   "source": [
    "fermentation_frequency = df.groupBy(\"Fermentation_Time\").count().toPandas()\n",
    "\n",
    "plt.figure(figsize=(10, 5))\n",
    "sns.barplot(data=fermentation_frequency, x=\"Fermentation_Time\", y=\"count\", order=(fermentation_frequency.sort_values(by=\"count\", ascending=False))['Fermentation_Time'])\n",
    "plt.title('Frequency of Fermentation Time')\n",
    "plt.xlabel('Fermentation Time')\n",
    "plt.ylabel('Frequency')\n",
    "plt.xticks(rotation=90)\n",
    "plt.show()\n"
   ]
  },
  {
   "cell_type": "markdown",
   "metadata": {},
   "source": [
    "# Closing statements"
   ]
  },
  {
   "cell_type": "code",
   "execution_count": 25,
   "metadata": {},
   "outputs": [],
   "source": [
    "spark.stop()"
   ]
  },
  {
   "cell_type": "code",
   "execution_count": null,
   "metadata": {},
   "outputs": [],
   "source": []
  }
 ],
 "metadata": {
  "kernelspec": {
   "display_name": "Python 3",
   "language": "python",
   "name": "python3"
  },
  "language_info": {
   "codemirror_mode": {
    "name": "ipython",
    "version": 3
   },
   "file_extension": ".py",
   "mimetype": "text/x-python",
   "name": "python",
   "nbconvert_exporter": "python",
   "pygments_lexer": "ipython3",
   "version": "3.8.0"
  }
 },
 "nbformat": 4,
 "nbformat_minor": 2
}
